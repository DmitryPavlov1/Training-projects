{
 "cells": [
  {
   "cell_type": "markdown",
   "metadata": {},
   "source": [
    "# Исследование пассажирских авиаперевозок"
   ]
  },
  {
   "cell_type": "markdown",
   "metadata": {},
   "source": [
    "## Общие положения"
   ]
  },
  {
   "cell_type": "markdown",
   "metadata": {},
   "source": [
    "**Заказчик** — компания «F9»\n",
    "\n",
    "**Цель исследования** - выявить предпочтения клиентов, покупающих билеты на те или иные направления.\n",
    "\n",
    "**Исходные данные**:\n",
    "- данные по моделям самолетов и кол-ву рейсов в сентябре 2018\n",
    "- данные по городам и среднем кол-ве прибывающих рейсов в день в августе 2018\n",
    "\n",
    "**Дополнительные вопросы, которые интересуют заказчика:**\n",
    "\n",
    "1. Выявить ТОП-10 городов по кол-ву рейсов\n",
    "\n",
    "\n",
    "**Основные шаги:**\n",
    "\n",
    "- Изучение и предобработка данных\n",
    "- Исследовательский анализ данных\n",
    "- Формулировка выводов\n"
   ]
  },
  {
   "cell_type": "markdown",
   "metadata": {},
   "source": [
    "## Изучение и предобработка данных"
   ]
  },
  {
   "cell_type": "code",
   "execution_count": 1,
   "metadata": {},
   "outputs": [],
   "source": [
    "#импорт библиотек\n",
    "import pandas as pd\n",
    "import numpy as np\n",
    "import matplotlib.pyplot as plt\n",
    "import re"
   ]
  },
  {
   "cell_type": "code",
   "execution_count": 2,
   "metadata": {},
   "outputs": [],
   "source": [
    "#чтение файлов\n",
    "try:\n",
    "    df_models = pd.read_csv('/datasets/query_1.csv')\n",
    "except:\n",
    "    df_models = pd.read_csv('C:/Users/au31894/Desktop/Программирование/Исходные данные/query_1.csv')\n",
    "\n",
    "try:\n",
    "    df_cities = pd.read_csv('/datasets/query_3.csv')\n",
    "except:\n",
    "    df_cities = pd.read_csv('C:/Users/au31894/Desktop/Программирование/Исходные данные/query_3.csv')"
   ]
  },
  {
   "cell_type": "code",
   "execution_count": 3,
   "metadata": {},
   "outputs": [
    {
     "name": "stdout",
     "output_type": "stream",
     "text": [
      "<class 'pandas.core.frame.DataFrame'>\n",
      "RangeIndex: 8 entries, 0 to 7\n",
      "Data columns (total 2 columns):\n",
      "model             8 non-null object\n",
      "flights_amount    8 non-null int64\n",
      "dtypes: int64(1), object(1)\n",
      "memory usage: 256.0+ bytes\n"
     ]
    },
    {
     "data": {
      "text/plain": [
       "None"
      ]
     },
     "metadata": {},
     "output_type": "display_data"
    },
    {
     "name": "stdout",
     "output_type": "stream",
     "text": [
      "<class 'pandas.core.frame.DataFrame'>\n",
      "RangeIndex: 101 entries, 0 to 100\n",
      "Data columns (total 2 columns):\n",
      "city               101 non-null object\n",
      "average_flights    101 non-null float64\n",
      "dtypes: float64(1), object(1)\n",
      "memory usage: 1.7+ KB\n"
     ]
    },
    {
     "data": {
      "text/plain": [
       "None"
      ]
     },
     "metadata": {},
     "output_type": "display_data"
    },
    {
     "data": {
      "text/html": [
       "<div>\n",
       "<style scoped>\n",
       "    .dataframe tbody tr th:only-of-type {\n",
       "        vertical-align: middle;\n",
       "    }\n",
       "\n",
       "    .dataframe tbody tr th {\n",
       "        vertical-align: top;\n",
       "    }\n",
       "\n",
       "    .dataframe thead th {\n",
       "        text-align: right;\n",
       "    }\n",
       "</style>\n",
       "<table border=\"1\" class=\"dataframe\">\n",
       "  <thead>\n",
       "    <tr style=\"text-align: right;\">\n",
       "      <th></th>\n",
       "      <th>model</th>\n",
       "      <th>flights_amount</th>\n",
       "    </tr>\n",
       "  </thead>\n",
       "  <tbody>\n",
       "    <tr>\n",
       "      <td>0</td>\n",
       "      <td>Airbus A319-100</td>\n",
       "      <td>607</td>\n",
       "    </tr>\n",
       "    <tr>\n",
       "      <td>1</td>\n",
       "      <td>Airbus A321-200</td>\n",
       "      <td>960</td>\n",
       "    </tr>\n",
       "    <tr>\n",
       "      <td>2</td>\n",
       "      <td>Boeing 737-300</td>\n",
       "      <td>630</td>\n",
       "    </tr>\n",
       "    <tr>\n",
       "      <td>3</td>\n",
       "      <td>Boeing 767-300</td>\n",
       "      <td>600</td>\n",
       "    </tr>\n",
       "    <tr>\n",
       "      <td>4</td>\n",
       "      <td>Boeing 777-300</td>\n",
       "      <td>300</td>\n",
       "    </tr>\n",
       "    <tr>\n",
       "      <td>5</td>\n",
       "      <td>Bombardier CRJ-200</td>\n",
       "      <td>4446</td>\n",
       "    </tr>\n",
       "    <tr>\n",
       "      <td>6</td>\n",
       "      <td>Cessna 208 Caravan</td>\n",
       "      <td>4557</td>\n",
       "    </tr>\n",
       "    <tr>\n",
       "      <td>7</td>\n",
       "      <td>Sukhoi SuperJet-100</td>\n",
       "      <td>4185</td>\n",
       "    </tr>\n",
       "  </tbody>\n",
       "</table>\n",
       "</div>"
      ],
      "text/plain": [
       "                 model  flights_amount\n",
       "0      Airbus A319-100             607\n",
       "1      Airbus A321-200             960\n",
       "2       Boeing 737-300             630\n",
       "3       Boeing 767-300             600\n",
       "4       Boeing 777-300             300\n",
       "5   Bombardier CRJ-200            4446\n",
       "6   Cessna 208 Caravan            4557\n",
       "7  Sukhoi SuperJet-100            4185"
      ]
     },
     "metadata": {},
     "output_type": "display_data"
    }
   ],
   "source": [
    "#изучение данных - проверка пропусков\n",
    "display(df_models.info())\n",
    "display(df_cities.info())\n",
    "\n",
    "display(df_models)"
   ]
  },
  {
   "cell_type": "markdown",
   "metadata": {},
   "source": [
    "#### Комментарий\n",
    "Среди моделей самолетов, помимо распространенных Boeing, Airbus, Sukhoi Superject есть менее известные модели - bombardier и cessna и кол-во их рейсов достаточно высокое."
   ]
  },
  {
   "cell_type": "code",
   "execution_count": 4,
   "metadata": {},
   "outputs": [
    {
     "name": "stdout",
     "output_type": "stream",
     "text": [
      "Уникальные значения\n",
      "Bombardier CRJ-200     1\n",
      "Cessna 208 Caravan     1\n",
      "Sukhoi SuperJet-100    1\n",
      "Airbus A321-200        1\n",
      "Boeing 737-300         1\n",
      "Airbus A319-100        1\n",
      "Boeing 767-300         1\n",
      "Boeing 777-300         1\n",
      "Name: model, dtype: int64\n",
      "Уникальные значения\n",
      "607     1\n",
      "4446    1\n",
      "4557    1\n",
      "300     1\n",
      "4185    1\n",
      "600     1\n",
      "630     1\n",
      "960     1\n",
      "Name: flights_amount, dtype: int64\n",
      "Уникальные значения\n",
      "Курск          1\n",
      "Псков          1\n",
      "Новосибирск    1\n",
      "Улан-Удэ       1\n",
      "Элиста         1\n",
      "              ..\n",
      "Краснодар      1\n",
      "Самара         1\n",
      "Омск           1\n",
      "Ставрополь     1\n",
      "Братск         1\n",
      "Name: city, Length: 101, dtype: int64\n",
      "Уникальные значения\n",
      "1.000000      12\n",
      "2.000000       9\n",
      "3.000000       7\n",
      "4.000000       4\n",
      "2.290323       3\n",
      "2.612903       2\n",
      "3.290323       2\n",
      "6.000000       2\n",
      "5.000000       2\n",
      "4.290323       2\n",
      "5.870968       2\n",
      "3.419355       2\n",
      "6.032258       2\n",
      "2.580645       2\n",
      "6.290323       2\n",
      "2.161290       2\n",
      "3.870968       1\n",
      "17.322581      1\n",
      "1.580645       1\n",
      "8.419355       1\n",
      "4.129032       1\n",
      "1.357143       1\n",
      "4.580645       1\n",
      "5.129032       1\n",
      "2.451613       1\n",
      "31.161290      1\n",
      "6.709677       1\n",
      "1.294118       1\n",
      "4.193548       1\n",
      "9.000000       1\n",
      "9.612903       1\n",
      "3.161290       1\n",
      "8.741935       1\n",
      "10.000000      1\n",
      "129.774194     1\n",
      "6.548387       1\n",
      "1.548387       1\n",
      "7.741935       1\n",
      "3.903226       1\n",
      "3.129032       1\n",
      "1.590909       1\n",
      "6.967742       1\n",
      "1.322581       1\n",
      "1.129032       1\n",
      "9.580645       1\n",
      "2.870968       1\n",
      "3.741935       1\n",
      "2.032258       1\n",
      "8.290323       1\n",
      "5.354839       1\n",
      "10.129032      1\n",
      "1.608696       1\n",
      "4.870968       1\n",
      "1.277778       1\n",
      "10.193548      1\n",
      "1.387097       1\n",
      "2.741935       1\n",
      "11.580645      1\n",
      "2.590909       1\n",
      "11.322581      1\n",
      "Name: average_flights, dtype: int64\n"
     ]
    }
   ],
   "source": [
    "#просмотр уникальных значений\n",
    "for col in df_models:\n",
    "    print('Уникальные значения')\n",
    "    print(df_models[col].value_counts()) \n",
    "    \n",
    "for col in df_cities:\n",
    "    print('Уникальные значения')\n",
    "    print(df_cities[col].value_counts()) "
   ]
  },
  {
   "cell_type": "code",
   "execution_count": 5,
   "metadata": {},
   "outputs": [
    {
     "data": {
      "text/plain": [
       "0"
      ]
     },
     "metadata": {},
     "output_type": "display_data"
    },
    {
     "data": {
      "text/plain": [
       "0"
      ]
     },
     "metadata": {},
     "output_type": "display_data"
    }
   ],
   "source": [
    "#перевод текстовых значений в нижний регистр и проверка дубликатов\n",
    "df_models['model'] = df_models['model'].str.lower()\n",
    "df_cities['city'] = df_cities['city'].str.lower()\n",
    "display(df_models.duplicated().sum())\n",
    "display(df_cities.duplicated().sum())"
   ]
  },
  {
   "cell_type": "markdown",
   "metadata": {},
   "source": [
    "### Вывод\n",
    "- Пропусков в данных нет\n",
    "- Типы данных корректны\n",
    "- Среди моделей самолетов с рейсами присутствуют как модели крупных авиастроительных гигантов (Airbus, Boeing, Sukhoi), так и самолеты для региональных перевозок Bombardier CRJ-200 и легкие одномоторные самолеты cessna 208 caravan"
   ]
  },
  {
   "cell_type": "markdown",
   "metadata": {},
   "source": [
    "## Исследовательский анализ данных"
   ]
  },
  {
   "cell_type": "code",
   "execution_count": 6,
   "metadata": {},
   "outputs": [
    {
     "data": {
      "image/png": "[encoded data removed]",
      "text/plain": [
       "<Figure size 1440x576 with 1 Axes>"
      ]
     },
     "metadata": {
      "needs_background": "light"
     },
     "output_type": "display_data"
    }
   ],
   "source": [
    "#график по городам\n",
    "df_cities = df_cities.sort_values(by = 'average_flights', ascending = False)\n",
    "fig, ax = plt.subplots()\n",
    "ax.bar(df_cities['city'], df_cities['average_flights'])\n",
    "fig.set_size_inches(20, 8)\n",
    "ax.set_xlabel('город')\n",
    "ax.set_ylabel('среднее кол-во полетов')\n",
    "ax.tick_params(labelrotation = 90, labelsize = 10)\n",
    "ax.set(title='Среднее кол-во прибывающих рейсов по городам')\n",
    "plt.show()\n",
    "#df_cities.plot(kind = 'bar', x = 'city', y='average_flights', figsize = (20,8),  title = 'Среднее кол-во рейсов по городам')"
   ]
  },
  {
   "cell_type": "code",
   "execution_count": 7,
   "metadata": {},
   "outputs": [
    {
     "data": {
      "text/html": [
       "<div>\n",
       "<style scoped>\n",
       "    .dataframe tbody tr th:only-of-type {\n",
       "        vertical-align: middle;\n",
       "    }\n",
       "\n",
       "    .dataframe tbody tr th {\n",
       "        vertical-align: top;\n",
       "    }\n",
       "\n",
       "    .dataframe thead th {\n",
       "        text-align: right;\n",
       "    }\n",
       "</style>\n",
       "<table border=\"1\" class=\"dataframe\">\n",
       "  <thead>\n",
       "    <tr style=\"text-align: right;\">\n",
       "      <th></th>\n",
       "      <th>city</th>\n",
       "      <th>average_flights</th>\n",
       "    </tr>\n",
       "  </thead>\n",
       "  <tbody>\n",
       "    <tr>\n",
       "      <td>43</td>\n",
       "      <td>москва</td>\n",
       "      <td>129.774194</td>\n",
       "    </tr>\n",
       "    <tr>\n",
       "      <td>70</td>\n",
       "      <td>санкт-петербург</td>\n",
       "      <td>31.161290</td>\n",
       "    </tr>\n",
       "    <tr>\n",
       "      <td>54</td>\n",
       "      <td>новосибирск</td>\n",
       "      <td>17.322581</td>\n",
       "    </tr>\n",
       "    <tr>\n",
       "      <td>33</td>\n",
       "      <td>красноярск</td>\n",
       "      <td>11.580645</td>\n",
       "    </tr>\n",
       "    <tr>\n",
       "      <td>20</td>\n",
       "      <td>екатеринбург</td>\n",
       "      <td>11.322581</td>\n",
       "    </tr>\n",
       "    <tr>\n",
       "      <td>67</td>\n",
       "      <td>ростов-на-дону</td>\n",
       "      <td>10.193548</td>\n",
       "    </tr>\n",
       "    <tr>\n",
       "      <td>63</td>\n",
       "      <td>пермь</td>\n",
       "      <td>10.129032</td>\n",
       "    </tr>\n",
       "    <tr>\n",
       "      <td>10</td>\n",
       "      <td>брянск</td>\n",
       "      <td>10.000000</td>\n",
       "    </tr>\n",
       "    <tr>\n",
       "      <td>74</td>\n",
       "      <td>сочи</td>\n",
       "      <td>9.612903</td>\n",
       "    </tr>\n",
       "    <tr>\n",
       "      <td>84</td>\n",
       "      <td>ульяновск</td>\n",
       "      <td>9.580645</td>\n",
       "    </tr>\n",
       "  </tbody>\n",
       "</table>\n",
       "</div>"
      ],
      "text/plain": [
       "               city  average_flights\n",
       "43           москва       129.774194\n",
       "70  санкт-петербург        31.161290\n",
       "54      новосибирск        17.322581\n",
       "33       красноярск        11.580645\n",
       "20     екатеринбург        11.322581\n",
       "67   ростов-на-дону        10.193548\n",
       "63            пермь        10.129032\n",
       "10           брянск        10.000000\n",
       "74             сочи         9.612903\n",
       "84        ульяновск         9.580645"
      ]
     },
     "metadata": {},
     "output_type": "display_data"
    }
   ],
   "source": [
    "# выгрузка TOP10 городов\n",
    "df_cities_TOP10 = df_cities.sort_values(by = 'average_flights', ascending = False).head(10)\n",
    "display(df_cities_TOP10)"
   ]
  },
  {
   "cell_type": "code",
   "execution_count": 16,
   "metadata": {},
   "outputs": [
    {
     "data": {
      "text/html": [
       "<div>\n",
       "<style scoped>\n",
       "    .dataframe tbody tr th:only-of-type {\n",
       "        vertical-align: middle;\n",
       "    }\n",
       "\n",
       "    .dataframe tbody tr th {\n",
       "        vertical-align: top;\n",
       "    }\n",
       "\n",
       "    .dataframe thead th {\n",
       "        text-align: right;\n",
       "    }\n",
       "</style>\n",
       "<table border=\"1\" class=\"dataframe\">\n",
       "  <thead>\n",
       "    <tr style=\"text-align: right;\">\n",
       "      <th></th>\n",
       "      <th>кол-во рейсов</th>\n",
       "    </tr>\n",
       "    <tr>\n",
       "      <th>manufacturer</th>\n",
       "      <th></th>\n",
       "    </tr>\n",
       "  </thead>\n",
       "  <tbody>\n",
       "    <tr>\n",
       "      <td>airbus</td>\n",
       "      <td>1567</td>\n",
       "    </tr>\n",
       "    <tr>\n",
       "      <td>boeing</td>\n",
       "      <td>1530</td>\n",
       "    </tr>\n",
       "    <tr>\n",
       "      <td>bombardier</td>\n",
       "      <td>4446</td>\n",
       "    </tr>\n",
       "    <tr>\n",
       "      <td>cessna</td>\n",
       "      <td>4557</td>\n",
       "    </tr>\n",
       "    <tr>\n",
       "      <td>sukhoi</td>\n",
       "      <td>4185</td>\n",
       "    </tr>\n",
       "  </tbody>\n",
       "</table>\n",
       "</div>"
      ],
      "text/plain": [
       "              кол-во рейсов\n",
       "manufacturer               \n",
       "airbus                 1567\n",
       "boeing                 1530\n",
       "bombardier             4446\n",
       "cessna                 4557\n",
       "sukhoi                 4185"
      ]
     },
     "metadata": {},
     "output_type": "display_data"
    },
    {
     "data": {
      "image/png": "[encoded data removed]",
      "text/plain": [
       "<Figure size 432x288 with 1 Axes>"
      ]
     },
     "metadata": {},
     "output_type": "display_data"
    }
   ],
   "source": [
    "# объединение самолетов по производителям\n",
    "# функция добавления столбца производителя по первому слову из строки \n",
    "def manufacturer(row):\n",
    "        producer = re.search('\\w+', row).group()\n",
    "        return producer    \n",
    "df_models['manufacturer'] = df_models['model'].apply(manufacturer)\n",
    "\n",
    "#грппировка по производителю и суммирование рейсов\n",
    "df_models_consolidated = df_models[['flights_amount', 'manufacturer']].groupby('manufacturer').sum()\n",
    "df_models_consolidated.columns = ['кол-во рейсов']\n",
    "display(df_models_consolidated)\n",
    "\n",
    "#круговая диаграмма по рейсам в разрезе производителей\n",
    "df_models_consolidated.plot(y='кол-во рейсов', kind='pie', autopct='%1.1f%%')\n",
    "plt.legend(loc='center left', bbox_to_anchor=(1.25, 0.5), ncol=1)\n",
    "plt.title('Доли авиапроизводителей по кол-ву рейсов их моделей самолетов')\n",
    "plt.show()"
   ]
  },
  {
   "cell_type": "code",
   "execution_count": 9,
   "metadata": {},
   "outputs": [
    {
     "data": {
      "image/png": "[encoded data removed]",
      "text/plain": [
       "<Figure size 1440x576 with 1 Axes>"
      ]
     },
     "metadata": {
      "needs_background": "light"
     },
     "output_type": "display_data"
    }
   ],
   "source": [
    "# график по TOP10 городам\n",
    "fig, ax = plt.subplots()\n",
    "ax.bar(df_cities_TOP10['city'], df_cities_TOP10['average_flights'])\n",
    "fig.set_size_inches(20, 8)\n",
    "ax.set_xlabel('город')\n",
    "ax.set_ylabel('среднее кол-во полетов')\n",
    "ax.set(title='Среднее кол-во прибывающих рейсов по городам')\n",
    "plt.show()"
   ]
  },
  {
   "cell_type": "markdown",
   "metadata": {},
   "source": [
    "### Вывод\n",
    "**Города**\n",
    "\n",
    "В TOP10 городов по среднему кол-ву прибывающих рейсов первые места занимают: Москва и Санкт-Петербург - столицы с большим кол-вом международных направлений. Далее следуют города-миллионеры Новосибирск, Красноярск, Екатеринбург, Ростов-на-Дону, Пермь. \n",
    "\n",
    "Судя по тому, что в TOP3 из миллионников со значительным отрывом от остальных входит Новосибирск то, можно предположить, что компанией предпочитают пользоваться клиенты вылетающие в Сибирь (что характерно для реальной компании с созвучным названием, имеющей хаб в Новосибирске)\n",
    "\n",
    "**Самолеты**\n",
    "\n",
    "Модели используемых самолетов по рейсам можно условно разделить на три группы 40% (ближне и среднемагистральные самолеты Boeing, Airbus, Sukhoi), региональные самолеты (Bombardier) около 30% и легкие самолеты для местных коротких перелетов (Cessna)"
   ]
  },
  {
   "cell_type": "markdown",
   "metadata": {},
   "source": [
    "## Общий вывод"
   ]
  },
  {
   "cell_type": "markdown",
   "metadata": {},
   "source": [
    "### Резюме по подготовке данных"
   ]
  },
  {
   "cell_type": "markdown",
   "metadata": {},
   "source": [
    "- Пропусков в данных не обнаружено\n",
    "- Типы данных корректны"
   ]
  },
  {
   "cell_type": "markdown",
   "metadata": {},
   "source": [
    "### Результаты исследования"
   ]
  },
  {
   "cell_type": "markdown",
   "metadata": {},
   "source": [
    "- В TOP3 городов по предпочтениям клиентов входят: Москва, Санкт-Петербург и Новосибирск со значительной разницей в среднем кол-ве. Далее среднее кол-во рейсов убывает достаточно плавно.\n",
    "- По моделям около 60% перелетов приходится на региональные и местные рейсы с соответствующими моделями самолетов Bombardier и Cessna\n",
    "- Среди ближне- и среднемагистральных моделей преобладает Sukhoi SuperJet-100 (25,7%), а доли Boeing и Airbus примерно равны (около 9,5% каждый)"
   ]
  },
  {
   "cell_type": "markdown",
   "metadata": {},
   "source": [
    "### Рекомендации"
   ]
  },
  {
   "cell_type": "markdown",
   "metadata": {},
   "source": [
    "Целесообразно обратить внимание на достаточно высокую долю легких моделей самолетов Cessna для коротких перелетов (30%) для более глубокого анализа предпочтений клиентов и направлений их использований."
   ]
  }
 ],
 "metadata": {
  "kernelspec": {
   "display_name": "Python 3",
   "language": "python",
   "name": "python3"
  },
  "language_info": {
   "codemirror_mode": {
    "name": "ipython",
    "version": 3
   },
   "file_extension": ".py",
   "mimetype": "text/x-python",
   "name": "python",
   "nbconvert_exporter": "python",
   "pygments_lexer": "ipython3",
   "version": "3.7.4"
  },
  "toc": {
   "base_numbering": 1,
   "nav_menu": {},
   "number_sections": true,
   "sideBar": true,
   "skip_h1_title": true,
   "title_cell": "Table of Contents",
   "title_sidebar": "Contents",
   "toc_cell": false,
   "toc_position": {},
   "toc_section_display": true,
   "toc_window_display": false
  }
 },
 "nbformat": 4,
 "nbformat_minor": 2
}
