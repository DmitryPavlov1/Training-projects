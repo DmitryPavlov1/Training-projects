{
 "cells": [
  {
   "cell_type": "markdown",
   "metadata": {},
   "source": [
    "# Определение перспективного тарифа для оператора сотовой связи"
   ]
  },
  {
   "cell_type": "markdown",
   "metadata": {},
   "source": [
    "## Общие положения"
   ]
  },
  {
   "cell_type": "markdown",
   "metadata": {},
   "source": [
    "**Заказчик** — коммерческий департамент оператора сотовой связи.\n",
    "\n",
    "**Цель исследования** - определить какой из двух тарифных планов( Смарт и Ультра) приносит больше денег для оптимизации рекламного бюджета.\n",
    "\n",
    "**Исходные данные** — описание тарифов и данные по выборке из 500 пользователей за 2018 год.\n",
    "\n",
    "**Дополнительные вопросы, которые интересуют заказчика:**\n",
    "\n",
    "1. Сколько минут разговора, сколько сообщений и какой объём интернет-трафика требуется пользователям каждого тарифа в месяц?\n",
    "2. Отличается ли средняя выручка пользователей из Москвы  от выручки пользователей из других регионов?\n",
    "\n",
    "\n",
    "**Основные шаги:**\n",
    "\n",
    "- Изучение данных\n",
    "- Работа с типами данных\n",
    "- Расчет показателей по пользователям\n",
    "- Анализ данных\n",
    "- Формулировки и проверка гипотез\n",
    "- Формулировка выводов\n"
   ]
  },
  {
   "cell_type": "markdown",
   "metadata": {},
   "source": [
    "### Описание тарифов"
   ]
  },
  {
   "cell_type": "markdown",
   "metadata": {},
   "source": [
    "**Тариф «Смарт»**\n",
    "1. \tЕжемесячная плата: 550 рублей\n",
    "2.\tВключено 500 минут разговора, 50 сообщений и 15 Гб интернет-трафика\n",
    "3.\tСтоимость услуг сверх тарифного пакета:\n",
    "    - минута разговора: 3 рубля\n",
    "    - сообщение: 3 рубля\n",
    "    - 1 Гб интернет-трафика: 200 рублей\n",
    "\n",
    "**Тариф «Ультра»**\n",
    "1.\tЕжемесячная плата: 1950 рублей\n",
    "2.\tВключено 3000 минут разговора, 1000 сообщений и 30 Гб интернет-трафика\n",
    "3.\tСтоимость услуг сверх тарифного пакета:\n",
    "    - минута разговора: 1 рубль\n",
    "    - сообщение: 1 рубль\n",
    "    - 1 Гб интернет-трафика: 150 рублей\n",
    "\n",
    "**!** «Мегалайн» всегда округляет вверх значения минут и мегабайтов. Если пользователь проговорил всего 1 секунду, в тарифе засчитывается целая минута."
   ]
  },
  {
   "cell_type": "markdown",
   "metadata": {},
   "source": [
    "### Описание данных"
   ]
  },
  {
   "cell_type": "markdown",
   "metadata": {},
   "source": [
    "**Таблица users (информация о пользователях - /datasets/users.csv):**\n",
    "- user_id — уникальный идентификатор пользователя\n",
    "- first_name — имя пользователя\n",
    "- last_name — фамилия пользователя\n",
    "- age — возраст пользователя (годы)\n",
    "- reg_date — дата подключения тарифа (день, месяц, год)\n",
    "- churn_date — дата прекращения пользования тарифом (если значение пропущено, то тариф ещё действовал на момент выгрузки данных)\n",
    "- city — город проживания пользователя\n",
    "- tariff — название тарифного плана\n",
    "\n",
    "**Таблица calls (информация о звонках- /datasets/calls.csv):**\n",
    "- id — уникальный номер звонка\n",
    "- call_date — дата звонка\n",
    "- duration — длительность звонка в минутах\n",
    "- user_id — идентификатор пользователя, сделавшего звонок\n",
    "\n",
    "**Таблица messages (информация о сообщениях - /datasets/messages.csv):**\n",
    "- id — уникальный номер сообщения\n",
    "- message_date — дата сообщения\n",
    "- user_id — идентификатор пользователя, отправившего сообщение\n",
    "\n",
    "**Таблица internet (информация об интернет-сессиях - \t/datasets/internet.csv):**\n",
    "- id — уникальный номер сессии\n",
    "- mb_used — объём потраченного за сессию интернет-трафика (в мегабайтах)\n",
    "- session_date — дата интернет-сессии\n",
    "- user_id — идентификатор пользователя\n",
    "\n",
    "**Таблица tariffs (информация о тарифах - /datasets/tariffs.csv):**\n",
    "- tariff_name — название тарифа\n",
    "- rub_monthly_fee — ежемесячная абонентская плата в рублях\n",
    "- minutes_included — количество минут разговора в месяц, включённых в абонентскую плату\n",
    "- messages_included — количество сообщений в месяц, включённых в абонентскую плату\n",
    "- mb_per_month_included — объём интернет-трафика, включённого в абонентскую плату (в мегабайтах)\n",
    "- rub_per_minute — стоимость минуты разговора сверх тарифного пакета (например, если в тарифе 100 минут разговора в месяц, то со 101 минуты будет взиматься плата)\n",
    "- rub_per_message — стоимость отправки сообщения сверх тарифного пакета\n",
    "- rub_per_gb — стоимость дополнительного гигабайта интернет-трафика сверх тарифного пакета (1 гигабайт = 1024 мегабайта)\n"
   ]
  },
  {
   "cell_type": "markdown",
   "metadata": {},
   "source": [
    "## Изучение данных"
   ]
  },
  {
   "cell_type": "code",
   "execution_count": 6,
   "metadata": {},
   "outputs": [
    {
     "name": "stdout",
     "output_type": "stream",
     "text": [
      "Данные по пользователям\n",
      "   user_id  age churn_date         city first_name  last_name    reg_date  \\\n",
      "0     1000   52        NaN    Краснодар     Рафаил  Верещагин  2018-05-25   \n",
      "1     1001   41        NaN       Москва       Иван       Ежов  2018-11-01   \n",
      "2     1002   59        NaN  Стерлитамак    Евгений  Абрамович  2018-06-17   \n",
      "3     1003   23        NaN       Москва      Белла   Белякова  2018-08-17   \n",
      "4     1004   68        NaN  Новокузнецк    Татьяна   Авдеенко  2018-05-14   \n",
      "\n",
      "  tariff  \n",
      "0  ultra  \n",
      "1  smart  \n",
      "2  smart  \n",
      "3  ultra  \n",
      "4  ultra  \n",
      "<class 'pandas.core.frame.DataFrame'>\n",
      "RangeIndex: 500 entries, 0 to 499\n",
      "Data columns (total 8 columns):\n",
      "user_id       500 non-null int64\n",
      "age           500 non-null int64\n",
      "churn_date    38 non-null object\n",
      "city          500 non-null object\n",
      "first_name    500 non-null object\n",
      "last_name     500 non-null object\n",
      "reg_date      500 non-null object\n",
      "tariff        500 non-null object\n",
      "dtypes: int64(2), object(6)\n",
      "memory usage: 31.4+ KB\n",
      "None\n",
      "0\n",
      "\n",
      "Данные по звонкам\n",
      "       id   call_date  duration  user_id\n",
      "0  1000_0  2018-07-25      0.00     1000\n",
      "1  1000_1  2018-08-17      0.00     1000\n",
      "2  1000_2  2018-06-11      2.85     1000\n",
      "3  1000_3  2018-09-21     13.80     1000\n",
      "4  1000_4  2018-12-15      5.18     1000\n",
      "<class 'pandas.core.frame.DataFrame'>\n",
      "RangeIndex: 202607 entries, 0 to 202606\n",
      "Data columns (total 4 columns):\n",
      "id           202607 non-null object\n",
      "call_date    202607 non-null object\n",
      "duration     202607 non-null float64\n",
      "user_id      202607 non-null int64\n",
      "dtypes: float64(1), int64(1), object(2)\n",
      "memory usage: 6.2+ MB\n",
      "None\n",
      "0\n",
      "\n",
      "Данные по сообщениям\n",
      "       id message_date  user_id\n",
      "0  1000_0   2018-06-27     1000\n",
      "1  1000_1   2018-10-08     1000\n",
      "2  1000_2   2018-08-04     1000\n",
      "3  1000_3   2018-06-16     1000\n",
      "4  1000_4   2018-12-05     1000\n",
      "<class 'pandas.core.frame.DataFrame'>\n",
      "RangeIndex: 123036 entries, 0 to 123035\n",
      "Data columns (total 3 columns):\n",
      "id              123036 non-null object\n",
      "message_date    123036 non-null object\n",
      "user_id         123036 non-null int64\n",
      "dtypes: int64(1), object(2)\n",
      "memory usage: 2.8+ MB\n",
      "None\n",
      "0\n",
      "\n",
      "Даннные по интернету\n",
      "   Unnamed: 0      id  mb_used session_date  user_id\n",
      "0           0  1000_0   112.95   2018-11-25     1000\n",
      "1           1  1000_1  1052.81   2018-09-07     1000\n",
      "2           2  1000_2  1197.26   2018-06-25     1000\n",
      "3           3  1000_3   550.27   2018-08-22     1000\n",
      "4           4  1000_4   302.56   2018-09-24     1000\n",
      "<class 'pandas.core.frame.DataFrame'>\n",
      "RangeIndex: 149396 entries, 0 to 149395\n",
      "Data columns (total 5 columns):\n",
      "Unnamed: 0      149396 non-null int64\n",
      "id              149396 non-null object\n",
      "mb_used         149396 non-null float64\n",
      "session_date    149396 non-null object\n",
      "user_id         149396 non-null int64\n",
      "dtypes: float64(1), int64(2), object(2)\n",
      "memory usage: 5.7+ MB\n",
      "None\n",
      "0\n",
      "\n",
      "Даннные по тарифам\n",
      "   messages_included  mb_per_month_included  minutes_included  \\\n",
      "0                 50                  15360               500   \n",
      "1               1000                  30720              3000   \n",
      "\n",
      "   rub_monthly_fee  rub_per_gb  rub_per_message  rub_per_minute tariff_name  \n",
      "0              550         200                3               3       smart  \n",
      "1             1950         150                1               1       ultra  \n",
      "<class 'pandas.core.frame.DataFrame'>\n",
      "RangeIndex: 2 entries, 0 to 1\n",
      "Data columns (total 8 columns):\n",
      "messages_included        2 non-null int64\n",
      "mb_per_month_included    2 non-null int64\n",
      "minutes_included         2 non-null int64\n",
      "rub_monthly_fee          2 non-null int64\n",
      "rub_per_gb               2 non-null int64\n",
      "rub_per_message          2 non-null int64\n",
      "rub_per_minute           2 non-null int64\n",
      "tariff_name              2 non-null object\n",
      "dtypes: int64(7), object(1)\n",
      "memory usage: 256.0+ bytes\n",
      "None\n"
     ]
    }
   ],
   "source": [
    "#импорт библиотек\n",
    "import pandas as pd\n",
    "import numpy as np\n",
    "import matplotlib.pyplot as plt\n",
    "from scipy import stats as st\n",
    "\n",
    "#чтение файлов\n",
    "try:\n",
    "    df_users = pd.read_csv('/datasets/users.csv')\n",
    "except:\n",
    "    df_users = pd.read_csv('C:/Users/au31894/Desktop/Программирование/Исходные данные/users.csv')\n",
    "\n",
    "try:\n",
    "    df_calls = pd.read_csv('/datasets/calls.csv')\n",
    "except:\n",
    "    df_calls = pd.read_csv('C:/Users/au31894/Desktop/Программирование/Исходные данные/calls.csv')\n",
    "    \n",
    "try:\n",
    "    df_messages = pd.read_csv('/datasets/messages.csv')\n",
    "except:\n",
    "    df_messages = pd.read_csv('C:/Users/au31894/Desktop/Программирование/Исходные данные/messages.csv')\n",
    "    \n",
    "try:\n",
    "    df_internet = pd.read_csv('/datasets/internet.csv')\n",
    "except:\n",
    "    df_internet = pd.read_csv('C:/Users/au31894/Desktop/Программирование/Исходные данные/internet.csv')\n",
    "    \n",
    "try:\n",
    "    df_tariffs = pd.read_csv('/datasets/tariffs.csv')\n",
    "except:\n",
    "    df_tariffs = pd.read_csv('C:/Users/au31894/Desktop/Программирование/Исходные данные/tariffs.csv')\n",
    "#вывод 5 строк из каждой таблицы\n",
    "print('Данные по пользователям')\n",
    "print(df_users.head())\n",
    "print(df_users.info())\n",
    "print(df_users.duplicated().sum())\n",
    "print()\n",
    "print('Данные по звонкам')\n",
    "print(df_calls.head())\n",
    "print(df_calls.info())\n",
    "print(df_calls.duplicated().sum())\n",
    "print()\n",
    "print('Данные по сообщениям')\n",
    "print(df_messages.head())\n",
    "print(df_messages.info())\n",
    "print(df_messages.duplicated().sum())\n",
    "print()\n",
    "print('Даннные по интернету')\n",
    "print(df_internet.head())\n",
    "print(df_internet.info())\n",
    "print(df_internet.duplicated().sum())\n",
    "print()\n",
    "print('Даннные по тарифам')\n",
    "print(df_tariffs.head())\n",
    "print(df_tariffs.info())"
   ]
  },
  {
   "cell_type": "code",
   "execution_count": 2,
   "metadata": {},
   "outputs": [
    {
     "name": "stdout",
     "output_type": "stream",
     "text": [
      "Уникальные значения\n",
      "1023    1\n",
      "1194    1\n",
      "1181    1\n",
      "1182    1\n",
      "1183    1\n",
      "       ..\n",
      "1362    1\n",
      "1363    1\n",
      "1364    1\n",
      "1365    1\n",
      "1024    1\n",
      "Name: user_id, Length: 500, dtype: int64\n",
      "Уникальные значения\n",
      "53    14\n",
      "42    14\n",
      "63    13\n",
      "71    13\n",
      "64    13\n",
      "73    12\n",
      "21    12\n",
      "40    12\n",
      "39    11\n",
      "47    11\n",
      "29    11\n",
      "26    11\n",
      "37    11\n",
      "41    10\n",
      "36    10\n",
      "58    10\n",
      "45    10\n",
      "70    10\n",
      "52    10\n",
      "51     9\n",
      "27     9\n",
      "48     9\n",
      "50     9\n",
      "28     9\n",
      "30     9\n",
      "24     9\n",
      "20     9\n",
      "19     9\n",
      "56     9\n",
      "23     9\n",
      "68     9\n",
      "66     9\n",
      "65     9\n",
      "69     8\n",
      "62     8\n",
      "60     8\n",
      "44     8\n",
      "55     8\n",
      "25     7\n",
      "43     7\n",
      "67     7\n",
      "35     7\n",
      "74     7\n",
      "32     7\n",
      "31     7\n",
      "46     7\n",
      "75     6\n",
      "54     6\n",
      "59     6\n",
      "18     6\n",
      "33     5\n",
      "34     5\n",
      "38     5\n",
      "22     5\n",
      "72     5\n",
      "49     4\n",
      "57     4\n",
      "61     3\n",
      "Name: age, dtype: int64\n",
      "Уникальные значения\n",
      "2018-10-14    2\n",
      "2018-12-03    2\n",
      "2018-10-03    2\n",
      "2018-12-21    2\n",
      "2018-12-09    2\n",
      "2018-10-05    1\n",
      "2018-12-30    1\n",
      "2018-08-17    1\n",
      "2018-11-21    1\n",
      "2018-10-25    1\n",
      "2018-12-25    1\n",
      "2018-11-13    1\n",
      "2018-12-20    1\n",
      "2018-12-24    1\n",
      "2018-11-30    1\n",
      "2018-12-26    1\n",
      "2018-09-27    1\n",
      "2018-10-27    1\n",
      "2018-08-31    1\n",
      "2018-12-11    1\n",
      "2018-09-02    1\n",
      "2018-11-07    1\n",
      "2018-10-28    1\n",
      "2018-11-27    1\n",
      "2018-12-18    1\n",
      "2018-12-14    1\n",
      "2018-12-23    1\n",
      "2018-12-16    1\n",
      "2018-11-16    1\n",
      "2018-09-26    1\n",
      "2018-10-04    1\n",
      "2018-11-22    1\n",
      "2018-11-26    1\n",
      "Name: churn_date, dtype: int64\n",
      "Уникальные значения\n",
      "Москва             99\n",
      "Санкт-Петербург    39\n",
      "Новосибирск        16\n",
      "Омск               14\n",
      "Казань             14\n",
      "                   ..\n",
      "Нижневартовск       1\n",
      "Подольск            1\n",
      "Архангельск         1\n",
      "Иваново             1\n",
      "Химки               1\n",
      "Name: city, Length: 76, dtype: int64\n",
      "Уникальные значения\n",
      "Радим       6\n",
      "Пётр        5\n",
      "Леонид      5\n",
      "Кристина    4\n",
      "Всеволод    4\n",
      "           ..\n",
      "Роза        1\n",
      "Рената      1\n",
      "Людмила     1\n",
      "Саида       1\n",
      "Лейла       1\n",
      "Name: first_name, Length: 246, dtype: int64\n",
      "Уникальные значения\n",
      "Андреенко     5\n",
      "Анищенко      3\n",
      "Булгаков      3\n",
      "Аркадьев      3\n",
      "Озерова       3\n",
      "             ..\n",
      "Шарапова      1\n",
      "Авросинова    1\n",
      "Чернышев      1\n",
      "Селезнев      1\n",
      "Ёрохова       1\n",
      "Name: last_name, Length: 419, dtype: int64\n",
      "Уникальные значения\n",
      "2018-05-28    8\n",
      "2018-07-16    5\n",
      "2018-01-04    5\n",
      "2018-04-03    5\n",
      "2018-10-05    5\n",
      "             ..\n",
      "2018-01-05    1\n",
      "2018-03-15    1\n",
      "2018-11-13    1\n",
      "2018-05-12    1\n",
      "2018-04-25    1\n",
      "Name: reg_date, Length: 270, dtype: int64\n",
      "Уникальные значения\n",
      "smart    351\n",
      "ultra    149\n",
      "Name: tariff, dtype: int64\n",
      "     user_id  age churn_date          city first_name last_name    reg_date  \\\n",
      "236     1236   30        NaN        Москва       Леон   Демидов  2018-12-22   \n",
      "413     1413   37        NaN   Новосибирск       Леон    Фролов  2018-08-19   \n",
      "423     1423   50        NaN     Астрахань       Леон     Силин  2018-01-23   \n",
      "459     1459   31        NaN  Магнитогорск       Леон    Ёрохов  2018-10-10   \n",
      "\n",
      "    tariff  \n",
      "236  smart  \n",
      "413  smart  \n",
      "423  smart  \n",
      "459  smart  \n",
      "0\n",
      "   user_id  age churn_date         city first_name  last_name    reg_date  \\\n",
      "0     1000   52        NaN    краснодар     рафаил  верещагин  2018-05-25   \n",
      "1     1001   41        NaN       москва       иван       ежов  2018-11-01   \n",
      "2     1002   59        NaN  стерлитамак    евгений  абрамович  2018-06-17   \n",
      "3     1003   23        NaN       москва      белла   белякова  2018-08-17   \n",
      "4     1004   68        NaN  новокузнецк    татьяна   авдеенко  2018-05-14   \n",
      "\n",
      "  tariff  \n",
      "0  ultra  \n",
      "1  smart  \n",
      "2  smart  \n",
      "3  ultra  \n",
      "4  ultra  \n",
      "Просмотр уникальных значений по длительности разговора:\n",
      "0.00     39613\n",
      "4.49       142\n",
      "5.50       142\n",
      "6.15       141\n",
      "6.38       141\n",
      "         ...  \n",
      "27.02        1\n",
      "26.19        1\n",
      "25.34        1\n",
      "27.13        1\n",
      "24.28        1\n",
      "Name: duration, Length: 2871, dtype: int64\n"
     ]
    }
   ],
   "source": [
    "#просмотр уникальных значений\n",
    "for col in df_users:\n",
    "    print('Уникальные значения')\n",
    "    print(df_users[col].value_counts()) \n",
    "#проверка на дубликаты по необычным именам + перевод тестовых значений в нижний регистр и проверка дубликатов\n",
    "print(df_users.query('first_name == \"Леон\"'))\n",
    "df_users['city'] = df_users['city'].str.lower()\n",
    "df_users['first_name'] = df_users['first_name'].str.lower()\n",
    "df_users['last_name'] = df_users['last_name'].str.lower() \n",
    "print(df_users.duplicated().sum())         \n",
    "print(df_users.head())    \n",
    "\n",
    "print('Просмотр уникальных значений по длительности разговора:')\n",
    "print(df_calls['duration'].value_counts())"
   ]
  },
  {
   "cell_type": "markdown",
   "metadata": {},
   "source": [
    "### Вывод\n",
    "- В выборке у 351 клиента тариф смарт, а у 149 - ультра\n",
    "- Полных дубликатов не обнаружено. \n",
    "- Пропуски только по дате прекращения действия тарифа, т.е. тариф у таких клиентов действует на момент выгрузки\n",
    "- Необходимо изменить тип данных для дат (object --> datatime), а длительность разговоров и интернет-трафика округлить до целых вверх и перевести из float в int.\n",
    "- Перед анализом данных целесообразно учитывать также расход трафика в гигабайтах, т.к. тарификация происходит в них\n",
    "- Есть много 0 минут разговора, возможно это пропущенные звонки, это искажает кол-во реальных звонков, но первоочередной задачей является определение длительности, сообщений, трафика и выручки по ним, то в рамках данного исследования эти нулевые значения можно оставить без изменений."
   ]
  },
  {
   "cell_type": "markdown",
   "metadata": {},
   "source": [
    "## Изменение типов данных"
   ]
  },
  {
   "cell_type": "code",
   "execution_count": 3,
   "metadata": {},
   "outputs": [
    {
     "name": "stdout",
     "output_type": "stream",
     "text": [
      "<class 'pandas.core.frame.DataFrame'>\n",
      "RangeIndex: 500 entries, 0 to 499\n",
      "Data columns (total 8 columns):\n",
      "user_id       500 non-null int64\n",
      "age           500 non-null int64\n",
      "churn_date    38 non-null datetime64[ns]\n",
      "city          500 non-null object\n",
      "first_name    500 non-null object\n",
      "last_name     500 non-null object\n",
      "reg_date      500 non-null datetime64[ns]\n",
      "tariff        500 non-null object\n",
      "dtypes: datetime64[ns](2), int64(2), object(4)\n",
      "memory usage: 31.4+ KB\n",
      "None\n",
      "<class 'pandas.core.frame.DataFrame'>\n",
      "RangeIndex: 202607 entries, 0 to 202606\n",
      "Data columns (total 5 columns):\n",
      "id           202607 non-null object\n",
      "call_date    202607 non-null datetime64[ns]\n",
      "duration     202607 non-null float64\n",
      "user_id      202607 non-null int64\n",
      "month        202607 non-null int64\n",
      "dtypes: datetime64[ns](1), float64(1), int64(2), object(1)\n",
      "memory usage: 7.7+ MB\n",
      "None\n",
      "<class 'pandas.core.frame.DataFrame'>\n",
      "RangeIndex: 123036 entries, 0 to 123035\n",
      "Data columns (total 4 columns):\n",
      "id              123036 non-null object\n",
      "message_date    123036 non-null datetime64[ns]\n",
      "user_id         123036 non-null int64\n",
      "month           123036 non-null int64\n",
      "dtypes: datetime64[ns](1), int64(2), object(1)\n",
      "memory usage: 3.8+ MB\n",
      "None\n",
      "<class 'pandas.core.frame.DataFrame'>\n",
      "RangeIndex: 149396 entries, 0 to 149395\n",
      "Data columns (total 6 columns):\n",
      "Unnamed: 0      149396 non-null int64\n",
      "id              149396 non-null object\n",
      "mb_used         149396 non-null float64\n",
      "session_date    149396 non-null datetime64[ns]\n",
      "user_id         149396 non-null int64\n",
      "month           149396 non-null int64\n",
      "dtypes: datetime64[ns](1), float64(1), int64(3), object(1)\n",
      "memory usage: 6.8+ MB\n",
      "None\n",
      "       id  call_date  duration  user_id  month\n",
      "0  1000_0 2018-07-25         0     1000      7\n",
      "1  1000_1 2018-08-17         0     1000      8\n",
      "2  1000_2 2018-06-11         3     1000      6\n",
      "3  1000_3 2018-09-21        14     1000      9\n",
      "4  1000_4 2018-12-15         6     1000     12\n",
      "   Unnamed: 0      id  mb_used session_date  user_id  month\n",
      "0           0  1000_0      113   2018-11-25     1000     11\n",
      "1           1  1000_1     1053   2018-09-07     1000      9\n",
      "2           2  1000_2     1198   2018-06-25     1000      6\n",
      "3           3  1000_3      551   2018-08-22     1000      8\n",
      "4           4  1000_4      303   2018-09-24     1000      9\n"
     ]
    }
   ],
   "source": [
    "#смена типа данных у дат и добавление столбца с месяцем\n",
    "df_users['reg_date'] = pd.to_datetime(df_users['reg_date'], format= '%Y-%m-%d')\n",
    "df_users['churn_date'] = pd.to_datetime(df_users['churn_date'], format= '%Y-%m-%d')\n",
    "df_calls['call_date'] = pd.to_datetime(df_calls['call_date'], format= '%Y-%m-%d')\n",
    "df_calls['month'] = df_calls['call_date'].dt.month\n",
    "df_messages['message_date'] = pd.to_datetime(df_messages['message_date'], format= '%Y-%m-%d')\n",
    "df_messages['month'] = df_messages['message_date'].dt.month\n",
    "df_internet['session_date'] = pd.to_datetime(df_internet['session_date'], format= '%Y-%m-%d')\n",
    "df_internet['month'] = df_internet['session_date'].dt.month\n",
    "\n",
    "print(df_users.info())\n",
    "print(df_calls.info())\n",
    "print(df_messages.info())\n",
    "print(df_internet.info())\n",
    "\n",
    "#округление длительности разговора и интернет-трафика до целых и перевод в тип int\n",
    "df_calls['duration'] = np.ceil(df_calls['duration']).astype('int')\n",
    "df_internet['mb_used'] = np.ceil(df_internet['mb_used']).astype('int')\n",
    "print(df_calls.head(5))\n",
    "print(df_internet.head(5))"
   ]
  },
  {
   "cell_type": "markdown",
   "metadata": {},
   "source": [
    "### Комментарий\n",
    "Типы данных изменены, округление вверх для длительности звонков в минутах и интернет-трафику в мб применены. Теперь необходимо подсчитать показатели: кол-во звонков, минут, сообщений, мб и выручку по пользователям."
   ]
  },
  {
   "cell_type": "markdown",
   "metadata": {},
   "source": [
    "## Расчет показателей по пользователям"
   ]
  },
  {
   "cell_type": "markdown",
   "metadata": {},
   "source": [
    "### Расчет и агрегирование показателей"
   ]
  },
  {
   "cell_type": "code",
   "execution_count": 11,
   "metadata": {
    "scrolled": true
   },
   "outputs": [
    {
     "name": "stdout",
     "output_type": "stream",
     "text": [
      "   user_id  month  minutes_sum  calls_qty\n",
      "0     1000      5          159         22\n",
      "1     1000      6          172         43\n",
      "2     1000      7          340         47\n",
      "3     1000      8          408         52\n",
      "4     1000      9          466         58\n",
      "   user_id  month  messages_qty\n",
      "0     1000      5            22\n",
      "1     1000      6            60\n",
      "2     1000      7            75\n",
      "3     1000      8            81\n",
      "4     1000      9            57\n",
      "   user_id  month  mb_sum\n",
      "0     1000      5    2256\n",
      "1     1000      6   23257\n",
      "2     1000      7   14016\n",
      "3     1000      8   14070\n",
      "4     1000      9   14581\n",
      "<class 'pandas.core.frame.DataFrame'>\n",
      "RangeIndex: 3174 entries, 0 to 3173\n",
      "Data columns (total 4 columns):\n",
      "user_id        3174 non-null int64\n",
      "month          3174 non-null int64\n",
      "minutes_sum    3174 non-null int64\n",
      "calls_qty      3174 non-null int64\n",
      "dtypes: int64(4)\n",
      "memory usage: 99.3 KB\n",
      "None\n",
      "<class 'pandas.core.frame.DataFrame'>\n",
      "RangeIndex: 2717 entries, 0 to 2716\n",
      "Data columns (total 3 columns):\n",
      "user_id         2717 non-null int64\n",
      "month           2717 non-null int64\n",
      "messages_qty    2717 non-null int64\n",
      "dtypes: int64(3)\n",
      "memory usage: 63.8 KB\n",
      "None\n",
      "<class 'pandas.core.frame.DataFrame'>\n",
      "RangeIndex: 3203 entries, 0 to 3202\n",
      "Data columns (total 3 columns):\n",
      "user_id    3203 non-null int64\n",
      "month      3203 non-null int64\n",
      "mb_sum     3203 non-null int64\n",
      "dtypes: int64(3)\n",
      "memory usage: 75.2 KB\n",
      "None\n",
      "<class 'pandas.core.frame.DataFrame'>\n",
      "RangeIndex: 500 entries, 0 to 499\n",
      "Data columns (total 3 columns):\n",
      "user_id    500 non-null int64\n",
      "tariff     500 non-null object\n",
      "city       500 non-null object\n",
      "dtypes: int64(1), object(2)\n",
      "memory usage: 11.8+ KB\n",
      "None\n",
      "user_id                    0\n",
      "month                      0\n",
      "mb_sum                    11\n",
      "minutes_sum               40\n",
      "calls_qty                 40\n",
      "messages_qty             497\n",
      "tariff_name                0\n",
      "city                       0\n",
      "messages_included          0\n",
      "mb_per_month_included      0\n",
      "minutes_included           0\n",
      "rub_monthly_fee            0\n",
      "rub_per_gb                 0\n",
      "rub_per_message            0\n",
      "rub_per_minute             0\n",
      "dtype: int64\n",
      "   user_id  month  mb_sum  minutes_sum  calls_qty  messages_qty tariff_name  \\\n",
      "0     1000      5    2256          159         22            22       ultra   \n",
      "1     1000      6   23257          172         43            60       ultra   \n",
      "2     1000      7   14016          340         47            75       ultra   \n",
      "3     1000      8   14070          408         52            81       ultra   \n",
      "4     1000      9   14581          466         58            57       ultra   \n",
      "\n",
      "        city  messages_included  mb_per_month_included  minutes_included  \\\n",
      "0  краснодар               1000                  30720              3000   \n",
      "1  краснодар               1000                  30720              3000   \n",
      "2  краснодар               1000                  30720              3000   \n",
      "3  краснодар               1000                  30720              3000   \n",
      "4  краснодар               1000                  30720              3000   \n",
      "\n",
      "   rub_monthly_fee  rub_per_gb  rub_per_message  rub_per_minute  \n",
      "0             1950         150                1               1  \n",
      "1             1950         150                1               1  \n",
      "2             1950         150                1               1  \n",
      "3             1950         150                1               1  \n",
      "4             1950         150                1               1  \n",
      "<class 'pandas.core.frame.DataFrame'>\n",
      "Int64Index: 3214 entries, 0 to 3213\n",
      "Data columns (total 15 columns):\n",
      "user_id                  3214 non-null int64\n",
      "month                    3214 non-null int64\n",
      "mb_sum                   3214 non-null int64\n",
      "minutes_sum              3214 non-null int64\n",
      "calls_qty                3214 non-null int64\n",
      "messages_qty             3214 non-null int64\n",
      "tariff_name              3214 non-null object\n",
      "city                     3214 non-null object\n",
      "messages_included        3214 non-null int64\n",
      "mb_per_month_included    3214 non-null int64\n",
      "minutes_included         3214 non-null int64\n",
      "rub_monthly_fee          3214 non-null int64\n",
      "rub_per_gb               3214 non-null int64\n",
      "rub_per_message          3214 non-null int64\n",
      "rub_per_minute           3214 non-null int64\n",
      "dtypes: int64(13), object(2)\n",
      "memory usage: 401.8+ KB\n",
      "498\n",
      "     user_id  month  mb_sum  minutes_sum  calls_qty  messages_qty tariff_name  \\\n",
      "159     1024     11   43146         1146        157             0       ultra   \n",
      "172     1026     11   12204          469         61            48       smart   \n",
      "340     1054     12   19398          595         91            62       smart   \n",
      "408     1064     10   22260          277         44            46       smart   \n",
      "466     1072     11   21961          494         67            25       smart   \n",
      "..       ...    ...     ...          ...        ...           ...         ...   \n",
      "272     1044     10   14532          338         51            16       smart   \n",
      "260     1042     12   37219          728        121            75       smart   \n",
      "179     1027      9   19011          388         61            10       smart   \n",
      "13      1002      9   16712          206         36             4       smart   \n",
      "50      1006     10   19722          267         44             0       smart   \n",
      "\n",
      "                city  messages_included  mb_per_month_included  \\\n",
      "159  санкт-петербург               1000                  30720   \n",
      "172         мурманск                 50                  15360   \n",
      "340             омск                 50                  15360   \n",
      "408           якутск                 50                  15360   \n",
      "466              уфа                 50                  15360   \n",
      "..               ...                ...                    ...   \n",
      "272           рязань                 50                  15360   \n",
      "260        хабаровск                 50                  15360   \n",
      "179     петрозаводск                 50                  15360   \n",
      "13       стерлитамак                 50                  15360   \n",
      "50         ульяновск                 50                  15360   \n",
      "\n",
      "     minutes_included  rub_monthly_fee  rub_per_gb  rub_per_message  \\\n",
      "159              3000             1950         150                1   \n",
      "172               500              550         200                3   \n",
      "340               500              550         200                3   \n",
      "408               500              550         200                3   \n",
      "466               500              550         200                3   \n",
      "..                ...              ...         ...              ...   \n",
      "272               500              550         200                3   \n",
      "260               500              550         200                3   \n",
      "179               500              550         200                3   \n",
      "13                500              550         200                3   \n",
      "50                500              550         200                3   \n",
      "\n",
      "     rub_per_minute  \n",
      "159               1  \n",
      "172               3  \n",
      "340               3  \n",
      "408               3  \n",
      "466               3  \n",
      "..              ...  \n",
      "272               3  \n",
      "260               3  \n",
      "179               3  \n",
      "13                3  \n",
      "50                3  \n",
      "\n",
      "[3214 rows x 15 columns]\n"
     ]
    }
   ],
   "source": [
    "# расчет кол-ва звонков и их длительности по id_пользователей по месяцам\n",
    "calls_pivot = df_calls.pivot_table(index=['user_id', 'month'], values='duration', aggfunc=['sum', 'count'])\n",
    "calls_pivot.columns = ['minutes_sum', 'calls_qty']\n",
    "calls_pivot = calls_pivot.reset_index()\n",
    "print(calls_pivot.head())\n",
    "# расчет кол-ва сообщений по id пользователей по месяцам\n",
    "messages_pivot = df_messages.pivot_table(index=['user_id', 'month'], values='id', aggfunc=['count'])\n",
    "messages_pivot.columns = ['messages_qty']\n",
    "messages_pivot = messages_pivot.reset_index()\n",
    "print(messages_pivot.head())\n",
    "# расчет кол-ва мегабайт по id пользователей по месяцам\n",
    "mb_pivot = df_internet.pivot_table(index=['user_id', 'month'], values='mb_used', aggfunc=['sum'])\n",
    "mb_pivot.columns = ['mb_sum']\n",
    "mb_pivot = mb_pivot.reset_index()\n",
    "print(mb_pivot.head())\n",
    "\n",
    "print(calls_pivot.info())\n",
    "print(messages_pivot.info())\n",
    "print(mb_pivot.info())\n",
    "\n",
    "#агрегирование расчетных показателей\n",
    "df_general = pd.merge(mb_pivot, calls_pivot, on=['user_id','month'], how = 'outer')\n",
    "df_general = df_general.merge(messages_pivot, on=['user_id','month'], how='outer') \n",
    "#присоединение тарифа и его условий\n",
    "df_user_tariff = df_users[['user_id', 'tariff', 'city']]\n",
    "print(df_user_tariff.info())\n",
    "df_general = df_general.merge(df_user_tariff, on = 'user_id', how='left')\n",
    "df_general = df_general.rename(columns={'tariff': 'tariff_name'})\n",
    "df_general = df_general.merge(df_tariffs, on = 'tariff_name', how='left')\n",
    "\n",
    "#проверка пропущенных значений\n",
    "print(df_general.isna().sum())\n",
    "\n",
    "# замена пропущенных значений mb_sum, minutes_sum, calls_qty, messages_qty на нули и перевод столбцов в int\n",
    "df_general[['mb_sum', 'minutes_sum', 'calls_qty', 'messages_qty']] = df_general[['mb_sum', 'minutes_sum', 'calls_qty', 'messages_qty']].fillna(0)\n",
    "df_general[['mb_sum', 'minutes_sum', 'calls_qty', 'messages_qty']] = df_general[['mb_sum', 'minutes_sum', 'calls_qty', 'messages_qty']].astype('int')\n",
    "\n",
    "print(df_general.head())\n",
    "df_general.info()\n",
    "print(df_general['user_id'].nunique())\n",
    "print(df_general.query('minutes_sum'))"
   ]
  },
  {
   "cell_type": "markdown",
   "metadata": {},
   "source": [
    "#### Комментарий\n",
    "Пропущенные значения по трафику, минутам и сообщениям заменены нулями --> нет данных о том, что клиент звонил, писал или пользовался интернетом в данный месяц = клиент этими услугами не пользовался"
   ]
  },
  {
   "cell_type": "markdown",
   "metadata": {},
   "source": [
    "### Расчет выручки"
   ]
  },
  {
   "cell_type": "code",
   "execution_count": 15,
   "metadata": {
    "scrolled": true
   },
   "outputs": [
    {
     "data": {
      "text/html": [
       "<div>\n",
       "<style scoped>\n",
       "    .dataframe tbody tr th:only-of-type {\n",
       "        vertical-align: middle;\n",
       "    }\n",
       "\n",
       "    .dataframe tbody tr th {\n",
       "        vertical-align: top;\n",
       "    }\n",
       "\n",
       "    .dataframe thead th {\n",
       "        text-align: right;\n",
       "    }\n",
       "</style>\n",
       "<table border=\"1\" class=\"dataframe\">\n",
       "  <thead>\n",
       "    <tr style=\"text-align: right;\">\n",
       "      <th></th>\n",
       "      <th>user_id</th>\n",
       "      <th>month</th>\n",
       "      <th>mb_sum</th>\n",
       "      <th>minutes_sum</th>\n",
       "      <th>calls_qty</th>\n",
       "      <th>messages_qty</th>\n",
       "      <th>tariff_name</th>\n",
       "      <th>city</th>\n",
       "      <th>messages_included</th>\n",
       "      <th>mb_per_month_included</th>\n",
       "      <th>...</th>\n",
       "      <th>rub_monthly_fee</th>\n",
       "      <th>rub_per_gb</th>\n",
       "      <th>rub_per_message</th>\n",
       "      <th>rub_per_minute</th>\n",
       "      <th>gb_sum</th>\n",
       "      <th>gb_per_month_included</th>\n",
       "      <th>gb_additional</th>\n",
       "      <th>minutes_additional</th>\n",
       "      <th>messages_additional</th>\n",
       "      <th>revenue</th>\n",
       "    </tr>\n",
       "  </thead>\n",
       "  <tbody>\n",
       "    <tr>\n",
       "      <td>8</td>\n",
       "      <td>1001</td>\n",
       "      <td>11</td>\n",
       "      <td>18452</td>\n",
       "      <td>430</td>\n",
       "      <td>59</td>\n",
       "      <td>0</td>\n",
       "      <td>smart</td>\n",
       "      <td>москва</td>\n",
       "      <td>50</td>\n",
       "      <td>15360</td>\n",
       "      <td>...</td>\n",
       "      <td>550</td>\n",
       "      <td>200</td>\n",
       "      <td>3</td>\n",
       "      <td>3</td>\n",
       "      <td>19.0</td>\n",
       "      <td>15.0</td>\n",
       "      <td>4.0</td>\n",
       "      <td>0</td>\n",
       "      <td>0</td>\n",
       "      <td>1350.0</td>\n",
       "    </tr>\n",
       "    <tr>\n",
       "      <td>11</td>\n",
       "      <td>1002</td>\n",
       "      <td>7</td>\n",
       "      <td>17601</td>\n",
       "      <td>214</td>\n",
       "      <td>26</td>\n",
       "      <td>11</td>\n",
       "      <td>smart</td>\n",
       "      <td>стерлитамак</td>\n",
       "      <td>50</td>\n",
       "      <td>15360</td>\n",
       "      <td>...</td>\n",
       "      <td>550</td>\n",
       "      <td>200</td>\n",
       "      <td>3</td>\n",
       "      <td>3</td>\n",
       "      <td>18.0</td>\n",
       "      <td>15.0</td>\n",
       "      <td>3.0</td>\n",
       "      <td>0</td>\n",
       "      <td>0</td>\n",
       "      <td>1150.0</td>\n",
       "    </tr>\n",
       "    <tr>\n",
       "      <td>12</td>\n",
       "      <td>1002</td>\n",
       "      <td>8</td>\n",
       "      <td>20347</td>\n",
       "      <td>289</td>\n",
       "      <td>42</td>\n",
       "      <td>13</td>\n",
       "      <td>smart</td>\n",
       "      <td>стерлитамак</td>\n",
       "      <td>50</td>\n",
       "      <td>15360</td>\n",
       "      <td>...</td>\n",
       "      <td>550</td>\n",
       "      <td>200</td>\n",
       "      <td>3</td>\n",
       "      <td>3</td>\n",
       "      <td>20.0</td>\n",
       "      <td>15.0</td>\n",
       "      <td>5.0</td>\n",
       "      <td>0</td>\n",
       "      <td>0</td>\n",
       "      <td>1550.0</td>\n",
       "    </tr>\n",
       "    <tr>\n",
       "      <td>13</td>\n",
       "      <td>1002</td>\n",
       "      <td>9</td>\n",
       "      <td>16712</td>\n",
       "      <td>206</td>\n",
       "      <td>36</td>\n",
       "      <td>4</td>\n",
       "      <td>smart</td>\n",
       "      <td>стерлитамак</td>\n",
       "      <td>50</td>\n",
       "      <td>15360</td>\n",
       "      <td>...</td>\n",
       "      <td>550</td>\n",
       "      <td>200</td>\n",
       "      <td>3</td>\n",
       "      <td>3</td>\n",
       "      <td>17.0</td>\n",
       "      <td>15.0</td>\n",
       "      <td>2.0</td>\n",
       "      <td>0</td>\n",
       "      <td>0</td>\n",
       "      <td>950.0</td>\n",
       "    </tr>\n",
       "    <tr>\n",
       "      <td>15</td>\n",
       "      <td>1002</td>\n",
       "      <td>11</td>\n",
       "      <td>18610</td>\n",
       "      <td>243</td>\n",
       "      <td>32</td>\n",
       "      <td>16</td>\n",
       "      <td>smart</td>\n",
       "      <td>стерлитамак</td>\n",
       "      <td>50</td>\n",
       "      <td>15360</td>\n",
       "      <td>...</td>\n",
       "      <td>550</td>\n",
       "      <td>200</td>\n",
       "      <td>3</td>\n",
       "      <td>3</td>\n",
       "      <td>19.0</td>\n",
       "      <td>15.0</td>\n",
       "      <td>4.0</td>\n",
       "      <td>0</td>\n",
       "      <td>0</td>\n",
       "      <td>1350.0</td>\n",
       "    </tr>\n",
       "  </tbody>\n",
       "</table>\n",
       "<p>5 rows × 21 columns</p>\n",
       "</div>"
      ],
      "text/plain": [
       "    user_id  month  mb_sum  minutes_sum  calls_qty  messages_qty tariff_name  \\\n",
       "8      1001     11   18452          430         59             0       smart   \n",
       "11     1002      7   17601          214         26            11       smart   \n",
       "12     1002      8   20347          289         42            13       smart   \n",
       "13     1002      9   16712          206         36             4       smart   \n",
       "15     1002     11   18610          243         32            16       smart   \n",
       "\n",
       "           city  messages_included  mb_per_month_included  ...  \\\n",
       "8        москва                 50                  15360  ...   \n",
       "11  стерлитамак                 50                  15360  ...   \n",
       "12  стерлитамак                 50                  15360  ...   \n",
       "13  стерлитамак                 50                  15360  ...   \n",
       "15  стерлитамак                 50                  15360  ...   \n",
       "\n",
       "    rub_monthly_fee  rub_per_gb  rub_per_message  rub_per_minute  gb_sum  \\\n",
       "8               550         200                3               3    19.0   \n",
       "11              550         200                3               3    18.0   \n",
       "12              550         200                3               3    20.0   \n",
       "13              550         200                3               3    17.0   \n",
       "15              550         200                3               3    19.0   \n",
       "\n",
       "    gb_per_month_included  gb_additional  minutes_additional  \\\n",
       "8                    15.0            4.0                   0   \n",
       "11                   15.0            3.0                   0   \n",
       "12                   15.0            5.0                   0   \n",
       "13                   15.0            2.0                   0   \n",
       "15                   15.0            4.0                   0   \n",
       "\n",
       "    messages_additional  revenue  \n",
       "8                     0   1350.0  \n",
       "11                    0   1150.0  \n",
       "12                    0   1550.0  \n",
       "13                    0    950.0  \n",
       "15                    0   1350.0  \n",
       "\n",
       "[5 rows x 21 columns]"
      ]
     },
     "execution_count": 15,
     "metadata": {},
     "output_type": "execute_result"
    }
   ],
   "source": [
    "#расчет сверхлимитных показателей + добавление столбцов по трафику в гб и лимита интернета по тарифу в гб, т.к. тарификация в гб\n",
    "df_general['gb_sum'] = df_general['mb_sum'] / 1024\n",
    "df_general['gb_sum'] = np.ceil(df_general['gb_sum'])\n",
    "df_general['gb_per_month_included'] = df_general['mb_per_month_included'] / 1024\n",
    "df_general['gb_per_month_included'] = np.ceil(df_general['gb_per_month_included'])\n",
    "df_general['gb_additional'] = df_general['gb_sum'] - df_general['gb_per_month_included']\n",
    "df_general['minutes_additional'] = df_general['minutes_sum'] - df_general['minutes_included']\n",
    "df_general['messages_additional'] = df_general['messages_qty'] - df_general['messages_included']\n",
    "# функция: если кол-ва в доп.столбцах отрицательные, то замена нулями, т.к. доп.минут, трафика и сообщений нет\n",
    "def negative_change(row):\n",
    "        if row > 0:\n",
    "            return row\n",
    "        else:\n",
    "            return 0\n",
    "df_general['minutes_additional'] = df_general['minutes_additional'].apply(negative_change)\n",
    "df_general['gb_additional'] = df_general['gb_additional'].apply(negative_change)\n",
    "df_general['messages_additional'] = df_general['messages_additional'].apply(negative_change)\n",
    "df_general.head()\n",
    "# расчет выручки\n",
    "df_general['revenue'] = df_general['rub_monthly_fee'] + df_general['minutes_additional'] * df_general['rub_per_minute'] + df_general['gb_additional'] * df_general['rub_per_gb'] + df_general['messages_additional'] * df_general['rub_per_message']\n",
    "df_general.query('gb_additional > 0').head()"
   ]
  },
  {
   "cell_type": "markdown",
   "metadata": {},
   "source": [
    "### Вывод\n",
    "- Рассчитаны показатели звонков, их длительности, сообщений, трафика и выручки по клиентам и месяцам.\n",
    "- Мегабайты переведены в гигабайты"
   ]
  },
  {
   "cell_type": "markdown",
   "metadata": {},
   "source": [
    "## Анализ данных"
   ]
  },
  {
   "cell_type": "markdown",
   "metadata": {},
   "source": [
    "### Сравнение тарифов"
   ]
  },
  {
   "cell_type": "code",
   "execution_count": 6,
   "metadata": {},
   "outputs": [
    {
     "name": "stdout",
     "output_type": "stream",
     "text": [
      "<class 'pandas.core.frame.DataFrame'>\n",
      "Int64Index: 2229 entries, 8 to 3213\n",
      "Data columns (total 21 columns):\n",
      "user_id                  2229 non-null int64\n",
      "month                    2229 non-null int64\n",
      "mb_sum                   2229 non-null int64\n",
      "minutes_sum              2229 non-null int64\n",
      "calls_qty                2229 non-null int64\n",
      "messages_qty             2229 non-null int64\n",
      "tariff_name              2229 non-null object\n",
      "city                     2229 non-null object\n",
      "messages_included        2229 non-null int64\n",
      "mb_per_month_included    2229 non-null int64\n",
      "minutes_included         2229 non-null int64\n",
      "rub_monthly_fee          2229 non-null int64\n",
      "rub_per_gb               2229 non-null int64\n",
      "rub_per_message          2229 non-null int64\n",
      "rub_per_minute           2229 non-null int64\n",
      "gb_sum                   2229 non-null float64\n",
      "gb_per_month_included    2229 non-null float64\n",
      "gb_additional            2229 non-null float64\n",
      "minutes_additional       2229 non-null int64\n",
      "messages_additional      2229 non-null int64\n",
      "revenue                  2229 non-null float64\n",
      "dtypes: float64(4), int64(15), object(2)\n",
      "memory usage: 383.1+ KB\n",
      "None\n",
      "<class 'pandas.core.frame.DataFrame'>\n",
      "Int64Index: 985 entries, 0 to 3212\n",
      "Data columns (total 21 columns):\n",
      "user_id                  985 non-null int64\n",
      "month                    985 non-null int64\n",
      "mb_sum                   985 non-null int64\n",
      "minutes_sum              985 non-null int64\n",
      "calls_qty                985 non-null int64\n",
      "messages_qty             985 non-null int64\n",
      "tariff_name              985 non-null object\n",
      "city                     985 non-null object\n",
      "messages_included        985 non-null int64\n",
      "mb_per_month_included    985 non-null int64\n",
      "minutes_included         985 non-null int64\n",
      "rub_monthly_fee          985 non-null int64\n",
      "rub_per_gb               985 non-null int64\n",
      "rub_per_message          985 non-null int64\n",
      "rub_per_minute           985 non-null int64\n",
      "gb_sum                   985 non-null float64\n",
      "gb_per_month_included    985 non-null float64\n",
      "gb_additional            985 non-null float64\n",
      "minutes_additional       985 non-null int64\n",
      "messages_additional      985 non-null int64\n",
      "revenue                  985 non-null float64\n",
      "dtypes: float64(4), int64(15), object(2)\n",
      "memory usage: 169.3+ KB\n",
      "None\n",
      "Описание клиентов с тарифом Смарт:\n",
      "\n",
      "       minutes_sum  messages_qty       gb_sum      revenue\n",
      "count  2229.000000   2229.000000  2229.000000  2229.000000\n",
      "mean    417.934948     33.384029    16.359354  1294.639300\n",
      "std     190.313730     28.227876     5.758498   820.933202\n",
      "min       0.000000      0.000000     0.000000   550.000000\n",
      "25%     282.000000     10.000000    13.000000   550.000000\n",
      "50%     422.000000     28.000000    17.000000  1038.000000\n",
      "75%     545.000000     51.000000    20.000000  1750.000000\n",
      "max    1435.000000    143.000000    38.000000  6770.000000\n",
      "\n",
      "Расчет дисперсии по показателям Смарт:\n",
      "minutes_sum      36203.066652\n",
      "messages_qty       796.455483\n",
      "gb_sum              33.145427\n",
      "revenue         673628.974427\n",
      "dtype: float64\n",
      "\n",
      "Расчет стандартного отклонения по показателям Смарт:\n",
      "minutes_sum     190.271035\n",
      "messages_qty     28.221543\n",
      "gb_sum            5.757207\n",
      "revenue         820.749033\n",
      "dtype: float64\n",
      "\n",
      "Описание клиентов с тарифом Ультра:\n",
      "\n",
      "       minutes_sum  messages_qty      gb_sum      revenue\n",
      "count   985.000000    985.000000  985.000000   985.000000\n",
      "mean    526.623350     49.363452   19.525888  2071.065990\n",
      "std     317.606098     47.804457    9.865848   378.802377\n",
      "min       0.000000      0.000000    0.000000  1950.000000\n",
      "25%     284.000000      6.000000   12.000000  1950.000000\n",
      "50%     518.000000     38.000000   19.000000  1950.000000\n",
      "75%     752.000000     79.000000   27.000000  1950.000000\n",
      "max    1673.000000    224.000000   49.000000  4800.000000\n",
      "\n",
      "Расчет дисперсии по показателям Ультра:\n",
      "minutes_sum     100771.223617\n",
      "messages_qty      2282.946075\n",
      "gb_sum              97.236132\n",
      "revenue         143345.564173\n",
      "dtype: float64\n",
      "\n",
      "Расчет стандартного отклонения по показателям Ультра:\n",
      "minutes_sum     317.444836\n",
      "messages_qty     47.780185\n",
      "gb_sum            9.860838\n",
      "revenue         378.610042\n",
      "dtype: float64\n"
     ]
    },
    {
     "data": {
      "text/plain": [
       "550.0     564\n",
       "950.0      87\n",
       "1350.0     82\n",
       "1150.0     75\n",
       "750.0      73\n",
       "         ... \n",
       "2661.0      1\n",
       "2596.0      1\n",
       "1430.0      1\n",
       "1162.0      1\n",
       "1248.0      1\n",
       "Name: revenue, Length: 767, dtype: int64"
      ]
     },
     "execution_count": 6,
     "metadata": {},
     "output_type": "execute_result"
    },
    {
     "data": {
      "image/png": "[encoded data removed]",
      "text/plain": [
       "<Figure size 432x288 with 1 Axes>"
      ]
     },
     "metadata": {
      "needs_background": "light"
     },
     "output_type": "display_data"
    },
    {
     "data": {
      "image/png": "[encoded data removed]",
      "text/plain": [
       "<Figure size 432x288 with 1 Axes>"
      ]
     },
     "metadata": {
      "needs_background": "light"
     },
     "output_type": "display_data"
    },
    {
     "data": {
      "image/png": "[encoded data removed]",
      "text/plain": [
       "<Figure size 432x288 with 1 Axes>"
      ]
     },
     "metadata": {
      "needs_background": "light"
     },
     "output_type": "display_data"
    },
    {
     "data": {
      "image/png": "[encoded data removed]",
      "text/plain": [
       "<Figure size 432x288 with 1 Axes>"
      ]
     },
     "metadata": {
      "needs_background": "light"
     },
     "output_type": "display_data"
    },
    {
     "data": {
      "image/png": "[encoded data removed]",
      "text/plain": [
       "<Figure size 432x288 with 1 Axes>"
      ]
     },
     "metadata": {
      "needs_background": "light"
     },
     "output_type": "display_data"
    },
    {
     "data": {
      "image/png": "[encoded data removed]",
      "text/plain": [
       "<Figure size 432x288 with 1 Axes>"
      ]
     },
     "metadata": {
      "needs_background": "light"
     },
     "output_type": "display_data"
    },
    {
     "data": {
      "image/png": "[encoded data removed]",
      "text/plain": [
       "<Figure size 432x288 with 1 Axes>"
      ]
     },
     "metadata": {
      "needs_background": "light"
     },
     "output_type": "display_data"
    },
    {
     "data": {
      "image/png": "[encoded data removed]",
      "text/plain": [
       "<Figure size 432x288 with 1 Axes>"
      ]
     },
     "metadata": {
      "needs_background": "light"
     },
     "output_type": "display_data"
    },
    {
     "data": {
      "image/png": "[encoded data removed]",
      "text/plain": [
       "<Figure size 432x288 with 1 Axes>"
      ]
     },
     "metadata": {
      "needs_background": "light"
     },
     "output_type": "display_data"
    },
    {
     "data": {
      "image/png": "[encoded data removed]",
      "text/plain": [
       "<Figure size 432x288 with 1 Axes>"
      ]
     },
     "metadata": {
      "needs_background": "light"
     },
     "output_type": "display_data"
    },
    {
     "data": {
      "image/png": "[encoded data removed]",
      "text/plain": [
       "<Figure size 432x288 with 1 Axes>"
      ]
     },
     "metadata": {
      "needs_background": "light"
     },
     "output_type": "display_data"
    },
    {
     "data": {
      "image/png": "[encoded data removed]",
      "text/plain": [
       "<Figure size 432x288 with 1 Axes>"
      ]
     },
     "metadata": {
      "needs_background": "light"
     },
     "output_type": "display_data"
    },
    {
     "data": {
      "image/png": "[encoded data removed]",
      "text/plain": [
       "<Figure size 432x288 with 1 Axes>"
      ]
     },
     "metadata": {
      "needs_background": "light"
     },
     "output_type": "display_data"
    },
    {
     "data": {
      "image/png": "[encoded data removed]",
      "text/plain": [
       "<Figure size 576x576 with 2 Axes>"
      ]
     },
     "metadata": {
      "needs_background": "light"
     },
     "output_type": "display_data"
    },
    {
     "data": {
      "image/png": "[encoded data removed]",
      "text/plain": [
       "<Figure size 432x288 with 1 Axes>"
      ]
     },
     "metadata": {
      "needs_background": "light"
     },
     "output_type": "display_data"
    },
    {
     "data": {
      "image/png": "[encoded data removed]",
      "text/plain": [
       "<Figure size 432x288 with 1 Axes>"
      ]
     },
     "metadata": {
      "needs_background": "light"
     },
     "output_type": "display_data"
    }
   ],
   "source": [
    "#разделяем общую выборку по тарифам\n",
    "df_smart = df_general.query('tariff_name == \"smart\"')\n",
    "df_ultra = df_general.query('tariff_name == \"ultra\"')\n",
    "print(df_smart.info())\n",
    "print(df_ultra.info())\n",
    "print('Описание клиентов с тарифом Смарт:')\n",
    "print()\n",
    "#вызываем описание данных\n",
    "print(df_smart[['minutes_sum', 'messages_qty', 'gb_sum', 'revenue']].describe())\n",
    "print()\n",
    "# description уже содержит данные о стандартном отклонении (std), но задание также требует расчет дисперсии\n",
    "print('Расчет дисперсии по показателям Смарт:')\n",
    "variance = np.var(df_smart[['minutes_sum', 'messages_qty', 'gb_sum', 'revenue']])\n",
    "print(variance)\n",
    "print()\n",
    "print('Расчет стандартного отклонения по показателям Смарт:')\n",
    "print(np.sqrt(variance))\n",
    "\n",
    "print()\n",
    "print('Описание клиентов с тарифом Ультра:')\n",
    "print()\n",
    "print(df_ultra[['minutes_sum', 'messages_qty', 'gb_sum', 'revenue']].describe())\n",
    "print()\n",
    "print('Расчет дисперсии по показателям Ультра:')\n",
    "variance = np.var(df_ultra[['minutes_sum', 'messages_qty', 'gb_sum', 'revenue']])\n",
    "print(variance)\n",
    "print()\n",
    "print('Расчет стандартного отклонения по показателям Ультра:')\n",
    "print(np.sqrt(variance))\n",
    "\n",
    "\n",
    "#построение гистограмм частот для показателей\n",
    "df_smart.plot(kind='hist', y='minutes_sum', bins = 30,  title = 'минуты_смарт')\n",
    "df_ultra.plot(kind='hist', y='minutes_sum',bins = 30, title = 'минуты_ультра')\n",
    "df_ultra.plot(kind='hist', y='minutes_sum', bins = 30, range = (0, 1), title = 'минуты_ультра')\n",
    "df_ultra.plot(kind='hist', y='minutes_sum', bins = 30, range = (1, 1400), title = 'минуты_ультра')\n",
    "df_smart.plot(kind='hist', y='messages_qty', bins = 20, title = 'сообщения_смарт')\n",
    "df_smart.plot(kind='hist', y='messages_qty', bins = 20,  range = (0, 1), title = 'сообщения_смарт')\n",
    "df_smart.plot(kind='hist', y='messages_qty', bins = 20,  range = (1, 140), title = 'сообщения_смарт')\n",
    "df_ultra.plot(kind='hist', y='messages_qty', bins = 20, title = 'сообщения_ультра')\n",
    "df_ultra.plot(kind='hist', y='messages_qty', bins = 20, range = (0, 1), title = 'сообщения_ультра')\n",
    "df_ultra.plot(kind='hist', y='messages_qty', bins = 20, range = (1, 200), title = 'сообщения_ультра')\n",
    "df_smart.plot(kind='hist', y='gb_sum', bins = 10, title = 'гигабайты_смарт')\n",
    "df_smart.plot(kind='hist', y='gb_sum', bins = 10, range = (10, 25), title = 'гигабайты_смарт')\n",
    "df_ultra.plot(kind='hist', y='gb_sum', bins = 10, title = 'гигабайты_ультра')\n",
    "# построим диаграмму размаха для дохода\n",
    "fig, axes = plt.subplots(1,2, figsize = (8,8))\n",
    "axes[0].boxplot(df_smart['revenue'])\n",
    "axes[1].boxplot(df_ultra['revenue'])\n",
    "\n",
    "plt.sca(axes[0])\n",
    "plt.ylim(-100, 7000)\n",
    "plt.sca(axes[1])\n",
    "plt.ylim(-100, 5000)\n",
    "\n",
    "df_smart.plot(kind='hist', y='revenue', bins = 10, title = 'выручка_смарт')\n",
    "df_ultra.plot(kind='hist', y='revenue', bins = 10, title = 'выручка_ультра')\n",
    "df_smart['revenue'].value_counts()"
   ]
  },
  {
   "cell_type": "markdown",
   "metadata": {},
   "source": [
    "#### Вывод по сравнению тарифов\n",
    "1. По минутам разговора: \n",
    "    - Тариф Смарт:\n",
    "        - чаще всего тратят 300 - 500 минут в месяц\n",
    "        - среднее - 417 минут\n",
    "        - медиана - 422 минуты\n",
    "        - стандартное отклонение - 190\n",
    "    - Тариф Ультра:\n",
    "        - высокая частота клиентов с 0 минут, т.е. пропущенные вызовы и не использующие услугу\n",
    "        - чаще всего тратят 250 - 900 минут в месяц\n",
    "        - среднее - 526\n",
    "        - медиана - 518\n",
    "        - стандартное отклонение - 317\n",
    "\n",
    "\n",
    " - В среднем клиенты тарифа Ультра разговаривают дольше, даже несмотря на бОльшее кол-во клиентов с 0 минут в месяц + частота тех, кто разговаривает больше 500 минут > чем в тарифе Смарт\n",
    "\n",
    "\n",
    "2. По сообщениям:\n",
    "     - Тариф Смарт:\n",
    "        - значительное кол-во клиентов с 0 сообщений\n",
    "        - наибольшая частота в диапазоне до 50 сообщений в месяц, затем частота падает\n",
    "        - среднее - 33\n",
    "        - медиана - 28\n",
    "        - стандартное отклонение - 28\n",
    "     - Тариф Ультра:\n",
    "         - значительное кол-во клиентов с 0 сообщений\n",
    "         - наибольшая частота в диапазоне до 50 сообщений в месяц, но есть всплеск частоты в районе 75 сообщений, затем частота падает\n",
    "         - среднее - 49\n",
    "         - медиана - 38\n",
    "         - стандартное отклонение - 47\n",
    "\n",
    "\n",
    " - В среднем клиенты тарифа Ультра пишут больше + частота тех, кто пишет от 75 сообщений > чем в тарифе Смарт     \n",
    " \n",
    "\n",
    "3. По гигабайтам:\n",
    "    - Тариф Смарт:\n",
    "        - бОльшее кол-во клиентов сконцентрировано в диапазоне 13 - 20 гб\n",
    "        - среднее - 16 \n",
    "        - медиана - 17 \n",
    "        - стандартное отклонение - 6\n",
    "    - Тариф Ультра:\n",
    "        - бОльшее кол-во клиентов сконцентрировано в диапазоне 15 - 25 гб\n",
    "        - среднее - 20\n",
    "        - медиана - 19\n",
    "        - стандартное отклонение - 10\n",
    "\n",
    "4. По выручке:\n",
    "    - Тариф Смарт:\n",
    "        - 25% клиентов платят только абонентскую плату\n",
    "        - среднее - 1295 \n",
    "        - медиана - 1038 \n",
    "        - стандартное отклонение - 820\n",
    "    - Тариф Ультра:\n",
    "        - 86% клиентов платят только абонентскую плату\n",
    "        - среднее - 2071\n",
    "        - медиана - 1950\n",
    "        - стандартное отклонение - 378\n",
    "\n",
    " **Вывод:**\n",
    " - Поскольку медиана и среднее по минутам, сообщениям и гб. достаточно близки, критичного кол-ва выбросов в выборках нет\n",
    " - По тарифу смарт есть расхождение между средним и медианой по выручке, это связано с большим разбросом данных и более длинным \"хвостом\" распределения.\n",
    " - По тарифу ультра подавляющее большинство клиентов не выходит за лимиты пакета и вносят только абонентскую плату\n",
    " - Стандартное отклонение по минутам, сообщениям и гб. в выборке Ультра выше, чем в тарифе Смарт, т.е. разборс значений больше, но и выборка в два раза меньше.\n",
    " - В среднем клиенты в выборке тарифа Ультра разговаривают, пишут и тратят гигабайт больше, чем в выборке тарифа Смарт и платят также больше.\n",
    " - Клиентам тарифа Смарт требуется до 500 минут разговора, 50 сообщений и 20 гб интернета в месяц\n",
    " - Клиентам тарифа Ультра требуется до 900 минут разговора, 75 сообщений и 25 гб интернета в месяц"
   ]
  },
  {
   "cell_type": "markdown",
   "metadata": {},
   "source": [
    "### Сравнение Москва vs Регионы по выручке"
   ]
  },
  {
   "cell_type": "code",
   "execution_count": 7,
   "metadata": {
    "scrolled": true
   },
   "outputs": [
    {
     "name": "stdout",
     "output_type": "stream",
     "text": [
      "count     611.000000\n",
      "mean     1550.805237\n",
      "std       752.451347\n",
      "min       550.000000\n",
      "25%       798.000000\n",
      "50%      1750.000000\n",
      "75%      1950.000000\n",
      "max      5321.000000\n",
      "Name: revenue, dtype: float64\n",
      "count    2603.000000\n",
      "mean     1528.316942\n",
      "std       810.411374\n",
      "min       550.000000\n",
      "25%       750.000000\n",
      "50%      1587.000000\n",
      "75%      1950.000000\n",
      "max      6770.000000\n",
      "Name: revenue, dtype: float64\n",
      "Микс тарифов в Москве:\n",
      "smart    386\n",
      "ultra    225\n",
      "Name: tariff_name, dtype: int64\n",
      "Микс тарифов в Регионах:\n",
      "smart    1843\n",
      "ultra     760\n",
      "Name: tariff_name, dtype: int64\n",
      "Москва_Смарт: count     386.000000\n",
      "mean     1245.056995\n",
      "std       755.005483\n",
      "min       550.000000\n",
      "25%       550.000000\n",
      "50%      1011.500000\n",
      "75%      1681.750000\n",
      "max      5321.000000\n",
      "Name: revenue, dtype: float64\n",
      "Регионы_Смарт: count    1843.000000\n",
      "mean     1305.023874\n",
      "std       833.900506\n",
      "min       550.000000\n",
      "25%       553.000000\n",
      "50%      1040.000000\n",
      "75%      1765.000000\n",
      "max      6770.000000\n",
      "Name: revenue, dtype: float64\n",
      "Москва_Ультра: count     225.000000\n",
      "mean     2075.333333\n",
      "std       353.051747\n",
      "min      1950.000000\n",
      "25%      1950.000000\n",
      "50%      1950.000000\n",
      "75%      1950.000000\n",
      "max      4050.000000\n",
      "Name: revenue, dtype: float64\n",
      "Регионы_Ультра: count     760.000000\n",
      "mean     2069.802632\n",
      "std       386.309641\n",
      "min      1950.000000\n",
      "25%      1950.000000\n",
      "50%      1950.000000\n",
      "75%      1950.000000\n",
      "max      4800.000000\n",
      "Name: revenue, dtype: float64\n"
     ]
    },
    {
     "data": {
      "text/plain": [
       "<matplotlib.axes._subplots.AxesSubplot at 0x7fc2a4ee5250>"
      ]
     },
     "execution_count": 7,
     "metadata": {},
     "output_type": "execute_result"
    },
    {
     "data": {
      "image/png": "[encoded data removed]",
      "text/plain": [
       "<Figure size 576x576 with 2 Axes>"
      ]
     },
     "metadata": {
      "needs_background": "light"
     },
     "output_type": "display_data"
    },
    {
     "data": {
      "image/png": "[encoded data removed]",
      "text/plain": [
       "<Figure size 432x288 with 1 Axes>"
      ]
     },
     "metadata": {
      "needs_background": "light"
     },
     "output_type": "display_data"
    },
    {
     "data": {
      "image/png": "[encoded data removed]",
      "text/plain": [
       "<Figure size 432x288 with 1 Axes>"
      ]
     },
     "metadata": {
      "needs_background": "light"
     },
     "output_type": "display_data"
    },
    {
     "data": {
      "image/png": "[encoded data removed]",
      "text/plain": [
       "<Figure size 576x576 with 2 Axes>"
      ]
     },
     "metadata": {
      "needs_background": "light"
     },
     "output_type": "display_data"
    },
    {
     "data": {
      "image/png": "[encoded data removed]",
      "text/plain": [
       "<Figure size 432x288 with 1 Axes>"
      ]
     },
     "metadata": {
      "needs_background": "light"
     },
     "output_type": "display_data"
    },
    {
     "data": {
      "image/png": "[encoded data removed]",
      "text/plain": [
       "<Figure size 432x288 with 1 Axes>"
      ]
     },
     "metadata": {
      "needs_background": "light"
     },
     "output_type": "display_data"
    },
    {
     "data": {
      "image/png": "[encoded data removed]",
      "text/plain": [
       "<Figure size 576x576 with 2 Axes>"
      ]
     },
     "metadata": {
      "needs_background": "light"
     },
     "output_type": "display_data"
    },
    {
     "data": {
      "image/png": "[encoded data removed]",
      "text/plain": [
       "<Figure size 432x288 with 1 Axes>"
      ]
     },
     "metadata": {
      "needs_background": "light"
     },
     "output_type": "display_data"
    },
    {
     "data": {
      "image/png": "[encoded data removed]",
      "text/plain": [
       "<Figure size 432x288 with 1 Axes>"
      ]
     },
     "metadata": {
      "needs_background": "light"
     },
     "output_type": "display_data"
    }
   ],
   "source": [
    "#разделяем общую выборку на Москву и регионы\n",
    "df_moscow = df_general.query('city == \"москва\"')\n",
    "df_regions = df_general.query('city != \"москва\"')\n",
    "print(df_moscow['revenue'].describe())\n",
    "print(df_regions['revenue'].describe())\n",
    "\n",
    "print('Микс тарифов в Москве:')\n",
    "print(df_moscow['tariff_name'].value_counts())\n",
    "print('Микс тарифов в Регионах:')\n",
    "print(df_regions['tariff_name'].value_counts())\n",
    "\n",
    "# разделяем выборки по тарифам\n",
    "df_moscow_smart = df_moscow.query('tariff_name == \"smart\"')\n",
    "df_regions_smart = df_regions.query('tariff_name == \"smart\"')\n",
    "\n",
    "df_moscow_ultra = df_moscow.query('tariff_name == \"ultra\"')\n",
    "df_regions_ultra = df_regions.query('tariff_name == \"ultra\"')\n",
    "\n",
    "print(\"Москва_Смарт:\", df_moscow_smart['revenue'].describe())\n",
    "print(\"Регионы_Смарт:\", df_regions_smart['revenue'].describe())\n",
    "\n",
    "print(\"Москва_Ультра:\", df_moscow_ultra['revenue'].describe())\n",
    "print(\"Регионы_Ультра:\", df_regions_ultra['revenue'].describe())\n",
    "\n",
    "\n",
    "# построим диаграмму размаха для дохода общего по Москве и регионам\n",
    "fig, axes = plt.subplots(1,2,  figsize = (8,8))\n",
    "axes[0].boxplot(df_moscow['revenue'])\n",
    "axes[1].boxplot(df_regions['revenue'])\n",
    "\n",
    "plt.sca(axes[0])\n",
    "plt.ylim(-100, 7000)\n",
    "plt.sca(axes[1])\n",
    "plt.ylim(-100, 7000)\n",
    "\n",
    "df_moscow.plot(kind='hist', y='revenue', bins = 20, title = 'Москва_общая выручка')\n",
    "df_regions.plot(kind='hist', y='revenue', bins = 20, title = 'Регионы_общая выручка')\n",
    "\n",
    "# построим диаграмму размаха для дохода по тарифу Смарт по Москве и регионам\n",
    "fig, axes = plt.subplots(1,2,  figsize = (8,8))\n",
    "axes[0].boxplot(df_moscow_smart['revenue'])\n",
    "axes[1].boxplot(df_regions_smart['revenue'])\n",
    "\n",
    "plt.sca(axes[0])\n",
    "plt.ylim(-100, 7000)\n",
    "plt.sca(axes[1])\n",
    "plt.ylim(-100, 7000)\n",
    "\n",
    "df_moscow_smart.plot(kind='hist', y='revenue', bins = 20, title = 'Москва_выручка_Смарт')\n",
    "df_regions_smart.plot(kind='hist', y='revenue', bins = 20, title = 'Регионы__выручка_Смарт')\n",
    "\n",
    "# построим диаграмму размаха для дохода по тарифу Ультра по Москве и регионам\n",
    "fig, axes = plt.subplots(1,2,  figsize = (8,8))\n",
    "axes[0].boxplot(df_moscow_ultra['revenue'])\n",
    "axes[1].boxplot(df_regions_ultra['revenue'])\n",
    "\n",
    "plt.sca(axes[0])\n",
    "plt.ylim(-100, 7000)\n",
    "plt.sca(axes[1])\n",
    "plt.ylim(-100, 7000)\n",
    "\n",
    "df_moscow_smart.plot(kind='hist', y='revenue', bins = 20, title = 'Москва_выручка_Ультра')\n",
    "df_regions_smart.plot(kind='hist', y='revenue', bins = 20, title = 'Регионы__выручка_Ультра')"
   ]
  },
  {
   "cell_type": "markdown",
   "metadata": {},
   "source": [
    "#### Вывод\n",
    "\n",
    "1. По выручке общие: \n",
    "    - Москва:\n",
    "        - пики частотности совпадают с абонентскими платами\n",
    "        - среднее - 1550\n",
    "        - медиана - 1750 \n",
    "        - стандартное отклонение - 752\n",
    "        \n",
    "    - Регионы:\n",
    "        - пики частотности совпадают с абонентскими платами\n",
    "        - среднее - 1528\n",
    "        - медиана - 1587\n",
    "        - стандартное отклонение - 810\n",
    "\n",
    "2. По выручке Смарт: \n",
    "    - Москва:\n",
    "        - пики частотности совпадают с абонентской платой\n",
    "        - среднее - 1245\n",
    "        - медиана - 1011\n",
    "        - стандартное отклонение - 755\n",
    "    - Регионы:\n",
    "        - пики частотности совпадают с тарифами\n",
    "        - среднее - 1305\n",
    "        - медиана - 1040\n",
    "        - стандартное отклонение - 833\n",
    "         \n",
    "3. По выручке Ультра: \n",
    "    - Москва:\n",
    "        - пики частотности совпадает с абонентской платой\n",
    "        - среднее - 2075\n",
    "        - медиана - 1950\n",
    "        - стандартное отклонение - 353\n",
    "    - Регионы:\n",
    "        - пики частотности совпадают с тарифами\n",
    "        - среднее - 2069\n",
    "        - медиана - 1950\n",
    "        - стандартное отклонение - 386              \n",
    "\n",
    "**Вывод:**\n",
    " - Различия между Москвой и регионами по тарифу Смарт - менее 100 рублей, медианы почти совпадают, по тарифу Ультра почти полное совпадение.\n",
    " - Если брать общий срез данных по Москве и Регионам без деления по тарифам, то в Москве средние показатели чуть выше за счет 40% доли тарифа Ультра, в регионах она составляет 29%"
   ]
  },
  {
   "cell_type": "markdown",
   "metadata": {},
   "source": [
    "### Формулировка и проверка гипотез"
   ]
  },
  {
   "cell_type": "markdown",
   "metadata": {},
   "source": [
    "#### Гипотеза о разных средних выручках по тарифам\n",
    "Имеем две генеральные совокупности по тарифу Смарт и Ультра. Нам необходимо понять, случайны ли установленные различия по средней выручке в их выборках. \n",
    "\n",
    "**Нулевая гипотеза** - различий в генеральной совокупности нет\n",
    "\n",
    "**Альтернативная гипотеза** - средняя выручка по тарифу Ультра действительно больше, чем у тарифа Смарт"
   ]
  },
  {
   "cell_type": "code",
   "execution_count": 8,
   "metadata": {
    "scrolled": true
   },
   "outputs": [
    {
     "name": "stdout",
     "output_type": "stream",
     "text": [
      "p-значение: 1.2182009829599834e-49\n",
      "Отвергаем нулевую гипотезу\n"
     ]
    }
   ],
   "source": [
    "#установим уровень статистической значимости\n",
    "alpha = .01\n",
    "#проверим гипотезу о равенстве среднего двух генеральных совокупностей, т.к. дисперсия и стандартное отклонение у выборок различается, поставим False в параметр equal_var\n",
    "results_tariffs = st.ttest_ind(df_moscow['revenue'], df_ultra['revenue'], equal_var = False)\n",
    "print('p-значение:', results_tariffs.pvalue)\n",
    "if results_tariffs.pvalue < alpha:\n",
    "    print('Отвергаем нулевую гипотезу')\n",
    "else:\n",
    "    print('Не получилось отвергнуть нулевую гипотезу') "
   ]
  },
  {
   "cell_type": "markdown",
   "metadata": {},
   "source": [
    "##### Вывод\n",
    "Проверка гипотезы показала, что вероятность получить выявленные в выборках различия случайным образом ничтожно мала, ее можно отвергнуть и считать, что различия между тарифами в генеральной совокупности действительно есть.\n",
    "\n",
    "- Выбран уровень статистической значимости в 1%, т.к. уровень в 5% допускает, что в 1 из 20 исследовании нулевую гипотезу можно отвергнуть по ошибке.\n",
    "- параметр equal_var = False, т.к. дисперсии в выборках различаются"
   ]
  },
  {
   "cell_type": "markdown",
   "metadata": {},
   "source": [
    "#### Гипотеза о разных средних выручках у Москвы и регионов"
   ]
  },
  {
   "cell_type": "markdown",
   "metadata": {},
   "source": [
    "Имеем две генеральные совокупности по выручка клиентов в Москве и в регионах. Нам необходимо понять, случайны ли установленные различия по средней выручке в их выборках.\n",
    "\n",
    "**Нулевая гипотеза** - различий в генеральной совокупности нет\n",
    "\n",
    "**Альтернативная гипотеза** - средняя выручка по в Москве больше, чем в регионах"
   ]
  },
  {
   "cell_type": "code",
   "execution_count": 9,
   "metadata": {},
   "outputs": [
    {
     "name": "stdout",
     "output_type": "stream",
     "text": [
      "p-значение: 0.5126564657748214\n",
      "Не получилось отвергнуть нулевую гипотезу\n"
     ]
    }
   ],
   "source": [
    "#установим уровень статистической значимости\n",
    "alpha = .01\n",
    "#проверим гипотезу о равенстве среднего двух генеральных совокупностей, т.к. дисперсия и стандартное отклонение у выборок различается, поставим False в параметр equal_var\n",
    "results_city = st.ttest_ind(df_moscow['revenue'], df_regions['revenue'], equal_var = False)\n",
    "print('p-значение:', results_city.pvalue)\n",
    "if results_city.pvalue < alpha:\n",
    "    print('Отвергаем нулевую гипотезу')\n",
    "else:\n",
    "    print('Не получилось отвергнуть нулевую гипотезу') "
   ]
  },
  {
   "cell_type": "markdown",
   "metadata": {},
   "source": [
    "##### Вывод\n",
    "Проверка гипотезы показала, что вероятность получить выявленные в выборках различия случайным образом > 50%, отвергнуть нулевую гипотезу не получилось. Таким образом, принять гипотезу, что выручка в Москве больше, чем в регионах мы не можем."
   ]
  },
  {
   "cell_type": "markdown",
   "metadata": {},
   "source": [
    "## Общий вывод"
   ]
  },
  {
   "cell_type": "markdown",
   "metadata": {},
   "source": [
    "В ходе исследования было выявлено:\n",
    "\n",
    "1.  **различие в средней выручке между тарифами**. У тарифа Ультра она больше. В результате проверки гипотезы установлено, что вероятность получить такое различие случайным образом маловероятно, т.е. можно допустить, что это **различие существует и в генеральной совокупности**. Таким образом, рекламный бюджет целесообразно тратить с фокусом на тариф Ультра.\n",
    "\n",
    "\n",
    "2. **различия между средней выручкой по Москве и регионам в выборках небольшое**. В результате проверки гипотезы установлено, что вероятность получить такое различие случайным образом > 50%, т.е. можно допустить, что **нет различия между Москвой и регионами в генеральной совокупности**.\n",
    "\n",
    "В результате анализа распределений выборок:\n",
    "1. Клиентам тарифа Смарт требуется до 500 минут разговора, 50 сообщений и 20 гб интернета в месяц\n",
    "2. Клиентам тарифа Ультра требуется до 900 минут разговора, 75 сообщений и 25 гб интернета в месяц\n",
    "\n",
    "Таким образом, ответы на основной и дополнительные вопросы заказчика найдены. Цель исследования выполнена."
   ]
  },
  {
   "cell_type": "markdown",
   "metadata": {},
   "source": [
    "**Дополнительная информация:**\n",
    "В выборке найдено много звонков с нулевой длительностью. Это могут быть пропущенные звонки. Необходимо это учитывать при анализе реального кол-ва звонков в будушем, т.к. результаты могут быть искажены."
   ]
  }
 ],
 "metadata": {
  "kernelspec": {
   "display_name": "Python 3",
   "language": "python",
   "name": "python3"
  },
  "language_info": {
   "codemirror_mode": {
    "name": "ipython",
    "version": 3
   },
   "file_extension": ".py",
   "mimetype": "text/x-python",
   "name": "python",
   "nbconvert_exporter": "python",
   "pygments_lexer": "ipython3",
   "version": "3.7.4"
  },
  "toc": {
   "base_numbering": 1,
   "nav_menu": {},
   "number_sections": true,
   "sideBar": true,
   "skip_h1_title": true,
   "title_cell": "Table of Contents",
   "title_sidebar": "Contents",
   "toc_cell": false,
   "toc_position": {},
   "toc_section_display": true,
   "toc_window_display": false
  }
 },
 "nbformat": 4,
 "nbformat_minor": 2
}
