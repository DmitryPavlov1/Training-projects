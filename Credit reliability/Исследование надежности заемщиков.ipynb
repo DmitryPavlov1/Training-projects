{
 "cells": [
  {
   "cell_type": "markdown",
   "metadata": {},
   "source": [
    "# Исследование надёжности заёмщиков\n",
    "\n",
    "Заказчик — кредитный отдел банка. Нужно разобраться, влияет ли семейное положение и количество детей клиента на факт погашения кредита в срок. Входные данные от банка — статистика о платёжеспособности клиентов.\n",
    "\n",
    "Результаты исследования будут учтены при построении модели **кредитного скоринга** — специальной системы, которая оценивает способность потенциального заёмщика вернуть кредит банку."
   ]
  },
  {
   "cell_type": "markdown",
   "metadata": {},
   "source": [
    "# Цель исследования\n",
    "На основе входных данных выявить зависимости между семейным положением, количеством детей и фактом погашения кредита в срок для построения модели кредитного скоринга."
   ]
  },
  {
   "cell_type": "markdown",
   "metadata": {},
   "source": [
    "## Описание данных\n",
    "- children — количество детей в семье\n",
    "- days_employed — общий трудовой стаж в днях\n",
    "- dob_years — возраст клиента в годах\n",
    "- education — уровень образования клиента\n",
    "- education_id — идентификатор уровня образования\n",
    "- family_status — семейное положение\n",
    "- family_status_id — идентификатор семейного положения\n",
    "- gender — пол клиента\n",
    "- income_type — тип занятости\n",
    "- debt — имел ли задолженность по возврату кредитов\n",
    "- total_income — ежемесячный доход\n",
    "- purpose — цель получения кредита"
   ]
  },
  {
   "cell_type": "markdown",
   "metadata": {},
   "source": [
    "## Изучение данных"
   ]
  },
  {
   "cell_type": "code",
   "execution_count": 1,
   "metadata": {
    "scrolled": true
   },
   "outputs": [
    {
     "name": "stdout",
     "output_type": "stream",
     "text": [
      "<class 'pandas.core.frame.DataFrame'>\n",
      "RangeIndex: 21525 entries, 0 to 21524\n",
      "Data columns (total 12 columns):\n",
      "children            21525 non-null int64\n",
      "days_employed       19351 non-null float64\n",
      "dob_years           21525 non-null int64\n",
      "education           21525 non-null object\n",
      "education_id        21525 non-null int64\n",
      "family_status       21525 non-null object\n",
      "family_status_id    21525 non-null int64\n",
      "gender              21525 non-null object\n",
      "income_type         21525 non-null object\n",
      "debt                21525 non-null int64\n",
      "total_income        19351 non-null float64\n",
      "purpose             21525 non-null object\n",
      "dtypes: float64(2), int64(5), object(5)\n",
      "memory usage: 2.0+ MB\n",
      " 0     14149\n",
      " 1      4818\n",
      " 2      2055\n",
      " 3       330\n",
      " 20       76\n",
      "-1        47\n",
      " 4        41\n",
      " 5         9\n",
      "Name: children, dtype: int64\n",
      "-986.927316     1\n",
      "-7026.359174    1\n",
      "-4236.274243    1\n",
      "-6620.396473    1\n",
      "-1238.560080    1\n",
      "               ..\n",
      "-2849.351119    1\n",
      "-5619.328204    1\n",
      "-448.829898     1\n",
      "-1687.038672    1\n",
      "-582.538413     1\n",
      "Name: days_employed, Length: 19351, dtype: int64\n",
      "35    617\n",
      "40    609\n",
      "41    607\n",
      "34    603\n",
      "38    598\n",
      "42    597\n",
      "33    581\n",
      "39    573\n",
      "31    560\n",
      "36    555\n",
      "44    547\n",
      "29    545\n",
      "30    540\n",
      "48    538\n",
      "37    537\n",
      "50    514\n",
      "43    513\n",
      "32    510\n",
      "49    508\n",
      "28    503\n",
      "45    497\n",
      "27    493\n",
      "56    487\n",
      "52    484\n",
      "47    480\n",
      "54    479\n",
      "46    475\n",
      "58    461\n",
      "57    460\n",
      "53    459\n",
      "51    448\n",
      "59    444\n",
      "55    443\n",
      "26    408\n",
      "60    377\n",
      "25    357\n",
      "61    355\n",
      "62    352\n",
      "63    269\n",
      "64    265\n",
      "24    264\n",
      "23    254\n",
      "65    194\n",
      "66    183\n",
      "22    183\n",
      "67    167\n",
      "21    111\n",
      "0     101\n",
      "68     99\n",
      "69     85\n",
      "70     65\n",
      "71     58\n",
      "20     51\n",
      "72     33\n",
      "19     14\n",
      "73      8\n",
      "74      6\n",
      "75      1\n",
      "Name: dob_years, dtype: int64\n",
      "среднее                13750\n",
      "высшее                  4718\n",
      "СРЕДНЕЕ                  772\n",
      "Среднее                  711\n",
      "неоконченное высшее      668\n",
      "ВЫСШЕЕ                   274\n",
      "Высшее                   268\n",
      "начальное                250\n",
      "Неоконченное высшее       47\n",
      "НЕОКОНЧЕННОЕ ВЫСШЕЕ       29\n",
      "НАЧАЛЬНОЕ                 17\n",
      "Начальное                 15\n",
      "ученая степень             4\n",
      "УЧЕНАЯ СТЕПЕНЬ             1\n",
      "Ученая степень             1\n",
      "Name: education, dtype: int64\n",
      "1    15233\n",
      "0     5260\n",
      "2      744\n",
      "3      282\n",
      "4        6\n",
      "Name: education_id, dtype: int64\n",
      "женат / замужем          12380\n",
      "гражданский брак          4177\n",
      "Не женат / не замужем     2813\n",
      "в разводе                 1195\n",
      "вдовец / вдова             960\n",
      "Name: family_status, dtype: int64\n",
      "0    12380\n",
      "1     4177\n",
      "4     2813\n",
      "3     1195\n",
      "2      960\n",
      "Name: family_status_id, dtype: int64\n",
      "F      14236\n",
      "M       7288\n",
      "XNA        1\n",
      "Name: gender, dtype: int64\n",
      "сотрудник          11119\n",
      "компаньон           5085\n",
      "пенсионер           3856\n",
      "госслужащий         1459\n",
      "безработный            2\n",
      "предприниматель        2\n",
      "студент                1\n",
      "в декрете              1\n",
      "Name: income_type, dtype: int64\n",
      "0    19784\n",
      "1     1741\n",
      "Name: debt, dtype: int64\n",
      "112874.418757    1\n",
      "133912.272223    1\n",
      "182036.676828    1\n",
      "122421.963500    1\n",
      "198271.837248    1\n",
      "                ..\n",
      "133299.194693    1\n",
      "115080.782380    1\n",
      "84896.781597     1\n",
      "153838.839212    1\n",
      "150014.128510    1\n",
      "Name: total_income, Length: 19351, dtype: int64\n",
      "свадьба                                   797\n",
      "на проведение свадьбы                     777\n",
      "сыграть свадьбу                           774\n",
      "операции с недвижимостью                  676\n",
      "покупка коммерческой недвижимости         664\n",
      "покупка жилья для сдачи                   653\n",
      "операции с жильем                         653\n",
      "операции с коммерческой недвижимостью     651\n",
      "покупка жилья                             647\n",
      "жилье                                     647\n",
      "покупка жилья для семьи                   641\n",
      "строительство собственной недвижимости    635\n",
      "недвижимость                              634\n",
      "операции со своей недвижимостью           630\n",
      "строительство жилой недвижимости          626\n",
      "покупка недвижимости                      624\n",
      "покупка своего жилья                      620\n",
      "строительство недвижимости                620\n",
      "ремонт жилью                              612\n",
      "покупка жилой недвижимости                607\n",
      "на покупку своего автомобиля              505\n",
      "заняться высшим образованием              496\n",
      "автомобиль                                495\n",
      "сделка с подержанным автомобилем          489\n",
      "свой автомобиль                           480\n",
      "на покупку подержанного автомобиля        479\n",
      "автомобили                                478\n",
      "на покупку автомобиля                     472\n",
      "приобретение автомобиля                   462\n",
      "дополнительное образование                462\n",
      "сделка с автомобилем                      455\n",
      "высшее образование                        453\n",
      "получение дополнительного образования     447\n",
      "образование                               447\n",
      "получение образования                     443\n",
      "профильное образование                    436\n",
      "получение высшего образования             426\n",
      "заняться образованием                     412\n",
      "Name: purpose, dtype: int64\n"
     ]
    }
   ],
   "source": [
    "#импортируем библиотеки\n",
    "import pandas as pd\n",
    "from pymystem3 import Mystem\n",
    "m = Mystem() \n",
    "from collections import Counter\n",
    "\n",
    "df = pd.read_csv('/datasets/data.csv')\n",
    "df.info()\n",
    "#проверка уникальных значений в столбцах таблицы циклом:\n",
    "for col in df.columns:\n",
    "    print(df[col].value_counts())"
   ]
  },
  {
   "cell_type": "markdown",
   "metadata": {},
   "source": [
    "#### Комментарий"
   ]
  },
  {
   "cell_type": "markdown",
   "metadata": {},
   "source": [
    "1) В данных по стажу работы и общий доход есть пропуски.Возможными причинами пропусков могут быть отсутствие данных в централизованных источниках (например, если человек не работал официально) из которых могли браться данные и/или нежелание указывать клиентами при заполнении анкет, если данные брались на основании, указанной клиентами информации.\n",
    "\n",
    "2) В столбце стаж работы в днях и дети есть отрицательные значения. Данные по трудовому стажу не являются необходимыми для ответа на поставленные вопросы в задаче.\n",
    "Вероятно, технологические ошибки. Их можно заменить на положительные для корректных расчетов характерных значений."
   ]
  },
  {
   "cell_type": "markdown",
   "metadata": {},
   "source": [
    "**Вывод**"
   ]
  },
  {
   "cell_type": "markdown",
   "metadata": {},
   "source": [
    "В выборке 21 525 человек из них больше всего по критериям:\n",
    "- Семейное положение: Женаты / замужем - 12 380 человек > 50%\n",
    "- Пол: Мужчины - 14 236 человек > 50%\n",
    "- Тип дохода: Сотрудники 11 119 человек > 50%\n",
    "- Дети: Бездетные - 14 149 человек > 50%"
   ]
  },
  {
   "cell_type": "markdown",
   "metadata": {},
   "source": [
    "## Предобработка данных"
   ]
  },
  {
   "cell_type": "markdown",
   "metadata": {},
   "source": [
    "#### Комментарий"
   ]
  },
  {
   "cell_type": "markdown",
   "metadata": {},
   "source": [
    "Тип данных в столбцах стаж работы и общий доход c пропусками - float, переменные - количественные --> логика работы с количественными переменными, т.е. заполнение пропусками характерными значениями (среднее или медиана). "
   ]
  },
  {
   "cell_type": "code",
   "execution_count": 2,
   "metadata": {
    "scrolled": false
   },
   "outputs": [
    {
     "name": "stdout",
     "output_type": "stream",
     "text": [
      "Средний стаж в днях: 66914.72890682236\n",
      "Медианный стаж в днях: 2194.220566878695\n",
      "Средний ежемесячный доход: 167422.30220817294\n",
      "Медианный ежемесячный доход: 145017.93753253992\n",
      "\n",
      "Медианный по типам дохода: income_type\n",
      "предприниматель    499163.144947\n",
      "компаньон          172357.950966\n",
      "госслужащий        150447.935283\n",
      "сотрудник          142594.396847\n",
      "безработный        131339.751676\n",
      "пенсионер          118514.486412\n",
      "студент             98201.625314\n",
      "в декрете           53829.130729\n",
      "Name: total_income, dtype: float64\n",
      "\n",
      "Медианный ежемесячный доход после замены пропусков: 142594.39684740017\n",
      "<class 'pandas.core.frame.DataFrame'>\n",
      "RangeIndex: 21525 entries, 0 to 21524\n",
      "Data columns (total 12 columns):\n",
      "children            21525 non-null int64\n",
      "days_employed       21525 non-null float64\n",
      "dob_years           21525 non-null int64\n",
      "education           21525 non-null object\n",
      "education_id        21525 non-null int64\n",
      "family_status       21525 non-null object\n",
      "family_status_id    21525 non-null int64\n",
      "gender              21525 non-null object\n",
      "income_type         21525 non-null object\n",
      "debt                21525 non-null int64\n",
      "total_income        21525 non-null float64\n",
      "purpose             21525 non-null object\n",
      "dtypes: float64(2), int64(5), object(5)\n",
      "memory usage: 2.0+ MB\n"
     ]
    }
   ],
   "source": [
    "#перевод отрицательных значений трудового стажа и детей в положительные\n",
    "df['days_employed'] = df['days_employed'].abs()\n",
    "df['children'] = df['children'].abs()\n",
    "\n",
    "#просчитаем средние и медианные значения в столбцах с пропущенным стажем в днях\n",
    "avr_days_employed_before = df['days_employed'].mean()\n",
    "median_days_employed_before = df['days_employed'].median()\n",
    "avr_total_income_before = df['total_income'].mean()\n",
    "median_total_income_before = df['total_income'].median()\n",
    "print('Средний стаж в днях:', avr_days_employed_before)\n",
    "print('Медианный стаж в днях:', median_days_employed_before)\n",
    "print('Средний ежемесячный доход:', avr_total_income_before)\n",
    "print('Медианный ежемесячный доход:', median_total_income_before)\n",
    "\n",
    "#заменим пропущенный стаж в днях на медианные значения\n",
    "df['days_employed'] = df['days_employed'].fillna(value = median_days_employed_before)\n",
    "\n",
    "\n",
    "#заменим пропущенные значения по доходу на медиану по соответствующему типу доходов\n",
    "df['total_income'] = df.groupby('income_type')['total_income'].apply(lambda x: x.fillna(x.median()))\n",
    "median_total_income_after = df['total_income'].median()\n",
    "print()\n",
    "#расчитаем медианный доход по типу доходов в порядке убывания и выведем на экран\n",
    "income_type_median = df.groupby('income_type')['total_income'].median()\n",
    "income_type_median_sorted = income_type_median.sort_values(ascending=False)\n",
    "print('Медианный по типам дохода:', income_type_median_sorted)\n",
    "print()\n",
    "print('Медианный ежемесячный доход после замены пропусков:', median_total_income_after)\n",
    "df.info()"
   ]
  },
  {
   "cell_type": "markdown",
   "metadata": {},
   "source": [
    "#### Комментарий"
   ]
  },
  {
   "cell_type": "markdown",
   "metadata": {},
   "source": [
    "1) Обнаружены значительные различия между средним и медианным стажем по стажу работы. \n",
    "Причина - наличие выбросов (например,стаж у одного из клиента 401 755 дней = 1100 лет). Просто удалить выбросы нельзя, т.к. в нем присутствует информация о доходе, необходимая для ответа на один из вопросов задачи, поэтому можно оставить как есть для экономии времени. \n",
    "\n",
    "2) По доходу принято решение для замены пропусков использовать медиану, т.к. возможно наличие выбросов, искажающих среднее значение. Кроме того выявлены различия в медианном доходе по разным типам дохода, поэтому пропуски заменены на медианы по соответствующим группам, а не на медиану по всей выборке."
   ]
  },
  {
   "cell_type": "markdown",
   "metadata": {},
   "source": [
    "**Вывод**"
   ]
  },
  {
   "cell_type": "markdown",
   "metadata": {},
   "source": [
    "Видно, что доходы значительно различаются по типам: у предпринимателей наибольший медианный доход, у клиентов в декрете - наименьший. "
   ]
  },
  {
   "cell_type": "markdown",
   "metadata": {},
   "source": [
    "### Замена типа данных"
   ]
  },
  {
   "cell_type": "code",
   "execution_count": 3,
   "metadata": {},
   "outputs": [
    {
     "data": {
      "text/html": [
       "<div>\n",
       "<style scoped>\n",
       "    .dataframe tbody tr th:only-of-type {\n",
       "        vertical-align: middle;\n",
       "    }\n",
       "\n",
       "    .dataframe tbody tr th {\n",
       "        vertical-align: top;\n",
       "    }\n",
       "\n",
       "    .dataframe thead th {\n",
       "        text-align: right;\n",
       "    }\n",
       "</style>\n",
       "<table border=\"1\" class=\"dataframe\">\n",
       "  <thead>\n",
       "    <tr style=\"text-align: right;\">\n",
       "      <th></th>\n",
       "      <th>children</th>\n",
       "      <th>days_employed</th>\n",
       "      <th>dob_years</th>\n",
       "      <th>education</th>\n",
       "      <th>education_id</th>\n",
       "      <th>family_status</th>\n",
       "      <th>family_status_id</th>\n",
       "      <th>gender</th>\n",
       "      <th>income_type</th>\n",
       "      <th>debt</th>\n",
       "      <th>total_income</th>\n",
       "      <th>purpose</th>\n",
       "    </tr>\n",
       "  </thead>\n",
       "  <tbody>\n",
       "    <tr>\n",
       "      <td>0</td>\n",
       "      <td>1</td>\n",
       "      <td>8437</td>\n",
       "      <td>42</td>\n",
       "      <td>высшее</td>\n",
       "      <td>0</td>\n",
       "      <td>женат / замужем</td>\n",
       "      <td>0</td>\n",
       "      <td>F</td>\n",
       "      <td>сотрудник</td>\n",
       "      <td>0</td>\n",
       "      <td>253875</td>\n",
       "      <td>покупка жилья</td>\n",
       "    </tr>\n",
       "    <tr>\n",
       "      <td>1</td>\n",
       "      <td>1</td>\n",
       "      <td>4024</td>\n",
       "      <td>36</td>\n",
       "      <td>среднее</td>\n",
       "      <td>1</td>\n",
       "      <td>женат / замужем</td>\n",
       "      <td>0</td>\n",
       "      <td>F</td>\n",
       "      <td>сотрудник</td>\n",
       "      <td>0</td>\n",
       "      <td>112080</td>\n",
       "      <td>приобретение автомобиля</td>\n",
       "    </tr>\n",
       "    <tr>\n",
       "      <td>2</td>\n",
       "      <td>0</td>\n",
       "      <td>5623</td>\n",
       "      <td>33</td>\n",
       "      <td>Среднее</td>\n",
       "      <td>1</td>\n",
       "      <td>женат / замужем</td>\n",
       "      <td>0</td>\n",
       "      <td>M</td>\n",
       "      <td>сотрудник</td>\n",
       "      <td>0</td>\n",
       "      <td>145885</td>\n",
       "      <td>покупка жилья</td>\n",
       "    </tr>\n",
       "    <tr>\n",
       "      <td>3</td>\n",
       "      <td>3</td>\n",
       "      <td>4124</td>\n",
       "      <td>32</td>\n",
       "      <td>среднее</td>\n",
       "      <td>1</td>\n",
       "      <td>женат / замужем</td>\n",
       "      <td>0</td>\n",
       "      <td>M</td>\n",
       "      <td>сотрудник</td>\n",
       "      <td>0</td>\n",
       "      <td>267628</td>\n",
       "      <td>дополнительное образование</td>\n",
       "    </tr>\n",
       "    <tr>\n",
       "      <td>4</td>\n",
       "      <td>0</td>\n",
       "      <td>340266</td>\n",
       "      <td>53</td>\n",
       "      <td>среднее</td>\n",
       "      <td>1</td>\n",
       "      <td>гражданский брак</td>\n",
       "      <td>1</td>\n",
       "      <td>F</td>\n",
       "      <td>пенсионер</td>\n",
       "      <td>0</td>\n",
       "      <td>158616</td>\n",
       "      <td>сыграть свадьбу</td>\n",
       "    </tr>\n",
       "    <tr>\n",
       "      <td>5</td>\n",
       "      <td>0</td>\n",
       "      <td>926</td>\n",
       "      <td>27</td>\n",
       "      <td>высшее</td>\n",
       "      <td>0</td>\n",
       "      <td>гражданский брак</td>\n",
       "      <td>1</td>\n",
       "      <td>M</td>\n",
       "      <td>компаньон</td>\n",
       "      <td>0</td>\n",
       "      <td>255763</td>\n",
       "      <td>покупка жилья</td>\n",
       "    </tr>\n",
       "    <tr>\n",
       "      <td>6</td>\n",
       "      <td>0</td>\n",
       "      <td>2879</td>\n",
       "      <td>43</td>\n",
       "      <td>высшее</td>\n",
       "      <td>0</td>\n",
       "      <td>женат / замужем</td>\n",
       "      <td>0</td>\n",
       "      <td>F</td>\n",
       "      <td>компаньон</td>\n",
       "      <td>0</td>\n",
       "      <td>240525</td>\n",
       "      <td>операции с жильем</td>\n",
       "    </tr>\n",
       "    <tr>\n",
       "      <td>7</td>\n",
       "      <td>0</td>\n",
       "      <td>152</td>\n",
       "      <td>50</td>\n",
       "      <td>СРЕДНЕЕ</td>\n",
       "      <td>1</td>\n",
       "      <td>женат / замужем</td>\n",
       "      <td>0</td>\n",
       "      <td>M</td>\n",
       "      <td>сотрудник</td>\n",
       "      <td>0</td>\n",
       "      <td>135823</td>\n",
       "      <td>образование</td>\n",
       "    </tr>\n",
       "    <tr>\n",
       "      <td>8</td>\n",
       "      <td>2</td>\n",
       "      <td>6929</td>\n",
       "      <td>35</td>\n",
       "      <td>ВЫСШЕЕ</td>\n",
       "      <td>0</td>\n",
       "      <td>гражданский брак</td>\n",
       "      <td>1</td>\n",
       "      <td>F</td>\n",
       "      <td>сотрудник</td>\n",
       "      <td>0</td>\n",
       "      <td>95856</td>\n",
       "      <td>на проведение свадьбы</td>\n",
       "    </tr>\n",
       "    <tr>\n",
       "      <td>9</td>\n",
       "      <td>0</td>\n",
       "      <td>2188</td>\n",
       "      <td>41</td>\n",
       "      <td>среднее</td>\n",
       "      <td>1</td>\n",
       "      <td>женат / замужем</td>\n",
       "      <td>0</td>\n",
       "      <td>M</td>\n",
       "      <td>сотрудник</td>\n",
       "      <td>0</td>\n",
       "      <td>144425</td>\n",
       "      <td>покупка жилья для семьи</td>\n",
       "    </tr>\n",
       "  </tbody>\n",
       "</table>\n",
       "</div>"
      ],
      "text/plain": [
       "   children  days_employed  dob_years education  education_id  \\\n",
       "0         1           8437         42    высшее             0   \n",
       "1         1           4024         36   среднее             1   \n",
       "2         0           5623         33   Среднее             1   \n",
       "3         3           4124         32   среднее             1   \n",
       "4         0         340266         53   среднее             1   \n",
       "5         0            926         27    высшее             0   \n",
       "6         0           2879         43    высшее             0   \n",
       "7         0            152         50   СРЕДНЕЕ             1   \n",
       "8         2           6929         35    ВЫСШЕЕ             0   \n",
       "9         0           2188         41   среднее             1   \n",
       "\n",
       "      family_status  family_status_id gender income_type  debt  total_income  \\\n",
       "0   женат / замужем                 0      F   сотрудник     0        253875   \n",
       "1   женат / замужем                 0      F   сотрудник     0        112080   \n",
       "2   женат / замужем                 0      M   сотрудник     0        145885   \n",
       "3   женат / замужем                 0      M   сотрудник     0        267628   \n",
       "4  гражданский брак                 1      F   пенсионер     0        158616   \n",
       "5  гражданский брак                 1      M   компаньон     0        255763   \n",
       "6   женат / замужем                 0      F   компаньон     0        240525   \n",
       "7   женат / замужем                 0      M   сотрудник     0        135823   \n",
       "8  гражданский брак                 1      F   сотрудник     0         95856   \n",
       "9   женат / замужем                 0      M   сотрудник     0        144425   \n",
       "\n",
       "                      purpose  \n",
       "0               покупка жилья  \n",
       "1     приобретение автомобиля  \n",
       "2               покупка жилья  \n",
       "3  дополнительное образование  \n",
       "4             сыграть свадьбу  \n",
       "5               покупка жилья  \n",
       "6           операции с жильем  \n",
       "7                 образование  \n",
       "8       на проведение свадьбы  \n",
       "9     покупка жилья для семьи  "
      ]
     },
     "execution_count": 3,
     "metadata": {},
     "output_type": "execute_result"
    }
   ],
   "source": [
    "#Замена вещественного типа данных на целочисленные методом astype(), т.к. метод to_numeric переводит данные в тип float.\n",
    "df['days_employed'] = df['days_employed'].astype('int')\n",
    "df['total_income'] = df['total_income'].astype('int')\n",
    "df.head(10)"
   ]
  },
  {
   "cell_type": "markdown",
   "metadata": {},
   "source": [
    "**Вывод**"
   ]
  },
  {
   "cell_type": "markdown",
   "metadata": {},
   "source": [
    "Для столбцов с вещественным типом float64 произведена замена типа данных на целочисленный int."
   ]
  },
  {
   "cell_type": "markdown",
   "metadata": {},
   "source": [
    "### Обработка дубликатов"
   ]
  },
  {
   "cell_type": "code",
   "execution_count": 4,
   "metadata": {
    "scrolled": true
   },
   "outputs": [
    {
     "name": "stdout",
     "output_type": "stream",
     "text": [
      "Уникальные значения по образованию:\n",
      "среднее                15233\n",
      "высшее                  5260\n",
      "неоконченное высшее      744\n",
      "начальное                282\n",
      "ученая степень             6\n",
      "Name: education, dtype: int64\n",
      "\n",
      "Полных дубликатов в таблице: 71\n"
     ]
    },
    {
     "data": {
      "text/plain": [
       "(21454, 12)"
      ]
     },
     "execution_count": 4,
     "metadata": {},
     "output_type": "execute_result"
    }
   ],
   "source": [
    "\n",
    "#приведение названий ступеней образования к нижнему регистру \n",
    "df['education'] = df['education'].str.lower()\n",
    "print('Уникальные значения по образованию:')\n",
    "print(df['education'].value_counts())\n",
    "print()\n",
    "\n",
    "#подсчет полных дубликатов\n",
    "print('Полных дубликатов в таблице:', df.duplicated().sum())\n",
    "#удаление полных дубликатов\n",
    "df = df.drop_duplicates().reset_index(drop= True)\n",
    "df.shape"
   ]
  },
  {
   "cell_type": "markdown",
   "metadata": {},
   "source": [
    "#### Комментарий"
   ]
  },
  {
   "cell_type": "markdown",
   "metadata": {},
   "source": [
    "1) Проверены уникальные значения в основных категориальных переменных, где возможны дубликаты в текстовых данных\n",
    "2) Выявлены дубликаты по признаку \"образование\" из-за разного регистра. Регистр для всех заменен на нижний.\n",
    "3) Проверены и удалены полные дубликаты методом drop_duplicates()"
   ]
  },
  {
   "cell_type": "markdown",
   "metadata": {},
   "source": [
    "**Вывод**"
   ]
  },
  {
   "cell_type": "markdown",
   "metadata": {},
   "source": [
    "Теперь у нас есть корректная информация по образованию. Наибольшее кол-во заемщиков в выборке имеют среднее образование."
   ]
  },
  {
   "cell_type": "markdown",
   "metadata": {},
   "source": [
    "### Лемматизация"
   ]
  },
  {
   "cell_type": "code",
   "execution_count": 5,
   "metadata": {
    "scrolled": false
   },
   "outputs": [
    {
     "name": "stdout",
     "output_type": "stream",
     "text": [
      "Counter({' ': 96, 'покупка': 10, 'недвижимость': 10, 'автомобиль': 9, 'образование': 9, 'жилье': 7, 'с': 5, 'операция': 4, 'на': 4, 'свой': 4, 'свадьба': 3, 'строительство': 3, 'получение': 3, 'высокий': 3, 'дополнительный': 2, 'для': 2, 'коммерческий': 2, 'жилой': 2, 'подержать': 2, 'заниматься': 2, 'сделка': 2, 'приобретение': 1, 'сыграть': 1, 'проведение': 1, 'семья': 1, 'собственный': 1, 'со': 1, 'профильный': 1, 'сдача': 1, 'ремонт': 1, '\\n': 1})\n",
      "0                 покупка жилья\n",
      "1       приобретение автомобиля\n",
      "2                 покупка жилья\n",
      "3    дополнительное образование\n",
      "4               сыграть свадьбу\n",
      "5                 покупка жилья\n",
      "6             операции с жильем\n",
      "7                   образование\n",
      "8         на проведение свадьбы\n",
      "9       покупка жилья для семьи\n",
      "Name: purpose, dtype: object\n",
      "0                      [покупка,  , жилье, \\n]\n",
      "1            [приобретение,  , автомобиль, \\n]\n",
      "2                      [покупка,  , жилье, \\n]\n",
      "3         [дополнительный,  , образование, \\n]\n",
      "4                    [сыграть,  , свадьба, \\n]\n",
      "5                      [покупка,  , жилье, \\n]\n",
      "6               [операция,  , с,  , жилье, \\n]\n",
      "7                            [образование, \\n]\n",
      "8          [на,  , проведение,  , свадьба, \\n]\n",
      "9    [покупка,  , жилье,  , для,  , семья, \\n]\n",
      "Name: lemmas, dtype: object\n"
     ]
    }
   ],
   "source": [
    "#формируем список уникальных значений целей кредита\n",
    "purpose_unique = df['purpose'].unique()\n",
    "#преобразование в единый текст-строку\n",
    "purpose_unique_str = ' '.join(purpose_unique)\n",
    "#подсчет частоты лемм в столбце purpose \n",
    "lemmas = m.lemmatize(purpose_unique_str)\n",
    "lemmas_counted = Counter(lemmas)\n",
    "#вывод\n",
    "print(lemmas_counted)\n",
    "\n",
    "#формируем столбец с леммами для каждой строчки данных\n",
    "def lemmatization(row):\n",
    "        lemmas = m.lemmatize(row)\n",
    "        return lemmas\n",
    "df['lemmas'] = df['purpose'].apply(lemmatization)\n",
    "print(df['purpose'].head(10))\n",
    "print(df['lemmas'].head(10))\n",
    "    "
   ]
  },
  {
   "cell_type": "markdown",
   "metadata": {},
   "source": [
    "#### Комментарий"
   ]
  },
  {
   "cell_type": "markdown",
   "metadata": {},
   "source": [
    "После лемматизации выделены повторяющиеся леммы, которые могут быть сгруппированы по следующим категориям:\n",
    "1. недвижимость, жилье - недвижимость\n",
    "2. образование - образование\n",
    "3. автомобиль - автокредит\n",
    "4. свадьба - свадьба\n",
    "\n",
    "Также был сформирован столбец с леммами на основе значений purpose для дальнейшей категоризации. "
   ]
  },
  {
   "cell_type": "markdown",
   "metadata": {},
   "source": [
    "**Вывод**"
   ]
  },
  {
   "cell_type": "markdown",
   "metadata": {},
   "source": [
    "Основные целей обращений: недвижимость, образование, автокредит, свадьба"
   ]
  },
  {
   "cell_type": "markdown",
   "metadata": {},
   "source": [
    "### Категоризация данных"
   ]
  },
  {
   "cell_type": "code",
   "execution_count": 6,
   "metadata": {
    "scrolled": true
   },
   "outputs": [
    {
     "name": "stdout",
     "output_type": "stream",
     "text": [
      "недвижимость    10811\n",
      "автокредит       4306\n",
      "образование      4013\n",
      "свадьба          2324\n",
      "Name: purpose_common_name, dtype: int64\n"
     ]
    }
   ],
   "source": [
    "#присвоение будущим категориям id\n",
    "category_df = pd.DataFrame([[1, 'недвижимость'], [2,'образование'], [3,'автокредит'], [4,'свадьба']], columns=['purpose_id','purpose_common_name'])\n",
    "\n",
    "#функция присвоение категорий\n",
    "def categorization(data):\n",
    "        if 'жилье' in data or 'недвижимость' in data:\n",
    "            return 1\n",
    "        if 'образование' in data:\n",
    "            return 2\n",
    "        if 'автомобиль' in data:\n",
    "            return 3\n",
    "        if 'свадьба' in data:\n",
    "            return 4\n",
    "df['purpose_id'] = df['lemmas'].apply(categorization)\n",
    "#подтянем столбец с названиями категорий к значениям методом merge()\n",
    "df = df.merge(category_df, on = 'purpose_id', how = 'left')\n",
    "print(df['purpose_common_name'].value_counts())"
   ]
  },
  {
   "cell_type": "markdown",
   "metadata": {},
   "source": [
    "**Вывод**"
   ]
  },
  {
   "cell_type": "markdown",
   "metadata": {},
   "source": [
    "Больше чем у половины клиентов в выборке цель кредита связана с недвижимостью."
   ]
  },
  {
   "cell_type": "markdown",
   "metadata": {},
   "source": [
    "## Шаг 3. Ответьте на вопросы"
   ]
  },
  {
   "cell_type": "markdown",
   "metadata": {},
   "source": [
    "- Есть ли зависимость между наличием детей и возвратом кредита в срок?"
   ]
  },
  {
   "cell_type": "code",
   "execution_count": 7,
   "metadata": {},
   "outputs": [
    {
     "data": {
      "text/html": [
       "<style  type=\"text/css\" >\n",
       "</style><table id=\"T_8a4430d8_81d2_11eb_81b6_02420a3957d0\" ><thead>    <tr>        <th class=\"blank level0\" ></th>        <th class=\"col_heading level0 col0\" >debt_N</th>        <th class=\"col_heading level0 col1\" >debt_Y</th>        <th class=\"col_heading level0 col2\" >debtors_ratio</th>    </tr>    <tr>        <th class=\"index_name level0\" >children</th>        <th class=\"blank\" ></th>        <th class=\"blank\" ></th>        <th class=\"blank\" ></th>    </tr></thead><tbody>\n",
       "                <tr>\n",
       "                        <th id=\"T_8a4430d8_81d2_11eb_81b6_02420a3957d0level0_row0\" class=\"row_heading level0 row0\" >20</th>\n",
       "                        <td id=\"T_8a4430d8_81d2_11eb_81b6_02420a3957d0row0_col0\" class=\"data row0 col0\" >68</td>\n",
       "                        <td id=\"T_8a4430d8_81d2_11eb_81b6_02420a3957d0row0_col1\" class=\"data row0 col1\" >8</td>\n",
       "                        <td id=\"T_8a4430d8_81d2_11eb_81b6_02420a3957d0row0_col2\" class=\"data row0 col2\" >10.53%</td>\n",
       "            </tr>\n",
       "            <tr>\n",
       "                        <th id=\"T_8a4430d8_81d2_11eb_81b6_02420a3957d0level0_row1\" class=\"row_heading level0 row1\" >4</th>\n",
       "                        <td id=\"T_8a4430d8_81d2_11eb_81b6_02420a3957d0row1_col0\" class=\"data row1 col0\" >37</td>\n",
       "                        <td id=\"T_8a4430d8_81d2_11eb_81b6_02420a3957d0row1_col1\" class=\"data row1 col1\" >4</td>\n",
       "                        <td id=\"T_8a4430d8_81d2_11eb_81b6_02420a3957d0row1_col2\" class=\"data row1 col2\" >9.76%</td>\n",
       "            </tr>\n",
       "            <tr>\n",
       "                        <th id=\"T_8a4430d8_81d2_11eb_81b6_02420a3957d0level0_row2\" class=\"row_heading level0 row2\" >2</th>\n",
       "                        <td id=\"T_8a4430d8_81d2_11eb_81b6_02420a3957d0row2_col0\" class=\"data row2 col0\" >1858</td>\n",
       "                        <td id=\"T_8a4430d8_81d2_11eb_81b6_02420a3957d0row2_col1\" class=\"data row2 col1\" >194</td>\n",
       "                        <td id=\"T_8a4430d8_81d2_11eb_81b6_02420a3957d0row2_col2\" class=\"data row2 col2\" >9.45%</td>\n",
       "            </tr>\n",
       "            <tr>\n",
       "                        <th id=\"T_8a4430d8_81d2_11eb_81b6_02420a3957d0level0_row3\" class=\"row_heading level0 row3\" >1</th>\n",
       "                        <td id=\"T_8a4430d8_81d2_11eb_81b6_02420a3957d0row3_col0\" class=\"data row3 col0\" >4410</td>\n",
       "                        <td id=\"T_8a4430d8_81d2_11eb_81b6_02420a3957d0row3_col1\" class=\"data row3 col1\" >445</td>\n",
       "                        <td id=\"T_8a4430d8_81d2_11eb_81b6_02420a3957d0row3_col2\" class=\"data row3 col2\" >9.17%</td>\n",
       "            </tr>\n",
       "            <tr>\n",
       "                        <th id=\"T_8a4430d8_81d2_11eb_81b6_02420a3957d0level0_row4\" class=\"row_heading level0 row4\" >3</th>\n",
       "                        <td id=\"T_8a4430d8_81d2_11eb_81b6_02420a3957d0row4_col0\" class=\"data row4 col0\" >303</td>\n",
       "                        <td id=\"T_8a4430d8_81d2_11eb_81b6_02420a3957d0row4_col1\" class=\"data row4 col1\" >27</td>\n",
       "                        <td id=\"T_8a4430d8_81d2_11eb_81b6_02420a3957d0row4_col2\" class=\"data row4 col2\" >8.18%</td>\n",
       "            </tr>\n",
       "            <tr>\n",
       "                        <th id=\"T_8a4430d8_81d2_11eb_81b6_02420a3957d0level0_row5\" class=\"row_heading level0 row5\" >0</th>\n",
       "                        <td id=\"T_8a4430d8_81d2_11eb_81b6_02420a3957d0row5_col0\" class=\"data row5 col0\" >13028</td>\n",
       "                        <td id=\"T_8a4430d8_81d2_11eb_81b6_02420a3957d0row5_col1\" class=\"data row5 col1\" >1063</td>\n",
       "                        <td id=\"T_8a4430d8_81d2_11eb_81b6_02420a3957d0row5_col2\" class=\"data row5 col2\" >7.54%</td>\n",
       "            </tr>\n",
       "            <tr>\n",
       "                        <th id=\"T_8a4430d8_81d2_11eb_81b6_02420a3957d0level0_row6\" class=\"row_heading level0 row6\" >5</th>\n",
       "                        <td id=\"T_8a4430d8_81d2_11eb_81b6_02420a3957d0row6_col0\" class=\"data row6 col0\" >9</td>\n",
       "                        <td id=\"T_8a4430d8_81d2_11eb_81b6_02420a3957d0row6_col1\" class=\"data row6 col1\" >nan</td>\n",
       "                        <td id=\"T_8a4430d8_81d2_11eb_81b6_02420a3957d0row6_col2\" class=\"data row6 col2\" >nan%</td>\n",
       "            </tr>\n",
       "    </tbody></table>"
      ],
      "text/plain": [
       "<pandas.io.formats.style.Styler at 0x7fac03f7b850>"
      ]
     },
     "execution_count": 7,
     "metadata": {},
     "output_type": "execute_result"
    }
   ],
   "source": [
    "#функции замены названий столбцов в сводной таблицы и расчета доли просрочек\n",
    "def column_name_change(data):\n",
    "    data.set_axis(['debt_N', 'debt_Y'], axis = 'columns', inplace = True)\n",
    "    return data\n",
    "def ratio_calc(data):\n",
    "    data['debtors_ratio'] = data['debt_Y'] / (data['debt_Y'] + data['debt_N'])\n",
    "    data = data.sort_values(by = 'debtors_ratio', ascending = False)\n",
    "    return data\n",
    "\n",
    "\n",
    "#построение сводной таблицы\n",
    "data_pivot_children_debt = df.pivot_table(index=['children'], columns='debt', values='gender', aggfunc='count')\n",
    "#замена названий столбцов и расчет доли должников\n",
    "column_name_change(data_pivot_children_debt)\n",
    "ratio_calc(data_pivot_children_debt).style.format({'debtors_ratio': '{:.2%}'})"
   ]
  },
  {
   "cell_type": "markdown",
   "metadata": {},
   "source": [
    "**Вывод**"
   ]
  },
  {
   "cell_type": "markdown",
   "metadata": {},
   "source": [
    "В данных прослеживается зависимость - по мере уменьшения кол-ва детей доля клиентов с просрочкой возврата падает с 10,5% для клиентов с 20 детьми и 7,5%\n",
    "для клиентов без детей. \n",
    "Среди клиентов с 5 детьми должников не оказалось, но их всего 9 человек в выборке, поэтому необходимо  дополнительное исследование таких клиентов в будущем для более точного подтверждения вывода."
   ]
  },
  {
   "cell_type": "markdown",
   "metadata": {},
   "source": [
    "- Есть ли зависимость между семейным положением и возвратом кредита в срок?"
   ]
  },
  {
   "cell_type": "code",
   "execution_count": 8,
   "metadata": {},
   "outputs": [
    {
     "data": {
      "text/html": [
       "<style  type=\"text/css\" >\n",
       "</style><table id=\"T_8a4a5b84_81d2_11eb_81b6_02420a3957d0\" ><thead>    <tr>        <th class=\"blank level0\" ></th>        <th class=\"col_heading level0 col0\" >debt_N</th>        <th class=\"col_heading level0 col1\" >debt_Y</th>        <th class=\"col_heading level0 col2\" >debtors_ratio</th>    </tr>    <tr>        <th class=\"index_name level0\" >family_status</th>        <th class=\"blank\" ></th>        <th class=\"blank\" ></th>        <th class=\"blank\" ></th>    </tr></thead><tbody>\n",
       "                <tr>\n",
       "                        <th id=\"T_8a4a5b84_81d2_11eb_81b6_02420a3957d0level0_row0\" class=\"row_heading level0 row0\" >Не женат / не замужем</th>\n",
       "                        <td id=\"T_8a4a5b84_81d2_11eb_81b6_02420a3957d0row0_col0\" class=\"data row0 col0\" >2536</td>\n",
       "                        <td id=\"T_8a4a5b84_81d2_11eb_81b6_02420a3957d0row0_col1\" class=\"data row0 col1\" >274</td>\n",
       "                        <td id=\"T_8a4a5b84_81d2_11eb_81b6_02420a3957d0row0_col2\" class=\"data row0 col2\" >9.75%</td>\n",
       "            </tr>\n",
       "            <tr>\n",
       "                        <th id=\"T_8a4a5b84_81d2_11eb_81b6_02420a3957d0level0_row1\" class=\"row_heading level0 row1\" >гражданский брак</th>\n",
       "                        <td id=\"T_8a4a5b84_81d2_11eb_81b6_02420a3957d0row1_col0\" class=\"data row1 col0\" >3763</td>\n",
       "                        <td id=\"T_8a4a5b84_81d2_11eb_81b6_02420a3957d0row1_col1\" class=\"data row1 col1\" >388</td>\n",
       "                        <td id=\"T_8a4a5b84_81d2_11eb_81b6_02420a3957d0row1_col2\" class=\"data row1 col2\" >9.35%</td>\n",
       "            </tr>\n",
       "            <tr>\n",
       "                        <th id=\"T_8a4a5b84_81d2_11eb_81b6_02420a3957d0level0_row2\" class=\"row_heading level0 row2\" >женат / замужем</th>\n",
       "                        <td id=\"T_8a4a5b84_81d2_11eb_81b6_02420a3957d0row2_col0\" class=\"data row2 col0\" >11408</td>\n",
       "                        <td id=\"T_8a4a5b84_81d2_11eb_81b6_02420a3957d0row2_col1\" class=\"data row2 col1\" >931</td>\n",
       "                        <td id=\"T_8a4a5b84_81d2_11eb_81b6_02420a3957d0row2_col2\" class=\"data row2 col2\" >7.55%</td>\n",
       "            </tr>\n",
       "            <tr>\n",
       "                        <th id=\"T_8a4a5b84_81d2_11eb_81b6_02420a3957d0level0_row3\" class=\"row_heading level0 row3\" >в разводе</th>\n",
       "                        <td id=\"T_8a4a5b84_81d2_11eb_81b6_02420a3957d0row3_col0\" class=\"data row3 col0\" >1110</td>\n",
       "                        <td id=\"T_8a4a5b84_81d2_11eb_81b6_02420a3957d0row3_col1\" class=\"data row3 col1\" >85</td>\n",
       "                        <td id=\"T_8a4a5b84_81d2_11eb_81b6_02420a3957d0row3_col2\" class=\"data row3 col2\" >7.11%</td>\n",
       "            </tr>\n",
       "            <tr>\n",
       "                        <th id=\"T_8a4a5b84_81d2_11eb_81b6_02420a3957d0level0_row4\" class=\"row_heading level0 row4\" >вдовец / вдова</th>\n",
       "                        <td id=\"T_8a4a5b84_81d2_11eb_81b6_02420a3957d0row4_col0\" class=\"data row4 col0\" >896</td>\n",
       "                        <td id=\"T_8a4a5b84_81d2_11eb_81b6_02420a3957d0row4_col1\" class=\"data row4 col1\" >63</td>\n",
       "                        <td id=\"T_8a4a5b84_81d2_11eb_81b6_02420a3957d0row4_col2\" class=\"data row4 col2\" >6.57%</td>\n",
       "            </tr>\n",
       "    </tbody></table>"
      ],
      "text/plain": [
       "<pandas.io.formats.style.Styler at 0x7fac251b2b50>"
      ]
     },
     "execution_count": 8,
     "metadata": {},
     "output_type": "execute_result"
    }
   ],
   "source": [
    "#построение сводной таблицы\n",
    "data_pivot_family_debt = df.pivot_table(index=['family_status'], columns='debt', values='gender', aggfunc='count')\n",
    "#замена названий столбцов и расчет доли должников\n",
    "column_name_change(data_pivot_family_debt)\n",
    "ratio_calc(data_pivot_family_debt).style.format({'debtors_ratio': '{:.2%}'})"
   ]
  },
  {
   "cell_type": "markdown",
   "metadata": {},
   "source": [
    "**Вывод**"
   ]
  },
  {
   "cell_type": "markdown",
   "metadata": {},
   "source": [
    "В данных прослеживается зависимость. \n",
    "Можно выделить три группы категорий по величине % невозврата:\n",
    "1. Категории \"Не женат / не замужем\" и \"гражданский брак\" имеют наибольший % невозвратов (9,8% и 9,5% соответственно)\n",
    "2. Категории \"женат / замужем и \"в разводе\" имеют % невозвратов 7,5% и 7,1% соответственно\n",
    "3. Категория \"вдовец / вдова\" имеют наименьший % невозвратов - 6,6%"
   ]
  },
  {
   "cell_type": "markdown",
   "metadata": {},
   "source": [
    "- Есть ли зависимость между уровнем дохода и возвратом кредита в срок?"
   ]
  },
  {
   "cell_type": "markdown",
   "metadata": {},
   "source": [
    "#### Комментарий"
   ]
  },
  {
   "cell_type": "markdown",
   "metadata": {},
   "source": [
    "Как мы выяснили ранее, данные по доходам у разных типов доходов различаются. Кроме того, в выборке >50% относятся к сотрудникам. Это значит, что для более объективной картины целесообразно сравнивать характерные значения по типам дохода с точки зрения выплаты/невыплаты кредита в срок."
   ]
  },
  {
   "cell_type": "code",
   "execution_count": 9,
   "metadata": {},
   "outputs": [
    {
     "name": "stdout",
     "output_type": "stream",
     "text": [
      "[(20666.0, 98538.0], (98538.0, 132134.0], (132134.0, 161335.0], (161335.0, 214618.0], (214618.0, 2265604.0]]\n",
      "Categories (5, interval[float64]): [(20666.0, 98538.0] < (98538.0, 132134.0] < (132134.0, 161335.0] < (161335.0, 214618.0] < (214618.0, 2265604.0]]\n",
      "(214618.0, 2265604.0]    4291\n",
      "(161335.0, 214618.0]     4291\n",
      "(98538.0, 132134.0]      4291\n",
      "(20666.0, 98538.0]       4291\n",
      "(132134.0, 161335.0]     4290\n",
      "Name: income_quintiles, dtype: int64\n",
      "5    4291\n",
      "4    4291\n",
      "2    4291\n",
      "1    4291\n",
      "3    4290\n",
      "Name: income_quintiles_label, dtype: int64\n"
     ]
    },
    {
     "data": {
      "text/html": [
       "<style  type=\"text/css\" >\n",
       "</style><table id=\"T_8a595db4_81d2_11eb_81b6_02420a3957d0\" ><thead>    <tr>        <th class=\"blank level0\" ></th>        <th class=\"col_heading level0 col0\" >debt_N</th>        <th class=\"col_heading level0 col1\" >debt_Y</th>        <th class=\"col_heading level0 col2\" >debtors_ratio</th>    </tr>    <tr>        <th class=\"index_name level0\" >income_quintiles_label</th>        <th class=\"blank\" ></th>        <th class=\"blank\" ></th>        <th class=\"blank\" ></th>    </tr></thead><tbody>\n",
       "                <tr>\n",
       "                        <th id=\"T_8a595db4_81d2_11eb_81b6_02420a3957d0level0_row0\" class=\"row_heading level0 row0\" >5</th>\n",
       "                        <td id=\"T_8a595db4_81d2_11eb_81b6_02420a3957d0row0_col0\" class=\"data row0 col0\" >3991</td>\n",
       "                        <td id=\"T_8a595db4_81d2_11eb_81b6_02420a3957d0row0_col1\" class=\"data row0 col1\" >300</td>\n",
       "                        <td id=\"T_8a595db4_81d2_11eb_81b6_02420a3957d0row0_col2\" class=\"data row0 col2\" >6.99%</td>\n",
       "            </tr>\n",
       "            <tr>\n",
       "                        <th id=\"T_8a595db4_81d2_11eb_81b6_02420a3957d0level0_row1\" class=\"row_heading level0 row1\" >1</th>\n",
       "                        <td id=\"T_8a595db4_81d2_11eb_81b6_02420a3957d0row1_col0\" class=\"data row1 col0\" >3947</td>\n",
       "                        <td id=\"T_8a595db4_81d2_11eb_81b6_02420a3957d0row1_col1\" class=\"data row1 col1\" >344</td>\n",
       "                        <td id=\"T_8a595db4_81d2_11eb_81b6_02420a3957d0row1_col2\" class=\"data row1 col2\" >8.02%</td>\n",
       "            </tr>\n",
       "            <tr>\n",
       "                        <th id=\"T_8a595db4_81d2_11eb_81b6_02420a3957d0level0_row2\" class=\"row_heading level0 row2\" >2</th>\n",
       "                        <td id=\"T_8a595db4_81d2_11eb_81b6_02420a3957d0row2_col0\" class=\"data row2 col0\" >3930</td>\n",
       "                        <td id=\"T_8a595db4_81d2_11eb_81b6_02420a3957d0row2_col1\" class=\"data row2 col1\" >361</td>\n",
       "                        <td id=\"T_8a595db4_81d2_11eb_81b6_02420a3957d0row2_col2\" class=\"data row2 col2\" >8.41%</td>\n",
       "            </tr>\n",
       "            <tr>\n",
       "                        <th id=\"T_8a595db4_81d2_11eb_81b6_02420a3957d0level0_row3\" class=\"row_heading level0 row3\" >4</th>\n",
       "                        <td id=\"T_8a595db4_81d2_11eb_81b6_02420a3957d0row3_col0\" class=\"data row3 col0\" >3930</td>\n",
       "                        <td id=\"T_8a595db4_81d2_11eb_81b6_02420a3957d0row3_col1\" class=\"data row3 col1\" >361</td>\n",
       "                        <td id=\"T_8a595db4_81d2_11eb_81b6_02420a3957d0row3_col2\" class=\"data row3 col2\" >8.41%</td>\n",
       "            </tr>\n",
       "            <tr>\n",
       "                        <th id=\"T_8a595db4_81d2_11eb_81b6_02420a3957d0level0_row4\" class=\"row_heading level0 row4\" >3</th>\n",
       "                        <td id=\"T_8a595db4_81d2_11eb_81b6_02420a3957d0row4_col0\" class=\"data row4 col0\" >3915</td>\n",
       "                        <td id=\"T_8a595db4_81d2_11eb_81b6_02420a3957d0row4_col1\" class=\"data row4 col1\" >375</td>\n",
       "                        <td id=\"T_8a595db4_81d2_11eb_81b6_02420a3957d0row4_col2\" class=\"data row4 col2\" >8.74%</td>\n",
       "            </tr>\n",
       "    </tbody></table>"
      ],
      "text/plain": [
       "<pandas.io.formats.style.Styler at 0x7fabc1cfb8d0>"
      ]
     },
     "execution_count": 9,
     "metadata": {},
     "output_type": "execute_result"
    }
   ],
   "source": [
    "#сортируем таблицу по возрастанию дохода\n",
    "df = df.sort_values(by = 'total_income', ascending = True)\n",
    "#print(df.head())\n",
    "\n",
    "#добавление в таблицу исходных данных столбцов с разделением на квинтили с помощью метода qcut c диапазонами значений и с номерами групп\n",
    "\n",
    "\n",
    "df['income_quintiles'] = pd.qcut(df['total_income'],q = 5, precision=0)\n",
    "income_groups = ['1', '2', '3', '4', '5']\n",
    "df['income_quintiles_label'] = pd.qcut(df['total_income'],q = 5 ,labels= income_groups)\n",
    "#print(df.head(5))\n",
    "\n",
    "#посмотрим, какие выделены группы доходов и как распределены клиенты по группам доходов\n",
    "print(df['income_quintiles'].unique())\n",
    "print(df['income_quintiles'].value_counts())\n",
    "print(df['income_quintiles_label'].value_counts())\n",
    "\n",
    "\n",
    "#построение сводной таблицы\n",
    "data_pivot_income_debt = df.pivot_table(index=['income_quintiles_label'], columns='debt', values='gender', aggfunc='count')\n",
    "#замена названий столбцов и расчет доли должников\n",
    "column_name_change(data_pivot_income_debt)\n",
    "ratio_calc(data_pivot_income_debt).sort_values(by = 'debtors_ratio', ascending = True).style.format({'debtors_ratio': '{:.2%}'})"
   ]
  },
  {
   "cell_type": "markdown",
   "metadata": {},
   "source": [
    "**Вывод**"
   ]
  },
  {
   "cell_type": "markdown",
   "metadata": {},
   "source": [
    "<span style=\"color:purple\">**В результате анализа видно, что уровень доходов влияет на факт невозврата.**\n",
    "\n",
    "- Среди клиентов с высокими доходами в 5 группе (20% клиентов с диапазоном доходов 214 618 - 2 265 604 руб) наименьший % невозвратов - 7%\n",
    "- Клиенты 1 группы (20 666 - 98 538) на втором месте по надежности - 8%\n",
    "- Клиенты  из 2 (98 538 - 132 134 руб) и 4 (161 335 - 214 618 руб) группы имеют равный % невозврата 8,4%\n",
    "- Наибольший % невозвратов в 3 группе с доходами в диапазоне  (132 134 - 161 335 руб.) - 8,7%"
   ]
  },
  {
   "cell_type": "markdown",
   "metadata": {},
   "source": [
    "- Как разные цели кредита влияют на его возврат в срок?"
   ]
  },
  {
   "cell_type": "code",
   "execution_count": 10,
   "metadata": {
    "scrolled": true
   },
   "outputs": [
    {
     "data": {
      "text/html": [
       "<style  type=\"text/css\" >\n",
       "</style><table id=\"T_8a618656_81d2_11eb_81b6_02420a3957d0\" ><thead>    <tr>        <th class=\"blank level0\" ></th>        <th class=\"col_heading level0 col0\" >debt_N</th>        <th class=\"col_heading level0 col1\" >debt_Y</th>        <th class=\"col_heading level0 col2\" >debtors_ratio</th>    </tr>    <tr>        <th class=\"index_name level0\" >purpose_common_name</th>        <th class=\"blank\" ></th>        <th class=\"blank\" ></th>        <th class=\"blank\" ></th>    </tr></thead><tbody>\n",
       "                <tr>\n",
       "                        <th id=\"T_8a618656_81d2_11eb_81b6_02420a3957d0level0_row0\" class=\"row_heading level0 row0\" >автокредит</th>\n",
       "                        <td id=\"T_8a618656_81d2_11eb_81b6_02420a3957d0row0_col0\" class=\"data row0 col0\" >3903</td>\n",
       "                        <td id=\"T_8a618656_81d2_11eb_81b6_02420a3957d0row0_col1\" class=\"data row0 col1\" >403</td>\n",
       "                        <td id=\"T_8a618656_81d2_11eb_81b6_02420a3957d0row0_col2\" class=\"data row0 col2\" >9.36%</td>\n",
       "            </tr>\n",
       "            <tr>\n",
       "                        <th id=\"T_8a618656_81d2_11eb_81b6_02420a3957d0level0_row1\" class=\"row_heading level0 row1\" >образование</th>\n",
       "                        <td id=\"T_8a618656_81d2_11eb_81b6_02420a3957d0row1_col0\" class=\"data row1 col0\" >3643</td>\n",
       "                        <td id=\"T_8a618656_81d2_11eb_81b6_02420a3957d0row1_col1\" class=\"data row1 col1\" >370</td>\n",
       "                        <td id=\"T_8a618656_81d2_11eb_81b6_02420a3957d0row1_col2\" class=\"data row1 col2\" >9.22%</td>\n",
       "            </tr>\n",
       "            <tr>\n",
       "                        <th id=\"T_8a618656_81d2_11eb_81b6_02420a3957d0level0_row2\" class=\"row_heading level0 row2\" >свадьба</th>\n",
       "                        <td id=\"T_8a618656_81d2_11eb_81b6_02420a3957d0row2_col0\" class=\"data row2 col0\" >2138</td>\n",
       "                        <td id=\"T_8a618656_81d2_11eb_81b6_02420a3957d0row2_col1\" class=\"data row2 col1\" >186</td>\n",
       "                        <td id=\"T_8a618656_81d2_11eb_81b6_02420a3957d0row2_col2\" class=\"data row2 col2\" >8.00%</td>\n",
       "            </tr>\n",
       "            <tr>\n",
       "                        <th id=\"T_8a618656_81d2_11eb_81b6_02420a3957d0level0_row3\" class=\"row_heading level0 row3\" >недвижимость</th>\n",
       "                        <td id=\"T_8a618656_81d2_11eb_81b6_02420a3957d0row3_col0\" class=\"data row3 col0\" >10029</td>\n",
       "                        <td id=\"T_8a618656_81d2_11eb_81b6_02420a3957d0row3_col1\" class=\"data row3 col1\" >782</td>\n",
       "                        <td id=\"T_8a618656_81d2_11eb_81b6_02420a3957d0row3_col2\" class=\"data row3 col2\" >7.23%</td>\n",
       "            </tr>\n",
       "    </tbody></table>"
      ],
      "text/plain": [
       "<pandas.io.formats.style.Styler at 0x7fabc29578d0>"
      ]
     },
     "execution_count": 10,
     "metadata": {},
     "output_type": "execute_result"
    }
   ],
   "source": [
    "#построение сводной таблицы\n",
    "data_pivot_purpose_debt = df.pivot_table(index=['purpose_common_name'], columns='debt', values='gender', aggfunc='count')\n",
    "#замена названий столбцов и расчет доли должников\n",
    "column_name_change(data_pivot_purpose_debt)\n",
    "ratio_calc(data_pivot_purpose_debt).style.format({'debtors_ratio': '{:.2%}'})"
   ]
  },
  {
   "cell_type": "markdown",
   "metadata": {},
   "source": [
    "**Вывод**"
   ]
  },
  {
   "cell_type": "markdown",
   "metadata": {},
   "source": [
    "Самые рискованные с точки зрения невозврата цели - автокредит и образование (9% доля невозвратов)\n",
    "Далее идет свадьба (8% доля невозвратов)\n",
    "Меньше всего невозвратов для недвижимости (7%) - хорошая новость, т.к. доля этих клиентов в нашей статистике > 50%"
   ]
  },
  {
   "cell_type": "markdown",
   "metadata": {},
   "source": [
    "## Шаг 4. Общий вывод"
   ]
  },
  {
   "cell_type": "markdown",
   "metadata": {},
   "source": [
    "**В ходе исследования были выявлены следующие факты в данных:**\n",
    "\n",
    "- По критериям пол, тип дохода, семейное положение, дети более половины наблюдений приходится на одно их значение. Это может влиять на репрезентативность результатов исследования. Возможно есть дополнительные данные для уточнения выборки.\n",
    "- Существуют пропущенные значения критерия дохода и стаже. Это может быть связано с отсутствием данных в централизованных источниках, если данные брались автоматически и/или нежелание указывать клиентами при заполнении заявок. \n",
    "- В данных о кол-ве детей и стаже работы в днях есть отрицательные значения. Скорее всего технологическая ошибка при консолидации данных из разных систем.\n",
    "- Данные об образовании заполнены с разными регистрами\n",
    "\n",
    "Для решения поставленной задачи данные были обработаны: пропущенные значения заменены медианными, отрицательные переведены в положительные, изменен тип данных в столбцах стажа и дохода, регистры приведены к нижнему, дубликаты удалены, проведены категоризация и лемматизация\n",
    "\n",
    "**В результате были обнаружены зависимости между количеством детей, семейным положением и фактом невозврата кредита в срок:**\n",
    "- Зависимость между кол-вом детей и невозвратом - обратная, т.е. чем больше детей, тем больше доля должников.Самые привлекательные заемщики - бездетные (ок.8% невозврата).\n",
    "- Семейное положение также влияет на факт невозврата: не состоящие в браке, либо состоящие в гражданском браке заемщики - с самой большой долей невозврата (9-10%).\n",
    "\n",
    "**Кроме того, были исследовано влияние уровня дохода и цели кредита на факт невозврата:**\n",
    "- Выявлено влияние уровня дохода на невозврат кредитов - клиенты в верхнем диапазоне доходов имеют наименьший % невозвратов (7%), далее идут клиенты из нижнего диапазона дохода(8%). Клиенты с доходами 161 335 - 214 618 имеют наибольший % невозвратов - 8,7%\n",
    "- Есть влияние цели кредита - наиболее рискованные заемщики с целью автокредит и образование (9%), наименее рискованные - недвижимость(7%)\n",
    "Таким образом, цель исследования выполнена.\n",
    "\n",
    "Возможное направление для дальнейших исследований - влияние возраста, пола, образования на невозврат кредитов.\n",
    "\n",
    "**Рекомендации:**\n",
    "1. Проверить выборку, возможно, есть дополнительные данные, которые сделают ее более репрезентативной\n",
    "2. Сделать поле дохода обязательным для заполнения, если они заполняются клиентами самостоятельно, для исключения пропусков.\n",
    "3. Проверить как заполнены данные по кол-ву детей и стаже работы в днях, чтобы выявить причину отрицательных значений.\n",
    "4. Ввести требование к заполнению поля образования только нижним регистром."
   ]
  }
 ],
 "metadata": {
  "kernelspec": {
   "display_name": "Python 3",
   "language": "python",
   "name": "python3"
  },
  "language_info": {
   "codemirror_mode": {
    "name": "ipython",
    "version": 3
   },
   "file_extension": ".py",
   "mimetype": "text/x-python",
   "name": "python",
   "nbconvert_exporter": "python",
   "pygments_lexer": "ipython3",
   "version": "3.7.4"
  },
  "toc": {
   "base_numbering": 1,
   "nav_menu": {},
   "number_sections": true,
   "sideBar": true,
   "skip_h1_title": true,
   "title_cell": "Table of Contents",
   "title_sidebar": "Contents",
   "toc_cell": false,
   "toc_position": {
    "height": "calc(100% - 180px)",
    "left": "10px",
    "top": "150px",
    "width": "255.594px"
   },
   "toc_section_display": true,
   "toc_window_display": false
  }
 },
 "nbformat": 4,
 "nbformat_minor": 2
}
