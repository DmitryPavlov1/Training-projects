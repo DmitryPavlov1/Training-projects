{
 "cells": [
  {
   "cell_type": "markdown",
   "metadata": {},
   "source": [
    "# Исследование гипотез для интернет-магазина"
   ]
  },
  {
   "cell_type": "markdown",
   "metadata": {},
   "source": [
    "## Общие положения"
   ]
  },
  {
   "cell_type": "markdown",
   "metadata": {},
   "source": [
    "**Заказчик** — отдел маркетинга крупного интернет-магазина\n",
    "\n",
    "**Цель исследования** - приоритизировать гипотезы по увеличению выручки и отобрать наиболее перспективные по результатам анализа \n",
    "\n",
    "**Исходные данные** — файлы с данными по гипотезам, заказам и пользователям.\n",
    "\n",
    "**Метрики, которые интересуют заказчика:**\n",
    "\n",
    "1. Кумулятивная выручка\n",
    "2. Кумулятивный средний чек\n",
    "3. Относительное изменение среднего чека по группам\n",
    "4. Кол-во заказов по пользователям\n",
    "\n",
    "**Основные шаги:**\n",
    "\n",
    "- Изучение данных и предобработка данных\n",
    "- Приоритизация гипотез\n",
    "- Анализ A/B-теста\n",
    "- Формулировка выводов"
   ]
  },
  {
   "cell_type": "markdown",
   "metadata": {},
   "source": [
    "### Описание данных"
   ]
  },
  {
   "cell_type": "markdown",
   "metadata": {},
   "source": [
    "**Файл /datasets/hypothesis.csv**\n",
    "- Hypothesis — краткое описание гипотезы;\n",
    "- Reach — охват пользователей по 10-балльной шкале;\n",
    "- Impact — влияние на пользователей по 10-балльной шкале;\n",
    "- Confidence — уверенность в гипотезе по 10-балльной шкале;\n",
    "- Efforts — затраты ресурсов на проверку гипотезы по 10-балльной шкале. Чем больше значение Efforts, тем дороже проверка гипотезы.\n",
    "\n",
    "**Файл /datasets/orders.csv**\n",
    "- transactionId — идентификатор заказа;\n",
    "- visitorId — идентификатор пользователя, совершившего заказ;\n",
    "- date — дата, когда был совершён заказ;\n",
    "- revenue — выручка заказа;\n",
    "- group — группа A/B-теста, в которую попал заказ.\n",
    "\n",
    "**Файл /datasets/visitors.csv**\n",
    "- date — дата;\n",
    "- group — группа A/B-теста;\n",
    "- visitors — количество пользователей в указанную дату в указанной группе A/B-теста"
   ]
  },
  {
   "cell_type": "markdown",
   "metadata": {},
   "source": [
    "## Изучение и предобработка данных"
   ]
  },
  {
   "cell_type": "code",
   "execution_count": 1,
   "metadata": {},
   "outputs": [],
   "source": [
    "import pandas as pd\n",
    "import numpy as np\n",
    "import matplotlib.pyplot as plt\n",
    "import scipy.stats as stats\n",
    "import warnings\n",
    "warnings.filterwarnings('ignore')"
   ]
  },
  {
   "cell_type": "code",
   "execution_count": 2,
   "metadata": {},
   "outputs": [
    {
     "data": {
      "text/html": [
       "<div>\n",
       "<style scoped>\n",
       "    .dataframe tbody tr th:only-of-type {\n",
       "        vertical-align: middle;\n",
       "    }\n",
       "\n",
       "    .dataframe tbody tr th {\n",
       "        vertical-align: top;\n",
       "    }\n",
       "\n",
       "    .dataframe thead th {\n",
       "        text-align: right;\n",
       "    }\n",
       "</style>\n",
       "<table border=\"1\" class=\"dataframe\">\n",
       "  <thead>\n",
       "    <tr style=\"text-align: right;\">\n",
       "      <th></th>\n",
       "      <th>Hypothesis</th>\n",
       "      <th>Reach</th>\n",
       "      <th>Impact</th>\n",
       "      <th>Confidence</th>\n",
       "      <th>Efforts</th>\n",
       "    </tr>\n",
       "  </thead>\n",
       "  <tbody>\n",
       "    <tr>\n",
       "      <td>0</td>\n",
       "      <td>Добавить два новых канала привлечения трафика,...</td>\n",
       "      <td>3</td>\n",
       "      <td>10</td>\n",
       "      <td>8</td>\n",
       "      <td>6</td>\n",
       "    </tr>\n",
       "    <tr>\n",
       "      <td>1</td>\n",
       "      <td>Запустить собственную службу доставки, что сок...</td>\n",
       "      <td>2</td>\n",
       "      <td>5</td>\n",
       "      <td>4</td>\n",
       "      <td>10</td>\n",
       "    </tr>\n",
       "    <tr>\n",
       "      <td>2</td>\n",
       "      <td>Добавить блоки рекомендаций товаров на сайт ин...</td>\n",
       "      <td>8</td>\n",
       "      <td>3</td>\n",
       "      <td>7</td>\n",
       "      <td>3</td>\n",
       "    </tr>\n",
       "    <tr>\n",
       "      <td>3</td>\n",
       "      <td>Изменить структура категорий, что увеличит кон...</td>\n",
       "      <td>8</td>\n",
       "      <td>3</td>\n",
       "      <td>3</td>\n",
       "      <td>8</td>\n",
       "    </tr>\n",
       "    <tr>\n",
       "      <td>4</td>\n",
       "      <td>Изменить цвет фона главной страницы, чтобы уве...</td>\n",
       "      <td>3</td>\n",
       "      <td>1</td>\n",
       "      <td>1</td>\n",
       "      <td>1</td>\n",
       "    </tr>\n",
       "  </tbody>\n",
       "</table>\n",
       "</div>"
      ],
      "text/plain": [
       "                                          Hypothesis  Reach  Impact  \\\n",
       "0  Добавить два новых канала привлечения трафика,...      3      10   \n",
       "1  Запустить собственную службу доставки, что сок...      2       5   \n",
       "2  Добавить блоки рекомендаций товаров на сайт ин...      8       3   \n",
       "3  Изменить структура категорий, что увеличит кон...      8       3   \n",
       "4  Изменить цвет фона главной страницы, чтобы уве...      3       1   \n",
       "\n",
       "   Confidence  Efforts  \n",
       "0           8        6  \n",
       "1           4       10  \n",
       "2           7        3  \n",
       "3           3        8  \n",
       "4           1        1  "
      ]
     },
     "metadata": {},
     "output_type": "display_data"
    },
    {
     "data": {
      "text/html": [
       "<div>\n",
       "<style scoped>\n",
       "    .dataframe tbody tr th:only-of-type {\n",
       "        vertical-align: middle;\n",
       "    }\n",
       "\n",
       "    .dataframe tbody tr th {\n",
       "        vertical-align: top;\n",
       "    }\n",
       "\n",
       "    .dataframe thead th {\n",
       "        text-align: right;\n",
       "    }\n",
       "</style>\n",
       "<table border=\"1\" class=\"dataframe\">\n",
       "  <thead>\n",
       "    <tr style=\"text-align: right;\">\n",
       "      <th></th>\n",
       "      <th>transactionId</th>\n",
       "      <th>visitorId</th>\n",
       "      <th>date</th>\n",
       "      <th>revenue</th>\n",
       "      <th>group</th>\n",
       "    </tr>\n",
       "  </thead>\n",
       "  <tbody>\n",
       "    <tr>\n",
       "      <td>0</td>\n",
       "      <td>3667963787</td>\n",
       "      <td>3312258926</td>\n",
       "      <td>2019-08-15</td>\n",
       "      <td>1650</td>\n",
       "      <td>B</td>\n",
       "    </tr>\n",
       "    <tr>\n",
       "      <td>1</td>\n",
       "      <td>2804400009</td>\n",
       "      <td>3642806036</td>\n",
       "      <td>2019-08-15</td>\n",
       "      <td>730</td>\n",
       "      <td>B</td>\n",
       "    </tr>\n",
       "    <tr>\n",
       "      <td>2</td>\n",
       "      <td>2961555356</td>\n",
       "      <td>4069496402</td>\n",
       "      <td>2019-08-15</td>\n",
       "      <td>400</td>\n",
       "      <td>A</td>\n",
       "    </tr>\n",
       "    <tr>\n",
       "      <td>3</td>\n",
       "      <td>3797467345</td>\n",
       "      <td>1196621759</td>\n",
       "      <td>2019-08-15</td>\n",
       "      <td>9759</td>\n",
       "      <td>B</td>\n",
       "    </tr>\n",
       "    <tr>\n",
       "      <td>4</td>\n",
       "      <td>2282983706</td>\n",
       "      <td>2322279887</td>\n",
       "      <td>2019-08-15</td>\n",
       "      <td>2308</td>\n",
       "      <td>B</td>\n",
       "    </tr>\n",
       "  </tbody>\n",
       "</table>\n",
       "</div>"
      ],
      "text/plain": [
       "   transactionId   visitorId        date  revenue group\n",
       "0     3667963787  3312258926  2019-08-15     1650     B\n",
       "1     2804400009  3642806036  2019-08-15      730     B\n",
       "2     2961555356  4069496402  2019-08-15      400     A\n",
       "3     3797467345  1196621759  2019-08-15     9759     B\n",
       "4     2282983706  2322279887  2019-08-15     2308     B"
      ]
     },
     "metadata": {},
     "output_type": "display_data"
    },
    {
     "data": {
      "text/html": [
       "<div>\n",
       "<style scoped>\n",
       "    .dataframe tbody tr th:only-of-type {\n",
       "        vertical-align: middle;\n",
       "    }\n",
       "\n",
       "    .dataframe tbody tr th {\n",
       "        vertical-align: top;\n",
       "    }\n",
       "\n",
       "    .dataframe thead th {\n",
       "        text-align: right;\n",
       "    }\n",
       "</style>\n",
       "<table border=\"1\" class=\"dataframe\">\n",
       "  <thead>\n",
       "    <tr style=\"text-align: right;\">\n",
       "      <th></th>\n",
       "      <th>date</th>\n",
       "      <th>group</th>\n",
       "      <th>visitors</th>\n",
       "    </tr>\n",
       "  </thead>\n",
       "  <tbody>\n",
       "    <tr>\n",
       "      <td>0</td>\n",
       "      <td>2019-08-01</td>\n",
       "      <td>A</td>\n",
       "      <td>719</td>\n",
       "    </tr>\n",
       "    <tr>\n",
       "      <td>1</td>\n",
       "      <td>2019-08-02</td>\n",
       "      <td>A</td>\n",
       "      <td>619</td>\n",
       "    </tr>\n",
       "    <tr>\n",
       "      <td>2</td>\n",
       "      <td>2019-08-03</td>\n",
       "      <td>A</td>\n",
       "      <td>507</td>\n",
       "    </tr>\n",
       "    <tr>\n",
       "      <td>3</td>\n",
       "      <td>2019-08-04</td>\n",
       "      <td>A</td>\n",
       "      <td>717</td>\n",
       "    </tr>\n",
       "    <tr>\n",
       "      <td>4</td>\n",
       "      <td>2019-08-05</td>\n",
       "      <td>A</td>\n",
       "      <td>756</td>\n",
       "    </tr>\n",
       "  </tbody>\n",
       "</table>\n",
       "</div>"
      ],
      "text/plain": [
       "         date group  visitors\n",
       "0  2019-08-01     A       719\n",
       "1  2019-08-02     A       619\n",
       "2  2019-08-03     A       507\n",
       "3  2019-08-04     A       717\n",
       "4  2019-08-05     A       756"
      ]
     },
     "metadata": {},
     "output_type": "display_data"
    }
   ],
   "source": [
    "#чтение файлов\n",
    "try:\n",
    "    df_hypothesis = pd.read_csv('/datasets/hypothesis.csv')\n",
    "    df_orders = pd.read_csv('/datasets/orders.csv')\n",
    "    df_visitors = pd.read_csv('/datasets/visitors.csv')\n",
    "except:\n",
    "    df_hypothesis = pd.read_csv('C:/Users/au31894/Desktop/Программирование/Исходные данные/hypothesis.csv')\n",
    "    df_orders = pd.read_csv('C:/Users/au31894/Desktop/Программирование/Исходные данные/orders.csv')\n",
    "    df_visitors = pd.read_csv('C:/Users/au31894/Desktop/Программирование/Исходные данные/visitors.csv')\n",
    "display(df_hypothesis.head())\n",
    "display(df_orders.head())\n",
    "display(df_visitors.head())"
   ]
  },
  {
   "cell_type": "code",
   "execution_count": 3,
   "metadata": {},
   "outputs": [
    {
     "name": "stdout",
     "output_type": "stream",
     "text": [
      "<class 'pandas.core.frame.DataFrame'>\n",
      "RangeIndex: 9 entries, 0 to 8\n",
      "Data columns (total 5 columns):\n",
      "hypothesis    9 non-null object\n",
      "reach         9 non-null int64\n",
      "impact        9 non-null int64\n",
      "confidence    9 non-null int64\n",
      "efforts       9 non-null int64\n",
      "dtypes: int64(4), object(1)\n",
      "memory usage: 488.0+ bytes\n"
     ]
    },
    {
     "data": {
      "text/plain": [
       "None"
      ]
     },
     "metadata": {},
     "output_type": "display_data"
    },
    {
     "name": "stdout",
     "output_type": "stream",
     "text": [
      "<class 'pandas.core.frame.DataFrame'>\n",
      "RangeIndex: 1197 entries, 0 to 1196\n",
      "Data columns (total 5 columns):\n",
      "transactionid    1197 non-null int64\n",
      "visitorid        1197 non-null int64\n",
      "date             1197 non-null object\n",
      "revenue          1197 non-null int64\n",
      "group            1197 non-null object\n",
      "dtypes: int64(3), object(2)\n",
      "memory usage: 46.9+ KB\n"
     ]
    },
    {
     "data": {
      "text/plain": [
       "None"
      ]
     },
     "metadata": {},
     "output_type": "display_data"
    },
    {
     "name": "stdout",
     "output_type": "stream",
     "text": [
      "<class 'pandas.core.frame.DataFrame'>\n",
      "RangeIndex: 62 entries, 0 to 61\n",
      "Data columns (total 3 columns):\n",
      "date        62 non-null object\n",
      "group       62 non-null object\n",
      "visitors    62 non-null int64\n",
      "dtypes: int64(1), object(2)\n",
      "memory usage: 1.6+ KB\n"
     ]
    },
    {
     "data": {
      "text/plain": [
       "None"
      ]
     },
     "metadata": {},
     "output_type": "display_data"
    }
   ],
   "source": [
    "#перевод названий столбцов в нижний регистр\n",
    "df_hypothesis.columns = df_hypothesis.columns.str.lower()\n",
    "df_orders.columns = df_orders.columns.str.lower()\n",
    "df_visitors.columns = df_visitors.columns.str.lower()\n",
    "#изучение данных - проверка пропусков и типов данных\n",
    "display(df_hypothesis.info())\n",
    "display(df_orders.info())\n",
    "display(df_visitors.info())"
   ]
  },
  {
   "cell_type": "markdown",
   "metadata": {},
   "source": [
    "#### Комментарий\n",
    "- Даты в некорректном формате object\n",
    "- Пропуски отсутствуют"
   ]
  },
  {
   "cell_type": "code",
   "execution_count": 4,
   "metadata": {},
   "outputs": [
    {
     "name": "stdout",
     "output_type": "stream",
     "text": [
      "<class 'pandas.core.frame.DataFrame'>\n",
      "RangeIndex: 1197 entries, 0 to 1196\n",
      "Data columns (total 5 columns):\n",
      "transactionid    1197 non-null int64\n",
      "visitorid        1197 non-null int64\n",
      "date             1197 non-null datetime64[ns]\n",
      "revenue          1197 non-null int64\n",
      "group            1197 non-null object\n",
      "dtypes: datetime64[ns](1), int64(3), object(1)\n",
      "memory usage: 46.9+ KB\n"
     ]
    },
    {
     "data": {
      "text/plain": [
       "None"
      ]
     },
     "metadata": {},
     "output_type": "display_data"
    },
    {
     "name": "stdout",
     "output_type": "stream",
     "text": [
      "<class 'pandas.core.frame.DataFrame'>\n",
      "RangeIndex: 62 entries, 0 to 61\n",
      "Data columns (total 3 columns):\n",
      "date        62 non-null datetime64[ns]\n",
      "group       62 non-null object\n",
      "visitors    62 non-null int64\n",
      "dtypes: datetime64[ns](1), int64(1), object(1)\n",
      "memory usage: 1.6+ KB\n"
     ]
    },
    {
     "data": {
      "text/plain": [
       "None"
      ]
     },
     "metadata": {},
     "output_type": "display_data"
    }
   ],
   "source": [
    "# замена типов данных у дат\n",
    "df_orders['date'] = pd.to_datetime(df_orders['date'], format='%Y-%m-%d') \n",
    "df_visitors['date'] = pd.to_datetime(df_visitors['date'], format='%Y-%m-%d')\n",
    "\n",
    "\n",
    "#проверка\n",
    "display(df_orders.info())\n",
    "display(df_visitors.info())"
   ]
  },
  {
   "cell_type": "markdown",
   "metadata": {},
   "source": [
    "#### Комментарий\n",
    "У столбцов дат тип данных преобразован в корректный формат"
   ]
  },
  {
   "cell_type": "code",
   "execution_count": 5,
   "metadata": {},
   "outputs": [
    {
     "name": "stdout",
     "output_type": "stream",
     "text": [
      "База гипотез\n",
      "Уникальные значения: hypothesis\n"
     ]
    },
    {
     "data": {
      "text/plain": [
       "Добавить форму подписки на все основные страницы, чтобы собрать базу клиентов для email-рассылок                1\n",
       "Запустить акцию, дающую скидку на товар в день рождения                                                         1\n",
       "Показать на главной странице баннеры с актуальными акциями и распродажами, чтобы увеличить конверсию            1\n",
       "Добавить блоки рекомендаций товаров на сайт интернет магазина, чтобы повысить конверсию и средний чек заказа    1\n",
       "Добавить страницу отзывов клиентов о магазине, что позволит увеличить количество заказов                        1\n",
       "Изменить структура категорий, что увеличит конверсию, т.к. пользователи быстрее найдут нужный товар             1\n",
       "Добавить два новых канала привлечения трафика, что позволит привлекать на 30% больше пользователей              1\n",
       "Запустить собственную службу доставки, что сократит срок доставки заказов                                       1\n",
       "Изменить цвет фона главной страницы, чтобы увеличить вовлеченность пользователей                                1\n",
       "Name: hypothesis, dtype: int64"
      ]
     },
     "metadata": {},
     "output_type": "display_data"
    },
    {
     "name": "stdout",
     "output_type": "stream",
     "text": [
      "Уникальные значения: reach\n"
     ]
    },
    {
     "data": {
      "text/plain": [
       "3     3\n",
       "8     2\n",
       "10    1\n",
       "5     1\n",
       "2     1\n",
       "1     1\n",
       "Name: reach, dtype: int64"
      ]
     },
     "metadata": {},
     "output_type": "display_data"
    },
    {
     "name": "stdout",
     "output_type": "stream",
     "text": [
      "Уникальные значения: impact\n"
     ]
    },
    {
     "data": {
      "text/plain": [
       "3     3\n",
       "10    1\n",
       "9     1\n",
       "7     1\n",
       "5     1\n",
       "2     1\n",
       "1     1\n",
       "Name: impact, dtype: int64"
      ]
     },
     "metadata": {},
     "output_type": "display_data"
    },
    {
     "name": "stdout",
     "output_type": "stream",
     "text": [
      "Уникальные значения: confidence\n"
     ]
    },
    {
     "data": {
      "text/plain": [
       "8    3\n",
       "9    1\n",
       "7    1\n",
       "4    1\n",
       "3    1\n",
       "2    1\n",
       "1    1\n",
       "Name: confidence, dtype: int64"
      ]
     },
     "metadata": {},
     "output_type": "display_data"
    },
    {
     "name": "stdout",
     "output_type": "stream",
     "text": [
      "Уникальные значения: efforts\n"
     ]
    },
    {
     "data": {
      "text/plain": [
       "3     3\n",
       "5     2\n",
       "10    1\n",
       "8     1\n",
       "6     1\n",
       "1     1\n",
       "Name: efforts, dtype: int64"
      ]
     },
     "metadata": {},
     "output_type": "display_data"
    },
    {
     "name": "stdout",
     "output_type": "stream",
     "text": [
      "\n",
      "База заказов\n",
      "Уникальные значения: transactionid\n"
     ]
    },
    {
     "data": {
      "text/plain": [
       "3574407166    1\n",
       "2470658885    1\n",
       "1476831880    1\n",
       "3709669952    1\n",
       "2764584088    1\n",
       "             ..\n",
       "1168756094    1\n",
       "1185885568    1\n",
       "11068804      1\n",
       "486237576     1\n",
       "1192185169    1\n",
       "Name: transactionid, Length: 1197, dtype: int64"
      ]
     },
     "metadata": {},
     "output_type": "display_data"
    },
    {
     "name": "stdout",
     "output_type": "stream",
     "text": [
      "Уникальные значения: visitorid\n"
     ]
    },
    {
     "data": {
      "text/plain": [
       "4256040402    11\n",
       "2458001652    11\n",
       "2378935119     9\n",
       "2038680547     8\n",
       "3717692402     5\n",
       "              ..\n",
       "3254689071     1\n",
       "4186744110     1\n",
       "1455861274     1\n",
       "3612778094     1\n",
       "3149228032     1\n",
       "Name: visitorid, Length: 1031, dtype: int64"
      ]
     },
     "metadata": {},
     "output_type": "display_data"
    },
    {
     "name": "stdout",
     "output_type": "stream",
     "text": [
      "Уникальные значения: date\n"
     ]
    },
    {
     "data": {
      "text/plain": [
       "2019-08-05    48\n",
       "2019-08-14    47\n",
       "2019-08-12    47\n",
       "2019-08-06    46\n",
       "2019-08-15    46\n",
       "2019-08-28    45\n",
       "2019-08-01    45\n",
       "2019-08-27    44\n",
       "2019-08-02    44\n",
       "2019-08-19    43\n",
       "2019-08-08    43\n",
       "2019-08-29    42\n",
       "2019-08-07    42\n",
       "2019-08-26    41\n",
       "2019-08-09    41\n",
       "2019-08-22    41\n",
       "2019-08-23    40\n",
       "2019-08-03    40\n",
       "2019-08-10    39\n",
       "2019-08-16    38\n",
       "2019-08-21    37\n",
       "2019-08-30    35\n",
       "2019-08-13    35\n",
       "2019-08-04    33\n",
       "2019-08-20    32\n",
       "2019-08-31    32\n",
       "2019-08-24    31\n",
       "2019-08-11    26\n",
       "2019-08-18    26\n",
       "2019-08-17    24\n",
       "2019-08-25    24\n",
       "Name: date, dtype: int64"
      ]
     },
     "metadata": {},
     "output_type": "display_data"
    },
    {
     "name": "stdout",
     "output_type": "stream",
     "text": [
      "Уникальные значения: revenue\n"
     ]
    },
    {
     "data": {
      "text/plain": [
       "990      17\n",
       "890      13\n",
       "390      13\n",
       "1490     10\n",
       "1190     10\n",
       "         ..\n",
       "1139      1\n",
       "25250     1\n",
       "3180      1\n",
       "10970     1\n",
       "6145      1\n",
       "Name: revenue, Length: 713, dtype: int64"
      ]
     },
     "metadata": {},
     "output_type": "display_data"
    },
    {
     "name": "stdout",
     "output_type": "stream",
     "text": [
      "Уникальные значения: group\n"
     ]
    },
    {
     "data": {
      "text/plain": [
       "B    640\n",
       "A    557\n",
       "Name: group, dtype: int64"
      ]
     },
     "metadata": {},
     "output_type": "display_data"
    },
    {
     "name": "stdout",
     "output_type": "stream",
     "text": [
      "\n",
      "База пользователей\n",
      "Уникальные значения: date\n"
     ]
    },
    {
     "data": {
      "text/plain": [
       "2019-08-02    2\n",
       "2019-08-05    2\n",
       "2019-08-21    2\n",
       "2019-08-15    2\n",
       "2019-08-09    2\n",
       "2019-08-03    2\n",
       "2019-08-28    2\n",
       "2019-08-22    2\n",
       "2019-08-16    2\n",
       "2019-08-10    2\n",
       "2019-08-04    2\n",
       "2019-08-29    2\n",
       "2019-08-23    2\n",
       "2019-08-17    2\n",
       "2019-08-11    2\n",
       "2019-08-30    2\n",
       "2019-08-08    2\n",
       "2019-08-24    2\n",
       "2019-08-18    2\n",
       "2019-08-12    2\n",
       "2019-08-06    2\n",
       "2019-08-31    2\n",
       "2019-08-25    2\n",
       "2019-08-19    2\n",
       "2019-08-13    2\n",
       "2019-08-07    2\n",
       "2019-08-01    2\n",
       "2019-08-26    2\n",
       "2019-08-20    2\n",
       "2019-08-14    2\n",
       "2019-08-27    2\n",
       "Name: date, dtype: int64"
      ]
     },
     "metadata": {},
     "output_type": "display_data"
    },
    {
     "name": "stdout",
     "output_type": "stream",
     "text": [
      "Уникальные значения: group\n"
     ]
    },
    {
     "data": {
      "text/plain": [
       "B    31\n",
       "A    31\n",
       "Name: group, dtype: int64"
      ]
     },
     "metadata": {},
     "output_type": "display_data"
    },
    {
     "name": "stdout",
     "output_type": "stream",
     "text": [
      "Уникальные значения: visitors\n"
     ]
    },
    {
     "data": {
      "text/plain": [
       "610    2\n",
       "718    2\n",
       "654    2\n",
       "490    2\n",
       "509    1\n",
       "575    1\n",
       "699    1\n",
       "709    1\n",
       "361    1\n",
       "560    1\n",
       "679    1\n",
       "421    1\n",
       "676    1\n",
       "546    1\n",
       "544    1\n",
       "543    1\n",
       "722    1\n",
       "707    1\n",
       "668    1\n",
       "667    1\n",
       "406    1\n",
       "531    1\n",
       "656    1\n",
       "655    1\n",
       "395    1\n",
       "650    1\n",
       "646    1\n",
       "644    1\n",
       "770    1\n",
       "577    1\n",
       "711    1\n",
       "581    1\n",
       "617    1\n",
       "378    1\n",
       "413    1\n",
       "746    1\n",
       "502    1\n",
       "628    1\n",
       "756    1\n",
       "369    1\n",
       "412    1\n",
       "621    1\n",
       "748    1\n",
       "619    1\n",
       "487    1\n",
       "507    1\n",
       "609    1\n",
       "737    1\n",
       "735    1\n",
       "468    1\n",
       "595    1\n",
       "594    1\n",
       "721    1\n",
       "720    1\n",
       "719    1\n",
       "717    1\n",
       "713    1\n",
       "769    1\n",
       "Name: visitors, dtype: int64"
      ]
     },
     "metadata": {},
     "output_type": "display_data"
    },
    {
     "name": "stdout",
     "output_type": "stream",
     "text": [
      "Дубликаты гипотез: 0\n",
      "Дубликаты заказов: 0\n",
      "Дубликаты пользователей: 0\n"
     ]
    }
   ],
   "source": [
    "#просмотр уникальных значений\n",
    "def unique_function(data):\n",
    "    for col in data:\n",
    "        print('Уникальные значения:', col)\n",
    "        display(data[col].value_counts())\n",
    "\n",
    "print('База гипотез')\n",
    "unique_function(df_hypothesis)\n",
    "print()\n",
    "print('База заказов')\n",
    "unique_function(df_orders)\n",
    "print()\n",
    "print('База пользователей')\n",
    "unique_function(df_visitors)\n",
    "\n",
    "#проверка дубликатов\n",
    "print('Дубликаты гипотез:', df_hypothesis.duplicated().sum())\n",
    "print('Дубликаты заказов:', df_orders.duplicated().sum())\n",
    "print('Дубликаты пользователей:', df_visitors.duplicated().sum())"
   ]
  },
  {
   "cell_type": "markdown",
   "metadata": {},
   "source": [
    "#### Комментарий\n",
    "- Дубликатов в файлах нет"
   ]
  },
  {
   "cell_type": "markdown",
   "metadata": {},
   "source": [
    "### Вывод\n",
    "1. Пропуски и дубликаты в данных отсутствуют\n",
    "2. Форматы дат исправлены с object на datetime"
   ]
  },
  {
   "cell_type": "markdown",
   "metadata": {},
   "source": [
    "## Приоритизация гипотез"
   ]
  },
  {
   "cell_type": "code",
   "execution_count": 6,
   "metadata": {
    "scrolled": false
   },
   "outputs": [
    {
     "name": "stdout",
     "output_type": "stream",
     "text": [
      "0              Добавить два новых канала привлечения трафика, что позволит привлекать на 30% больше пользователей\n",
      "1                                       Запустить собственную службу доставки, что сократит срок доставки заказов\n",
      "2    Добавить блоки рекомендаций товаров на сайт интернет магазина, чтобы повысить конверсию и средний чек заказа\n",
      "3             Изменить структура категорий, что увеличит конверсию, т.к. пользователи быстрее найдут нужный товар\n",
      "4                                Изменить цвет фона главной страницы, чтобы увеличить вовлеченность пользователей\n",
      "5                        Добавить страницу отзывов клиентов о магазине, что позволит увеличить количество заказов\n",
      "6            Показать на главной странице баннеры с актуальными акциями и распродажами, чтобы увеличить конверсию\n",
      "7                Добавить форму подписки на все основные страницы, чтобы собрать базу клиентов для email-рассылок\n",
      "8                                                         Запустить акцию, дающую скидку на товар в день рождения\n",
      "Name: hypothesis, dtype: object\n"
     ]
    },
    {
     "data": {
      "text/plain": [
       "'Сортировка по методу ICE:'"
      ]
     },
     "metadata": {},
     "output_type": "display_data"
    },
    {
     "data": {
      "text/html": [
       "<div>\n",
       "<style scoped>\n",
       "    .dataframe tbody tr th:only-of-type {\n",
       "        vertical-align: middle;\n",
       "    }\n",
       "\n",
       "    .dataframe tbody tr th {\n",
       "        vertical-align: top;\n",
       "    }\n",
       "\n",
       "    .dataframe thead th {\n",
       "        text-align: right;\n",
       "    }\n",
       "</style>\n",
       "<table border=\"1\" class=\"dataframe\">\n",
       "  <thead>\n",
       "    <tr style=\"text-align: right;\">\n",
       "      <th></th>\n",
       "      <th>hypothesis</th>\n",
       "      <th>reach</th>\n",
       "      <th>impact</th>\n",
       "      <th>confidence</th>\n",
       "      <th>efforts</th>\n",
       "      <th>ICE</th>\n",
       "    </tr>\n",
       "  </thead>\n",
       "  <tbody>\n",
       "    <tr>\n",
       "      <td>8</td>\n",
       "      <td>Запустить акцию, дающую скидку на товар в день рождения</td>\n",
       "      <td>1</td>\n",
       "      <td>9</td>\n",
       "      <td>9</td>\n",
       "      <td>5</td>\n",
       "      <td>16.2</td>\n",
       "    </tr>\n",
       "    <tr>\n",
       "      <td>0</td>\n",
       "      <td>Добавить два новых канала привлечения трафика, что позволит привлекать на 30% больше пользователей</td>\n",
       "      <td>3</td>\n",
       "      <td>10</td>\n",
       "      <td>8</td>\n",
       "      <td>6</td>\n",
       "      <td>13.3</td>\n",
       "    </tr>\n",
       "    <tr>\n",
       "      <td>7</td>\n",
       "      <td>Добавить форму подписки на все основные страницы, чтобы собрать базу клиентов для email-рассылок</td>\n",
       "      <td>10</td>\n",
       "      <td>7</td>\n",
       "      <td>8</td>\n",
       "      <td>5</td>\n",
       "      <td>11.2</td>\n",
       "    </tr>\n",
       "    <tr>\n",
       "      <td>6</td>\n",
       "      <td>Показать на главной странице баннеры с актуальными акциями и распродажами, чтобы увеличить конверсию</td>\n",
       "      <td>5</td>\n",
       "      <td>3</td>\n",
       "      <td>8</td>\n",
       "      <td>3</td>\n",
       "      <td>8.0</td>\n",
       "    </tr>\n",
       "    <tr>\n",
       "      <td>2</td>\n",
       "      <td>Добавить блоки рекомендаций товаров на сайт интернет магазина, чтобы повысить конверсию и средний чек заказа</td>\n",
       "      <td>8</td>\n",
       "      <td>3</td>\n",
       "      <td>7</td>\n",
       "      <td>3</td>\n",
       "      <td>7.0</td>\n",
       "    </tr>\n",
       "    <tr>\n",
       "      <td>1</td>\n",
       "      <td>Запустить собственную службу доставки, что сократит срок доставки заказов</td>\n",
       "      <td>2</td>\n",
       "      <td>5</td>\n",
       "      <td>4</td>\n",
       "      <td>10</td>\n",
       "      <td>2.0</td>\n",
       "    </tr>\n",
       "    <tr>\n",
       "      <td>5</td>\n",
       "      <td>Добавить страницу отзывов клиентов о магазине, что позволит увеличить количество заказов</td>\n",
       "      <td>3</td>\n",
       "      <td>2</td>\n",
       "      <td>2</td>\n",
       "      <td>3</td>\n",
       "      <td>1.3</td>\n",
       "    </tr>\n",
       "    <tr>\n",
       "      <td>3</td>\n",
       "      <td>Изменить структура категорий, что увеличит конверсию, т.к. пользователи быстрее найдут нужный товар</td>\n",
       "      <td>8</td>\n",
       "      <td>3</td>\n",
       "      <td>3</td>\n",
       "      <td>8</td>\n",
       "      <td>1.1</td>\n",
       "    </tr>\n",
       "    <tr>\n",
       "      <td>4</td>\n",
       "      <td>Изменить цвет фона главной страницы, чтобы увеличить вовлеченность пользователей</td>\n",
       "      <td>3</td>\n",
       "      <td>1</td>\n",
       "      <td>1</td>\n",
       "      <td>1</td>\n",
       "      <td>1.0</td>\n",
       "    </tr>\n",
       "  </tbody>\n",
       "</table>\n",
       "</div>"
      ],
      "text/plain": [
       "                                                                                                     hypothesis  \\\n",
       "8                                                       Запустить акцию, дающую скидку на товар в день рождения   \n",
       "0            Добавить два новых канала привлечения трафика, что позволит привлекать на 30% больше пользователей   \n",
       "7              Добавить форму подписки на все основные страницы, чтобы собрать базу клиентов для email-рассылок   \n",
       "6          Показать на главной странице баннеры с актуальными акциями и распродажами, чтобы увеличить конверсию   \n",
       "2  Добавить блоки рекомендаций товаров на сайт интернет магазина, чтобы повысить конверсию и средний чек заказа   \n",
       "1                                     Запустить собственную службу доставки, что сократит срок доставки заказов   \n",
       "5                      Добавить страницу отзывов клиентов о магазине, что позволит увеличить количество заказов   \n",
       "3           Изменить структура категорий, что увеличит конверсию, т.к. пользователи быстрее найдут нужный товар   \n",
       "4                              Изменить цвет фона главной страницы, чтобы увеличить вовлеченность пользователей   \n",
       "\n",
       "   reach  impact  confidence  efforts   ICE  \n",
       "8      1       9           9        5  16.2  \n",
       "0      3      10           8        6  13.3  \n",
       "7     10       7           8        5  11.2  \n",
       "6      5       3           8        3   8.0  \n",
       "2      8       3           7        3   7.0  \n",
       "1      2       5           4       10   2.0  \n",
       "5      3       2           2        3   1.3  \n",
       "3      8       3           3        8   1.1  \n",
       "4      3       1           1        1   1.0  "
      ]
     },
     "metadata": {},
     "output_type": "display_data"
    },
    {
     "data": {
      "text/plain": [
       "'Сортировка по методу RICE:'"
      ]
     },
     "metadata": {},
     "output_type": "display_data"
    },
    {
     "data": {
      "text/html": [
       "<div>\n",
       "<style scoped>\n",
       "    .dataframe tbody tr th:only-of-type {\n",
       "        vertical-align: middle;\n",
       "    }\n",
       "\n",
       "    .dataframe tbody tr th {\n",
       "        vertical-align: top;\n",
       "    }\n",
       "\n",
       "    .dataframe thead th {\n",
       "        text-align: right;\n",
       "    }\n",
       "</style>\n",
       "<table border=\"1\" class=\"dataframe\">\n",
       "  <thead>\n",
       "    <tr style=\"text-align: right;\">\n",
       "      <th></th>\n",
       "      <th>hypothesis</th>\n",
       "      <th>reach</th>\n",
       "      <th>impact</th>\n",
       "      <th>confidence</th>\n",
       "      <th>efforts</th>\n",
       "      <th>ICE</th>\n",
       "      <th>RICE</th>\n",
       "    </tr>\n",
       "  </thead>\n",
       "  <tbody>\n",
       "    <tr>\n",
       "      <td>7</td>\n",
       "      <td>Добавить форму подписки на все основные страницы, чтобы собрать базу клиентов для email-рассылок</td>\n",
       "      <td>10</td>\n",
       "      <td>7</td>\n",
       "      <td>8</td>\n",
       "      <td>5</td>\n",
       "      <td>11.2</td>\n",
       "      <td>112.0</td>\n",
       "    </tr>\n",
       "    <tr>\n",
       "      <td>2</td>\n",
       "      <td>Добавить блоки рекомендаций товаров на сайт интернет магазина, чтобы повысить конверсию и средний чек заказа</td>\n",
       "      <td>8</td>\n",
       "      <td>3</td>\n",
       "      <td>7</td>\n",
       "      <td>3</td>\n",
       "      <td>7.0</td>\n",
       "      <td>56.0</td>\n",
       "    </tr>\n",
       "    <tr>\n",
       "      <td>0</td>\n",
       "      <td>Добавить два новых канала привлечения трафика, что позволит привлекать на 30% больше пользователей</td>\n",
       "      <td>3</td>\n",
       "      <td>10</td>\n",
       "      <td>8</td>\n",
       "      <td>6</td>\n",
       "      <td>13.3</td>\n",
       "      <td>40.0</td>\n",
       "    </tr>\n",
       "    <tr>\n",
       "      <td>6</td>\n",
       "      <td>Показать на главной странице баннеры с актуальными акциями и распродажами, чтобы увеличить конверсию</td>\n",
       "      <td>5</td>\n",
       "      <td>3</td>\n",
       "      <td>8</td>\n",
       "      <td>3</td>\n",
       "      <td>8.0</td>\n",
       "      <td>40.0</td>\n",
       "    </tr>\n",
       "    <tr>\n",
       "      <td>8</td>\n",
       "      <td>Запустить акцию, дающую скидку на товар в день рождения</td>\n",
       "      <td>1</td>\n",
       "      <td>9</td>\n",
       "      <td>9</td>\n",
       "      <td>5</td>\n",
       "      <td>16.2</td>\n",
       "      <td>16.2</td>\n",
       "    </tr>\n",
       "    <tr>\n",
       "      <td>3</td>\n",
       "      <td>Изменить структура категорий, что увеличит конверсию, т.к. пользователи быстрее найдут нужный товар</td>\n",
       "      <td>8</td>\n",
       "      <td>3</td>\n",
       "      <td>3</td>\n",
       "      <td>8</td>\n",
       "      <td>1.1</td>\n",
       "      <td>9.0</td>\n",
       "    </tr>\n",
       "    <tr>\n",
       "      <td>1</td>\n",
       "      <td>Запустить собственную службу доставки, что сократит срок доставки заказов</td>\n",
       "      <td>2</td>\n",
       "      <td>5</td>\n",
       "      <td>4</td>\n",
       "      <td>10</td>\n",
       "      <td>2.0</td>\n",
       "      <td>4.0</td>\n",
       "    </tr>\n",
       "    <tr>\n",
       "      <td>5</td>\n",
       "      <td>Добавить страницу отзывов клиентов о магазине, что позволит увеличить количество заказов</td>\n",
       "      <td>3</td>\n",
       "      <td>2</td>\n",
       "      <td>2</td>\n",
       "      <td>3</td>\n",
       "      <td>1.3</td>\n",
       "      <td>4.0</td>\n",
       "    </tr>\n",
       "    <tr>\n",
       "      <td>4</td>\n",
       "      <td>Изменить цвет фона главной страницы, чтобы увеличить вовлеченность пользователей</td>\n",
       "      <td>3</td>\n",
       "      <td>1</td>\n",
       "      <td>1</td>\n",
       "      <td>1</td>\n",
       "      <td>1.0</td>\n",
       "      <td>3.0</td>\n",
       "    </tr>\n",
       "  </tbody>\n",
       "</table>\n",
       "</div>"
      ],
      "text/plain": [
       "                                                                                                     hypothesis  \\\n",
       "7              Добавить форму подписки на все основные страницы, чтобы собрать базу клиентов для email-рассылок   \n",
       "2  Добавить блоки рекомендаций товаров на сайт интернет магазина, чтобы повысить конверсию и средний чек заказа   \n",
       "0            Добавить два новых канала привлечения трафика, что позволит привлекать на 30% больше пользователей   \n",
       "6          Показать на главной странице баннеры с актуальными акциями и распродажами, чтобы увеличить конверсию   \n",
       "8                                                       Запустить акцию, дающую скидку на товар в день рождения   \n",
       "3           Изменить структура категорий, что увеличит конверсию, т.к. пользователи быстрее найдут нужный товар   \n",
       "1                                     Запустить собственную службу доставки, что сократит срок доставки заказов   \n",
       "5                      Добавить страницу отзывов клиентов о магазине, что позволит увеличить количество заказов   \n",
       "4                              Изменить цвет фона главной страницы, чтобы увеличить вовлеченность пользователей   \n",
       "\n",
       "   reach  impact  confidence  efforts   ICE   RICE  \n",
       "7     10       7           8        5  11.2  112.0  \n",
       "2      8       3           7        3   7.0   56.0  \n",
       "0      3      10           8        6  13.3   40.0  \n",
       "6      5       3           8        3   8.0   40.0  \n",
       "8      1       9           9        5  16.2   16.2  \n",
       "3      8       3           3        8   1.1    9.0  \n",
       "1      2       5           4       10   2.0    4.0  \n",
       "5      3       2           2        3   1.3    4.0  \n",
       "4      3       1           1        1   1.0    3.0  "
      ]
     },
     "metadata": {},
     "output_type": "display_data"
    }
   ],
   "source": [
    "#выведем список с названиями гипотез\n",
    "pd.options.display.max_colwidth = 200\n",
    "print(df_hypothesis['hypothesis'])\n",
    "# приоритизация по методу ICE\n",
    "df_hypothesis['ICE'] = (df_hypothesis['impact'] * df_hypothesis['confidence']) / df_hypothesis['efforts']\n",
    "df_hypothesis['ICE'] = df_hypothesis['ICE'].round(1)\n",
    "display('Сортировка по методу ICE:', df_hypothesis.sort_values(by = 'ICE', ascending = False))\n",
    "# приоритизация по методу RICE\n",
    "df_hypothesis['RICE'] = (df_hypothesis['reach'] * df_hypothesis['impact'] * df_hypothesis['confidence']) / df_hypothesis['efforts']\n",
    "df_hypothesis['RICE'] = df_hypothesis['RICE'].round(1)\n",
    "display('Сортировка по методу RICE:', df_hypothesis.sort_values(by = 'RICE', ascending = False))"
   ]
  },
  {
   "cell_type": "markdown",
   "metadata": {},
   "source": [
    "### Вывод\n",
    "1. По методу ICE в топ 3 попали гипотезы №8(скидка в день рождения),0(новые каналы трафика) и 7(форма подписки), а наименее приоритетная - №4 - изменить цвет фона главной страницы\n",
    "2. По методу RICE в топ 3 попали гипотезы №7, 2(блоки рекомендаций товаров) и 0, наименее приоритетная также №4\n",
    "3. Различия в ТОП3 объясняются тем, что гипотеза 8 имеет самый низкий охват, т.е. кол-во пользователей с днем рождения в период акции небольшое, а у гипотезы №2 высокий охват (2ое место по охвату среди гипотез)"
   ]
  },
  {
   "cell_type": "markdown",
   "metadata": {},
   "source": [
    "## Анализ A/B теста"
   ]
  },
  {
   "cell_type": "markdown",
   "metadata": {},
   "source": [
    "### Кумулятивная выручка"
   ]
  },
  {
   "cell_type": "code",
   "execution_count": 30,
   "metadata": {
    "ExecuteTime": {
     "end_time": "2021-06-03T16:53:18.569602Z",
     "start_time": "2021-06-03T16:53:18.381820Z"
    }
   },
   "outputs": [
    {
     "name": "stdout",
     "output_type": "stream",
     "text": [
      "        date group  orders  buyers  revenue  visitors  revenue_mRUB\n",
      "0 2019-08-01     A      24      20   148579       719      0.148579\n",
      "1 2019-08-01     B      21      20   101217       713      0.101217\n",
      "2 2019-08-02     A      44      38   242401      1338      0.242401\n",
      "3 2019-08-02     B      45      43   266748      1294      0.266748\n",
      "4 2019-08-03     A      68      62   354874      1845      0.354874\n"
     ]
    },
    {
     "data": {
      "text/html": [
       "<div>\n",
       "<style scoped>\n",
       "    .dataframe tbody tr th:only-of-type {\n",
       "        vertical-align: middle;\n",
       "    }\n",
       "\n",
       "    .dataframe tbody tr th {\n",
       "        vertical-align: top;\n",
       "    }\n",
       "\n",
       "    .dataframe thead th {\n",
       "        text-align: right;\n",
       "    }\n",
       "</style>\n",
       "<table border=\"1\" class=\"dataframe\">\n",
       "  <thead>\n",
       "    <tr style=\"text-align: right;\">\n",
       "      <th></th>\n",
       "      <th>transactionid</th>\n",
       "      <th>visitorid</th>\n",
       "      <th>date</th>\n",
       "      <th>revenue</th>\n",
       "      <th>group</th>\n",
       "    </tr>\n",
       "  </thead>\n",
       "  <tbody>\n",
       "    <tr>\n",
       "      <td>0</td>\n",
       "      <td>3667963787</td>\n",
       "      <td>3312258926</td>\n",
       "      <td>2019-08-15</td>\n",
       "      <td>1650</td>\n",
       "      <td>B</td>\n",
       "    </tr>\n",
       "    <tr>\n",
       "      <td>1</td>\n",
       "      <td>2804400009</td>\n",
       "      <td>3642806036</td>\n",
       "      <td>2019-08-15</td>\n",
       "      <td>730</td>\n",
       "      <td>B</td>\n",
       "    </tr>\n",
       "    <tr>\n",
       "      <td>2</td>\n",
       "      <td>2961555356</td>\n",
       "      <td>4069496402</td>\n",
       "      <td>2019-08-15</td>\n",
       "      <td>400</td>\n",
       "      <td>A</td>\n",
       "    </tr>\n",
       "    <tr>\n",
       "      <td>3</td>\n",
       "      <td>3797467345</td>\n",
       "      <td>1196621759</td>\n",
       "      <td>2019-08-15</td>\n",
       "      <td>9759</td>\n",
       "      <td>B</td>\n",
       "    </tr>\n",
       "    <tr>\n",
       "      <td>4</td>\n",
       "      <td>2282983706</td>\n",
       "      <td>2322279887</td>\n",
       "      <td>2019-08-15</td>\n",
       "      <td>2308</td>\n",
       "      <td>B</td>\n",
       "    </tr>\n",
       "  </tbody>\n",
       "</table>\n",
       "</div>"
      ],
      "text/plain": [
       "   transactionid   visitorid       date  revenue group\n",
       "0     3667963787  3312258926 2019-08-15     1650     B\n",
       "1     2804400009  3642806036 2019-08-15      730     B\n",
       "2     2961555356  4069496402 2019-08-15      400     A\n",
       "3     3797467345  1196621759 2019-08-15     9759     B\n",
       "4     2282983706  2322279887 2019-08-15     2308     B"
      ]
     },
     "execution_count": 30,
     "metadata": {},
     "output_type": "execute_result"
    }
   ],
   "source": [
    "# создаем массив уникальных пар значений дат и групп теста\n",
    "df_date_group = df_orders[['date', 'group']].drop_duplicates() \n",
    "#агрегируем значения по заказам, вычислим максимальную дату, Найдём число уникальных ID заказов и пользователей, подсчитаем сумму средних чеков и применим к каждой строке\n",
    "ordersAggregated = (df_date_group.apply(lambda x: df_orders\n",
    "    [np.logical_and(df_orders['date'] <= x['date'], df_orders['group'] == x['group'])]\n",
    "    .agg({'date' : 'max', 'group' : 'max', 'transactionid' : pd.Series.nunique, 'visitorid' : pd.Series.nunique, 'revenue' : 'sum'}), axis=1)\n",
    "    .sort_values(by=['date','group']))\n",
    "# сделаем все то же самое по клиентам\n",
    "visitorsAggregated = df_date_group.apply(lambda x: df_visitors[np.logical_and(df_visitors['date'] <= x['date'], df_visitors['group'] == x['group'])].agg({'date' : 'max', 'group' : 'max', 'visitors' : 'sum'}), axis=1).sort_values(by=['date','group'])\n",
    "# объединяем кумулятивные данные в одной таблице и присваиваем ее столбцам понятные названия\n",
    "cumulativeData = ordersAggregated.merge(visitorsAggregated, left_on=['date', 'group'], right_on=['date', 'group'])\n",
    "cumulativeData.columns = ['date', 'group', 'orders', 'buyers', 'revenue', 'visitors']\n",
    "cumulativeData['revenue_mRUB'] = cumulativeData['revenue'] / 1000000\n",
    "\n",
    "print(cumulativeData.head(5))\n",
    "df_orders.head()"
   ]
  },
  {
   "cell_type": "code",
   "execution_count": 8,
   "metadata": {
    "scrolled": false
   },
   "outputs": [
    {
     "data": {
      "image/png": "[encoded data removed]",
      "text/plain": [
       "<Figure size 1440x432 with 1 Axes>"
      ]
     },
     "metadata": {
      "needs_background": "light"
     },
     "output_type": "display_data"
    }
   ],
   "source": [
    "# датафрейм с кумулятивным количеством заказов и кумулятивной выручкой по дням в группе А\n",
    "cumulativeRevenueA = cumulativeData[cumulativeData['group']=='A'][['date','revenue','revenue_mRUB', 'orders']]\n",
    "\n",
    "# датафрейм с кумулятивным количеством заказов и кумулятивной выручкой по дням в группе B\n",
    "cumulativeRevenueB = cumulativeData[cumulativeData['group']=='B'][['date','revenue','revenue_mRUB', 'orders']]\n",
    "\n",
    "\n",
    "fig, ax= plt.subplots(1,1,figsize=(20, 6))\n",
    "x= cumulativeRevenueA['date']\n",
    "y1 = cumulativeRevenueA['revenue_mRUB']\n",
    "y2 = cumulativeRevenueB['revenue_mRUB']\n",
    "ax.plot(x, y1, label = 'Выручка группы A')\n",
    "ax.plot(x, y2, label = 'Выручка группы B')\n",
    "ax.legend(loc='upper left')\n",
    "ax.set_title('Динамика кумулятивной выручки по группам')\n",
    "ax.set_xlabel('даты')\n",
    "ax.set_ylabel('выручка млн. руб')\n",
    "plt.show()"
   ]
  },
  {
   "cell_type": "markdown",
   "metadata": {},
   "source": [
    "#### Комментарий\n",
    "19.08. произошел аномальный рост кумулятивной выручки у группы B."
   ]
  },
  {
   "cell_type": "code",
   "execution_count": 9,
   "metadata": {},
   "outputs": [],
   "source": [
    "# делаем срезы по группам\n",
    "orders_A = df_orders[df_orders['group'] == \"A\"]\n",
    "orders_B = df_orders[df_orders['group'] == \"B\"]\n",
    "# группируем доход по датам и доходу\n",
    "orders_A_revenue_cum = orders_A.groupby('date').agg({'revenue': 'sum'})\n",
    "orders_A_revenue_cum = orders_A_revenue_cum.reset_index()\n",
    "orders_A_revenue_cum['revenue_mRUB'] = orders_A_revenue_cum['revenue'] / 1000000\n",
    "\n",
    "orders_B_revenue_cum = orders_B.groupby('date').agg({'revenue': 'sum'})\n",
    "orders_B_revenue_cum = orders_B_revenue_cum.reset_index()\n",
    "orders_B_revenue_cum['revenue_mRUB'] = orders_B_revenue_cum['revenue'] / 1000000\n"
   ]
  },
  {
   "cell_type": "code",
   "execution_count": 10,
   "metadata": {
    "scrolled": false
   },
   "outputs": [
    {
     "data": {
      "image/png": "[encoded data removed]",
      "text/plain": [
       "<Figure size 1440x432 with 1 Axes>"
      ]
     },
     "metadata": {
      "needs_background": "light"
     },
     "output_type": "display_data"
    }
   ],
   "source": [
    "#строим график динамики кумулятивной выручки по группам\n",
    "fig, ax= plt.subplots(1,1,figsize=(20, 6))\n",
    "x= orders_A_revenue_cum['date']\n",
    "y1 = orders_A_revenue_cum['revenue_mRUB']\n",
    "y2 = orders_B_revenue_cum['revenue_mRUB']\n",
    "ax.plot(x, y1, label = 'Выручка группы A')\n",
    "ax.plot(x, y2, label = 'Выручка группы B')\n",
    "ax.legend(loc='upper left')\n",
    "ax.set_title('Динамика выручки по группам по дням')\n",
    "ax.set_xlabel('даты')\n",
    "ax.set_ylabel('выручка млн. руб')\n",
    "plt.show()"
   ]
  },
  {
   "cell_type": "markdown",
   "metadata": {},
   "source": [
    "#### Комментарий\n",
    "Наблюдается аномальный всплеск выручки 19.08.2021 - более 1,4 млн. руб.\n",
    "\n",
    "Вариантов несколько - либо увеличение кол-ва транзакций в этот день, либо один клиент с огромным заказом, либо технический сбой."
   ]
  },
  {
   "cell_type": "code",
   "execution_count": 11,
   "metadata": {
    "scrolled": true
   },
   "outputs": [
    {
     "data": {
      "text/plain": [
       "count    31.000000\n",
       "mean      0.131768\n",
       "std       0.072146\n",
       "min       0.048484\n",
       "25%       0.077602\n",
       "50%       0.112473\n",
       "75%       0.165762\n",
       "max       0.320690\n",
       "Name: revenue_mRUB, dtype: float64"
      ]
     },
     "metadata": {},
     "output_type": "display_data"
    },
    {
     "data": {
      "text/plain": [
       "count    31.000000\n",
       "mean      0.190573\n",
       "std       0.238001\n",
       "min       0.053310\n",
       "25%       0.105332\n",
       "50%       0.147274\n",
       "75%       0.177353\n",
       "max       1.429920\n",
       "Name: revenue_mRUB, dtype: float64"
      ]
     },
     "metadata": {},
     "output_type": "display_data"
    }
   ],
   "source": [
    "# описание данных\n",
    "display(orders_A_revenue_cum['revenue_mRUB'].describe())\n",
    "display(orders_B_revenue_cum['revenue_mRUB'].describe())"
   ]
  },
  {
   "cell_type": "markdown",
   "metadata": {},
   "source": [
    "#### Комментарий\n",
    "Средняя выручка по дням:\n",
    "- Группа A - 132 тыс.\n",
    "- Группа B - 190 тыс. (есть выброс)\n",
    "\n",
    "Медианная выручка по дням:\n",
    "- Группа A - 112 тыс.\n",
    "- Группа B - 105 тыс."
   ]
  },
  {
   "cell_type": "markdown",
   "metadata": {},
   "source": [
    "### Кумулятивный средний чек по группам"
   ]
  },
  {
   "cell_type": "code",
   "execution_count": 12,
   "metadata": {
    "scrolled": true
   },
   "outputs": [
    {
     "data": {
      "image/png": "[encoded data removed]",
      "text/plain": [
       "<Figure size 1440x432 with 1 Axes>"
      ]
     },
     "metadata": {
      "needs_background": "light"
     },
     "output_type": "display_data"
    }
   ],
   "source": [
    "# датафрейм с кумулятивным количеством заказов и кумулятивной выручкой по дням в группе А\n",
    "cumulativeRevenueA['avr_check'] = cumulativeRevenueA['revenue'] / cumulativeRevenueA['orders'] \n",
    "\n",
    "# датафрейм с кумулятивным количеством заказов и кумулятивной выручкой по дням в группе B\n",
    "cumulativeRevenueB['avr_check'] = cumulativeRevenueB['revenue'] / cumulativeRevenueB['orders']\n",
    "\n",
    "#строим график динамики кумулятивного среднего чека по группам\n",
    "fig, ax= plt.subplots(1,1,figsize=(20, 6))\n",
    "x= cumulativeRevenueA['date']\n",
    "y1 = cumulativeRevenueA['avr_check']\n",
    "y2 = cumulativeRevenueB['avr_check']\n",
    "ax.plot(x, y1, label = 'Средний чек группы A')\n",
    "ax.plot(x, y2, label = 'Средний чек группы B')\n",
    "ax.legend(loc='upper left')\n",
    "ax.set_title('Динамика среднего чека по группам')\n",
    "ax.set_xlabel('даты')\n",
    "ax.set_ylabel('Средний чек руб')\n",
    "plt.show()"
   ]
  },
  {
   "cell_type": "markdown",
   "metadata": {},
   "source": [
    "#### Комментарий\n",
    "Средний чек группы B показывает похожую динамику, что и кумулятивная выручка и растет c 19.08. По всей вероятности рост произошел из-за аномального заказа."
   ]
  },
  {
   "cell_type": "code",
   "execution_count": 13,
   "metadata": {},
   "outputs": [
    {
     "data": {
      "text/plain": [
       "count       31.000000\n",
       "mean      7373.290980\n",
       "std       3542.710105\n",
       "min       2680.875000\n",
       "25%       5027.410000\n",
       "50%       6190.791667\n",
       "75%       8569.107576\n",
       "max      18831.285714\n",
       "Name: avr_check, dtype: float64"
      ]
     },
     "metadata": {},
     "output_type": "display_data"
    },
    {
     "data": {
      "text/plain": [
       "count       31.000000\n",
       "mean      9175.600077\n",
       "std      11124.432585\n",
       "min       3428.857143\n",
       "25%       6061.823370\n",
       "50%       7314.555556\n",
       "75%       8619.785714\n",
       "max      68091.428571\n",
       "Name: avr_check, dtype: float64"
      ]
     },
     "metadata": {},
     "output_type": "display_data"
    }
   ],
   "source": [
    "# группируем доход по датам и доходу и кол-ву транзкаций\n",
    "orders_A_revenue_cum_check = orders_A.groupby('date').agg({'revenue': 'sum', 'transactionid' : 'count'})\n",
    "orders_A_revenue_cum_check = orders_A_revenue_cum_check.reset_index()\n",
    "orders_A_revenue_cum_check['avr_check'] = orders_A_revenue_cum_check['revenue'] / orders_A_revenue_cum_check['transactionid']\n",
    "\n",
    "orders_B_revenue_cum_check = orders_B.groupby('date').agg({'revenue': 'sum', 'transactionid' : 'count'})\n",
    "orders_B_revenue_cum = orders_B_revenue_cum_check.reset_index()\n",
    "orders_B_revenue_cum_check['avr_check'] = orders_B_revenue_cum_check['revenue'] / orders_B_revenue_cum_check['transactionid']\n",
    "\n",
    "display(orders_A_revenue_cum_check['avr_check'].describe())\n",
    "display(orders_B_revenue_cum_check['avr_check'].describe())"
   ]
  },
  {
   "cell_type": "code",
   "execution_count": 14,
   "metadata": {},
   "outputs": [
    {
     "data": {
      "image/png": "[encoded data removed]",
      "text/plain": [
       "<Figure size 1440x432 with 1 Axes>"
      ]
     },
     "metadata": {
      "needs_background": "light"
     },
     "output_type": "display_data"
    }
   ],
   "source": [
    "#строим график динамики кумулятивного среднего чека по группам\n",
    "fig, ax= plt.subplots(1,1,figsize=(20, 6))\n",
    "x= orders_A_revenue_cum_check['date']\n",
    "y1 = orders_A_revenue_cum_check['avr_check']\n",
    "y2 = orders_B_revenue_cum_check['avr_check']\n",
    "ax.plot(x, y1, label = 'Средний чек группы A')\n",
    "ax.plot(x, y2, label = 'Средний чек группы B')\n",
    "ax.legend(loc='upper left')\n",
    "ax.set_title('Динамика среднего чека по группам по дням')\n",
    "ax.set_xlabel('даты')\n",
    "ax.set_ylabel('Средний чек руб')\n",
    "plt.show()"
   ]
  },
  {
   "cell_type": "markdown",
   "metadata": {},
   "source": [
    "#### Комментарий\n",
    "По-прежнему наблюдается всплеск 19.08.2019 - это означает, что дело не в наплыве пользователей (иначе всплеска среднего чека не было), а в крупном заказе или техническом сбое."
   ]
  },
  {
   "cell_type": "markdown",
   "metadata": {},
   "source": [
    "### Относительное изменение среднего чека"
   ]
  },
  {
   "cell_type": "code",
   "execution_count": 15,
   "metadata": {},
   "outputs": [
    {
     "data": {
      "image/png": "[encoded data removed]",
      "text/plain": [
       "<Figure size 1440x432 with 1 Axes>"
      ]
     },
     "metadata": {
      "needs_background": "light"
     },
     "output_type": "display_data"
    }
   ],
   "source": [
    "# собираем данные в одном датафрейме\n",
    "mergedCumulativeRevenue = cumulativeRevenueA.merge(cumulativeRevenueB, left_on='date', right_on='date', how='left', suffixes=['A', 'B'])\n",
    "\n",
    "# cтроим отношение средних чеков\n",
    "fig, ax= plt.subplots(1,1,figsize=(20, 6))\n",
    "x= mergedCumulativeRevenue['date']\n",
    "y1 = ((mergedCumulativeRevenue['revenueB']/mergedCumulativeRevenue['ordersB'])/(mergedCumulativeRevenue['revenueA']/mergedCumulativeRevenue['ordersA'])-1)*100\n",
    "ax.plot(x, y1, label = 'Изменение среднего чека B относительно A')\n",
    "ax.legend(loc='upper left')\n",
    "ax.set_title('Динамика относительного изменения среднего чека группы B к A')\n",
    "ax.set_xlabel('даты')\n",
    "ax.set_ylabel('%')\n",
    "ax.axhline(y=0, color='black', linestyle='--') \n",
    "plt.show()"
   ]
  },
  {
   "cell_type": "markdown",
   "metadata": {},
   "source": [
    "#### Комментарий\n",
    "- С 02-08 по 11-08 средний чек группы B превышал группу A в диапазоне 5-35%\n",
    "- 12 - 13.08. упал относительно группы A на 10%\n",
    "- 19.08. произошел аномальный рост среднего чека группы B и это отразилось на относительном изменении(на 50% к A). Далее средний чек группы B постепенно снижается."
   ]
  },
  {
   "cell_type": "markdown",
   "metadata": {},
   "source": [
    "### Кумулятивная конверсия"
   ]
  },
  {
   "cell_type": "code",
   "execution_count": 16,
   "metadata": {},
   "outputs": [
    {
     "data": {
      "image/png": "[encoded data removed]",
      "text/plain": [
       "<Figure size 1440x432 with 1 Axes>"
      ]
     },
     "metadata": {
      "needs_background": "light"
     },
     "output_type": "display_data"
    }
   ],
   "source": [
    "# считаем кумулятивную конверсию\n",
    "cumulativeData['conversion'] = cumulativeData['orders']/cumulativeData['visitors']\n",
    "\n",
    "# отделяем данные по группе A\n",
    "cumulativeDataA = cumulativeData[cumulativeData['group']=='A']\n",
    "\n",
    "# отделяем данные по группе B\n",
    "cumulativeDataB = cumulativeData[cumulativeData['group']=='B']\n",
    "\n",
    "#строим график динамики кумулятивной конверсии по группам\n",
    "fig, ax= plt.subplots(1,1,figsize=(20, 6))\n",
    "x1 = cumulativeDataA['date']\n",
    "x2 = cumulativeDataB['date']\n",
    "y1 = cumulativeDataA['conversion'] * 100\n",
    "y2 = cumulativeDataB['conversion'] * 100\n",
    "ax.plot(x1, y1, label = 'Кум.конверсия группы A')\n",
    "ax.plot(x2, y2, label = 'Кум.конверсия группы B')\n",
    "ax.legend(loc='upper left')\n",
    "ax.set_title('Динамика кумулятивной конверсии по группам по дням')\n",
    "ax.set_xlabel('даты')\n",
    "ax.set_ylabel('Конверсия %')\n",
    "plt.show()"
   ]
  },
  {
   "cell_type": "markdown",
   "metadata": {},
   "source": [
    "#### Комментарий\n",
    "Кумулятивная конверсия группы B превысила группу A с 06.08.2019 и далее оставалась выше. Колебания сохраняются"
   ]
  },
  {
   "cell_type": "markdown",
   "metadata": {},
   "source": [
    "### Относительное изменение конверсии"
   ]
  },
  {
   "cell_type": "code",
   "execution_count": 17,
   "metadata": {
    "scrolled": true
   },
   "outputs": [
    {
     "data": {
      "image/png": "[encoded data removed]",
      "text/plain": [
       "<Figure size 1440x432 with 1 Axes>"
      ]
     },
     "metadata": {
      "needs_background": "light"
     },
     "output_type": "display_data"
    }
   ],
   "source": [
    "# собираем данные в одном датафрейме\n",
    "mergedCumulativeConversions = cumulativeDataA[['date','conversion']].merge(cumulativeDataB[['date','conversion']], left_on='date', right_on='date', how='left', suffixes=['A', 'B'])\n",
    "# cтроим отношение конверсий\n",
    "fig, ax= plt.subplots(1,1,figsize=(20, 6))\n",
    "x= mergedCumulativeConversions['date']\n",
    "y1 = ((mergedCumulativeConversions['conversionB']/mergedCumulativeConversions['conversionA']-1)*100)\n",
    "ax.plot(x, y1, label = 'Изменение среднего чека B относительно A')\n",
    "ax.legend(loc='upper left')\n",
    "ax.set_title('Динамика относительного изменения конверсии группы B к A')\n",
    "ax.set_xlabel('даты')\n",
    "ax.set_ylabel('%')\n",
    "ax.axhline(y=0, color='black', linestyle='--') \n",
    "ax.axhline(y=15, color='grey', linestyle='--') \n",
    "plt.show()"
   ]
  },
  {
   "cell_type": "markdown",
   "metadata": {},
   "source": [
    "#### Комментарий\n",
    "- 02.08.2019 произошел рост относительного изменения конверсии - +5% группа B к группе A\n",
    "- 03-05.08.2019 группа A была ниже группы B, далее показатель конверсии группы A рос до +20% 15.08., затем постепенно снижался, и к концу теста стал около +15% относительно группы A"
   ]
  },
  {
   "cell_type": "markdown",
   "metadata": {},
   "source": [
    "### Кол-во заказов по пользователям"
   ]
  },
  {
   "cell_type": "code",
   "execution_count": 18,
   "metadata": {},
   "outputs": [],
   "source": [
    "# подсчитаем количество заказов по пользователям\n",
    "ordersByUsers = (\n",
    "    df_orders.drop(['group', 'revenue', 'date'], axis=1)\n",
    "    .groupby('visitorid', as_index=False)\n",
    "    .agg({'transactionid': pd.Series.nunique})\n",
    ")\n",
    "ordersByUsers.columns = ['userId', 'orders']"
   ]
  },
  {
   "cell_type": "code",
   "execution_count": 19,
   "metadata": {
    "scrolled": false
   },
   "outputs": [
    {
     "data": {
      "image/png": "[encoded data removed]",
      "text/plain": [
       "<Figure size 1440x432 with 1 Axes>"
      ]
     },
     "metadata": {
      "needs_background": "light"
     },
     "output_type": "display_data"
    }
   ],
   "source": [
    "# строим точечный график кол-ва заказов\n",
    "x_values = pd.Series(range(0,len(ordersByUsers)))\n",
    "fig, ax= plt.subplots(1,1,figsize=(20, 6))\n",
    "x= x_values\n",
    "y1 = ordersByUsers['orders']\n",
    "ax.scatter(x, y1)\n",
    "ax.set_title('График кол-ва заказов')\n",
    "ax.set_xlabel('клиенты')\n",
    "ax.set_ylabel('кол-во заказов')\n",
    "plt.show()"
   ]
  },
  {
   "cell_type": "markdown",
   "metadata": {},
   "source": [
    "#### Комментарий\n",
    "Большинство клиентов заказывали 1 раз, но есть много пользователей с 2 заказами"
   ]
  },
  {
   "cell_type": "code",
   "execution_count": 20,
   "metadata": {
    "scrolled": true
   },
   "outputs": [
    {
     "name": "stdout",
     "output_type": "stream",
     "text": [
      "[2. 4.]\n",
      "2\n"
     ]
    }
   ],
   "source": [
    "# считаем 95 и 99 перцентили\n",
    "print(np.percentile(ordersByUsers['orders'], [95, 99])) \n",
    "orders_percentile_95 = np.percentile(ordersByUsers['orders'], [95])\n",
    "orders_percentile_95 = orders_percentile_95.astype('int').tolist()\n",
    "orders_percentile_95 = orders_percentile_95[0]\n",
    "print(orders_percentile_95)"
   ]
  },
  {
   "cell_type": "markdown",
   "metadata": {},
   "source": [
    "#### Комментарии\n",
    "Не более 5% пользователей заказывали более 2х раз и не более 1% пользователей заказывали более 4х раз.\n",
    "\n",
    "Остановимся на 2х заказах как нижней границы для отсечения аномальных пользователей."
   ]
  },
  {
   "cell_type": "markdown",
   "metadata": {},
   "source": [
    "### Стоимость заказов"
   ]
  },
  {
   "cell_type": "code",
   "execution_count": 21,
   "metadata": {},
   "outputs": [
    {
     "data": {
      "image/png": "[encoded data removed]",
      "text/plain": [
       "<Figure size 1440x432 with 1 Axes>"
      ]
     },
     "metadata": {
      "needs_background": "light"
     },
     "output_type": "display_data"
    }
   ],
   "source": [
    "#построим гистограмму распределения по стоимостей заказов\n",
    "x_values = pd.Series(range(0,len(df_orders['revenue'])))\n",
    "fig, ax= plt.subplots(1,1,figsize=(20, 6))\n",
    "x= x_values\n",
    "y1 = df_orders['revenue']\n",
    "ax.scatter(x, y1)\n",
    "ax.set_title('График стоимости заказов')\n",
    "ax.set_xlabel('заказы')\n",
    "ax.set_ylabel('частота')\n",
    "plt.show()"
   ]
  },
  {
   "cell_type": "markdown",
   "metadata": {},
   "source": [
    "#### Комментарий\n",
    "Большинство заказов лежит в диапазоне до 100 тыс. руб. Есть аномальный заказ, который мы выявили ранее на 1,4 млн."
   ]
  },
  {
   "cell_type": "code",
   "execution_count": 22,
   "metadata": {},
   "outputs": [
    {
     "name": "stdout",
     "output_type": "stream",
     "text": [
      "[28000.  58233.2]\n",
      "28000\n"
     ]
    }
   ],
   "source": [
    "# считаем 95 и 99 перцентили\n",
    "print(np.percentile(df_orders['revenue'], [95, 99])) \n",
    "revenue_percentile_95 = np.percentile(df_orders['revenue'], [95])\n",
    "revenue_percentile_95 = revenue_percentile_95.astype('int').tolist()\n",
    "revenue_percentile_95 = revenue_percentile_95[0]\n",
    "print(revenue_percentile_95)"
   ]
  },
  {
   "cell_type": "markdown",
   "metadata": {},
   "source": [
    "#### Комментарии\n",
    "Не более 5% заказов стоимостью более 28 тыс. руб. и не более 1% стоимостью более 58 тыс. руб.\n",
    "\n",
    "Остановимся на 28 тыс. как нижней границы для отсечения аномальных пользователей."
   ]
  },
  {
   "cell_type": "markdown",
   "metadata": {},
   "source": [
    "### Статистическая значимость на \"сырых\" данных по конверсии и среднему чеку"
   ]
  },
  {
   "cell_type": "code",
   "execution_count": 23,
   "metadata": {},
   "outputs": [],
   "source": [
    "# подготовим таблицу с датами и кол-ву пользователей\n",
    "visitorsADaily = df_visitors[df_visitors['group'] == 'A'][['date', 'visitors']]\n",
    "visitorsADaily.columns = ['date', 'visitorsPerDateA']\n",
    "\n",
    "visitorsBDaily = df_visitors[df_visitors['group'] == 'B'][['date', 'visitors']]\n",
    "visitorsBDaily.columns = ['date', 'visitorsPerDateB']\n",
    "\n",
    "# расчет кумулятивного кол-ва пользователей\n",
    "visitorsACummulative = visitorsADaily.apply(lambda x: visitorsADaily[visitorsADaily['date'] <= x['date']].agg({'date': 'max', 'visitorsPerDateA': 'sum'}),axis=1)\n",
    "visitorsACummulative.columns = ['date', 'visitorsCummulativeA']\n",
    "\n",
    "visitorsBCummulative = visitorsBDaily.apply(lambda x: visitorsBDaily[visitorsBDaily['date'] <= x['date']].agg({'date': 'max', 'visitorsPerDateB': 'sum'}),axis=1,)\n",
    "visitorsBCummulative.columns = ['date', 'visitorsCummulativeB']"
   ]
  },
  {
   "cell_type": "code",
   "execution_count": 24,
   "metadata": {
    "scrolled": true
   },
   "outputs": [
    {
     "data": {
      "text/html": [
       "<div>\n",
       "<style scoped>\n",
       "    .dataframe tbody tr th:only-of-type {\n",
       "        vertical-align: middle;\n",
       "    }\n",
       "\n",
       "    .dataframe tbody tr th {\n",
       "        vertical-align: top;\n",
       "    }\n",
       "\n",
       "    .dataframe thead th {\n",
       "        text-align: right;\n",
       "    }\n",
       "</style>\n",
       "<table border=\"1\" class=\"dataframe\">\n",
       "  <thead>\n",
       "    <tr style=\"text-align: right;\">\n",
       "      <th></th>\n",
       "      <th>date</th>\n",
       "      <th>ordersPerDateA</th>\n",
       "      <th>revenuePerDateA</th>\n",
       "      <th>ordersPerDateB</th>\n",
       "      <th>revenuePerDateB</th>\n",
       "      <th>ordersCummulativeA</th>\n",
       "      <th>revenueCummulativeA</th>\n",
       "      <th>ordersCummulativeB</th>\n",
       "      <th>revenueCummulativeB</th>\n",
       "      <th>visitorsPerDateA</th>\n",
       "      <th>visitorsPerDateB</th>\n",
       "      <th>visitorsCummulativeA</th>\n",
       "      <th>visitorsCummulativeB</th>\n",
       "    </tr>\n",
       "  </thead>\n",
       "  <tbody>\n",
       "    <tr>\n",
       "      <td>0</td>\n",
       "      <td>2019-08-01</td>\n",
       "      <td>24</td>\n",
       "      <td>148579</td>\n",
       "      <td>21</td>\n",
       "      <td>101217</td>\n",
       "      <td>24</td>\n",
       "      <td>148579</td>\n",
       "      <td>21</td>\n",
       "      <td>101217</td>\n",
       "      <td>719</td>\n",
       "      <td>713</td>\n",
       "      <td>719</td>\n",
       "      <td>713</td>\n",
       "    </tr>\n",
       "    <tr>\n",
       "      <td>1</td>\n",
       "      <td>2019-08-02</td>\n",
       "      <td>20</td>\n",
       "      <td>93822</td>\n",
       "      <td>24</td>\n",
       "      <td>165531</td>\n",
       "      <td>44</td>\n",
       "      <td>242401</td>\n",
       "      <td>45</td>\n",
       "      <td>266748</td>\n",
       "      <td>619</td>\n",
       "      <td>581</td>\n",
       "      <td>1338</td>\n",
       "      <td>1294</td>\n",
       "    </tr>\n",
       "    <tr>\n",
       "      <td>2</td>\n",
       "      <td>2019-08-03</td>\n",
       "      <td>24</td>\n",
       "      <td>112473</td>\n",
       "      <td>16</td>\n",
       "      <td>114248</td>\n",
       "      <td>68</td>\n",
       "      <td>354874</td>\n",
       "      <td>61</td>\n",
       "      <td>380996</td>\n",
       "      <td>507</td>\n",
       "      <td>509</td>\n",
       "      <td>1845</td>\n",
       "      <td>1803</td>\n",
       "    </tr>\n",
       "    <tr>\n",
       "      <td>3</td>\n",
       "      <td>2019-08-04</td>\n",
       "      <td>16</td>\n",
       "      <td>70825</td>\n",
       "      <td>17</td>\n",
       "      <td>108571</td>\n",
       "      <td>84</td>\n",
       "      <td>425699</td>\n",
       "      <td>78</td>\n",
       "      <td>489567</td>\n",
       "      <td>717</td>\n",
       "      <td>770</td>\n",
       "      <td>2562</td>\n",
       "      <td>2573</td>\n",
       "    </tr>\n",
       "    <tr>\n",
       "      <td>4</td>\n",
       "      <td>2019-08-05</td>\n",
       "      <td>25</td>\n",
       "      <td>124218</td>\n",
       "      <td>23</td>\n",
       "      <td>92428</td>\n",
       "      <td>109</td>\n",
       "      <td>549917</td>\n",
       "      <td>101</td>\n",
       "      <td>581995</td>\n",
       "      <td>756</td>\n",
       "      <td>707</td>\n",
       "      <td>3318</td>\n",
       "      <td>3280</td>\n",
       "    </tr>\n",
       "  </tbody>\n",
       "</table>\n",
       "</div>"
      ],
      "text/plain": [
       "        date  ordersPerDateA  revenuePerDateA  ordersPerDateB  \\\n",
       "0 2019-08-01              24           148579              21   \n",
       "1 2019-08-02              20            93822              24   \n",
       "2 2019-08-03              24           112473              16   \n",
       "3 2019-08-04              16            70825              17   \n",
       "4 2019-08-05              25           124218              23   \n",
       "\n",
       "   revenuePerDateB  ordersCummulativeA  revenueCummulativeA  \\\n",
       "0           101217                  24               148579   \n",
       "1           165531                  44               242401   \n",
       "2           114248                  68               354874   \n",
       "3           108571                  84               425699   \n",
       "4            92428                 109               549917   \n",
       "\n",
       "   ordersCummulativeB  revenueCummulativeB  visitorsPerDateA  \\\n",
       "0                  21               101217               719   \n",
       "1                  45               266748               619   \n",
       "2                  61               380996               507   \n",
       "3                  78               489567               717   \n",
       "4                 101               581995               756   \n",
       "\n",
       "   visitorsPerDateB  visitorsCummulativeA  visitorsCummulativeB  \n",
       "0               713                   719                   713  \n",
       "1               581                  1338                  1294  \n",
       "2               509                  1845                  1803  \n",
       "3               770                  2562                  2573  \n",
       "4               707                  3318                  3280  "
      ]
     },
     "metadata": {},
     "output_type": "display_data"
    }
   ],
   "source": [
    "# подготовим таблицу с датами и заказам\n",
    "ordersADaily = (df_orders[df_orders['group'] == 'A'][['date', 'transactionid', 'visitorid', 'revenue']].groupby('date', as_index=False).agg({'transactionid': pd.Series.nunique, 'revenue': 'sum'}))\n",
    "ordersADaily.columns = ['date', 'ordersPerDateA', 'revenuePerDateA']\n",
    "\n",
    "ordersACummulative = ordersADaily.apply(lambda x: ordersADaily[ordersADaily['date'] <= x['date']].agg({'date': 'max', 'ordersPerDateA': 'sum', 'revenuePerDateA': 'sum'}),axis=1,).sort_values(by=['date'])\n",
    "ordersACummulative.columns = ['date','ordersCummulativeA','revenueCummulativeA']\n",
    "\n",
    "ordersBDaily = (df_orders[df_orders['group'] == 'B'][['date', 'transactionid', 'visitorid', 'revenue']].groupby('date', as_index=False).agg({'transactionid': pd.Series.nunique, 'revenue': 'sum'}))\n",
    "ordersBDaily.columns = ['date', 'ordersPerDateB', 'revenuePerDateB']\n",
    "\n",
    "ordersBCummulative = ordersBDaily.apply(lambda x: ordersBDaily[ordersBDaily['date'] <= x['date']].agg({'date': 'max', 'ordersPerDateB': 'sum', 'revenuePerDateB': 'sum'}),axis=1,).sort_values(by=['date'])\n",
    "ordersBCummulative.columns = ['date','ordersCummulativeB','revenueCummulativeB']\n",
    "#объединяем все таблицы в одну\n",
    "data = (ordersADaily.merge(ordersBDaily, left_on='date', right_on='date', how='left').merge(ordersACummulative, left_on='date', right_on='date', how='left').merge(ordersBCummulative, left_on='date', right_on='date', how='left').merge(visitorsADaily, left_on='date', right_on='date', how='left').merge(visitorsBDaily, left_on='date', right_on='date', how='left').merge(visitorsACummulative, left_on='date', right_on='date', how='left').merge(visitorsBCummulative, left_on='date', right_on='date', how='left'))\n",
    "\n",
    "display(data.head(5)) \n"
   ]
  },
  {
   "cell_type": "markdown",
   "metadata": {},
   "source": [
    "#### Описание столбцов data"
   ]
  },
  {
   "cell_type": "markdown",
   "metadata": {},
   "source": [
    "- date — дата;\n",
    "- ordersPerDateA — количество заказов в выбранную дату в группе A;\n",
    "- revenuePerDateA — суммарная выручка в выбранную дату в группе A;\n",
    "- ordersPerDateB — количество заказов в выбранную дату в группе B;\n",
    "- revenuePerDateB — суммарная выручка в выбранную дату в группе B;\n",
    "- ordersCummulativeA — суммарное число заказов до выбранной даты включительно в группе A;\n",
    "- revenueCummulativeA — суммарная выручка до выбранной даты включительно в группе A;\n",
    "- ordersCummulativeB — суммарное количество заказов до выбранной даты включительно в группе B;\n",
    "- revenueCummulativeB — суммарная выручка до выбранной даты включительно в группе B;\n",
    "- visitorsPerDateA — количество пользователей в выбранную дату в группе A;\n",
    "- visitorsPerDateB — количество пользователей в выбранную дату в группе B;\n",
    "- visitorsCummulativeA — количество пользователей до выбранной даты включительно в группе A;\n",
    "- visitorsCummulativeB — количество пользователей до выбранной даты включительно в группе B."
   ]
  },
  {
   "cell_type": "markdown",
   "metadata": {},
   "source": [
    "#### Формулировки гипотез\n",
    "**Проверка нормальности распределений:**\n",
    "- Нулевая гипотеза - распределение в выборках нормальное\n",
    "\n",
    "- Альтернативная гипотеза - распределение в выборках не нормальное\n",
    "\n",
    "**Проверка различий в выборках:**\n",
    "\n",
    "*Конверсия*\n",
    "- Нулевая гипотеза - результаты по конверсии по группам A и B случайны и на самом деле наблюдаемые различия случайны.\n",
    "\n",
    "- Альтернативная гипотеза - результаты по конверсии по группам A и B действительно отличаются\n",
    "\n",
    "*Средний чек*\n",
    "- Нулевая гипотеза - результаты по среднему чеку по группам A и B случайны и на самом деле наблюдаемые различия случайны.\n",
    "\n",
    "- Альтернативная гипотеза - результаты по среднему чеку по группам A и B действительно отличаются"
   ]
  },
  {
   "cell_type": "code",
   "execution_count": 25,
   "metadata": {},
   "outputs": [
    {
     "name": "stdout",
     "output_type": "stream",
     "text": [
      "p-значение тест Шапиро-Уилка по выборке A:  0.0\n",
      "Отвергаем нулевую гипотезу по выборке A: распределение не нормально\n",
      "p-значение тест Шапиро-Уилка по выборке B:  0.0\n",
      "Отвергаем нулевую гипотезу по выборке B: распределение не нормально\n",
      "p-value конверсии: 0.017\n",
      "относительное различие конверсий: 0.138\n",
      "p-value средние чеки:0.729\n",
      "относительное различие средних чеков:0.259\n"
     ]
    }
   ],
   "source": [
    "#сформируем таблицы по пользователям с как минимум 1 заказом\n",
    "ordersByUsersA = (\n",
    "    df_orders[df_orders['group'] == 'A']\n",
    "    .groupby('visitorid', as_index=False)\n",
    "    .agg({'transactionid': pd.Series.nunique})\n",
    ")\n",
    "ordersByUsersA.columns = ['userId', 'orders']\n",
    "\n",
    "ordersByUsersB = (\n",
    "    df_orders[df_orders['group'] == 'B']\n",
    "    .groupby('visitorid', as_index=False)\n",
    "    .agg({'transactionid': pd.Series.nunique})\n",
    ")\n",
    "ordersByUsersB.columns = ['userId', 'orders']\n",
    "#создадим списки с кол-вом записей по заказам по группам\n",
    "sampleA = pd.concat([ordersByUsersA['orders'],pd.Series(0, index=np.arange(data['visitorsPerDateA'].sum() - len(ordersByUsersA['orders'])), name='orders')],axis=0)\n",
    "\n",
    "sampleB = pd.concat([ordersByUsersB['orders'],pd.Series(0, index=np.arange(data['visitorsPerDateB'].sum() - len(ordersByUsersB['orders'])), name='orders')],axis=0)\n",
    "#проверим выборки на нормальность распределения\n",
    "alpha = 0.05\n",
    "results1 = stats.shapiro(sampleA)\n",
    "p_value1 = results1[1]\n",
    "print('p-значение тест Шапиро-Уилка по выборке A: ', p_value1)\n",
    "\n",
    "if p_value1 < alpha:\n",
    "    print('Отвергаем нулевую гипотезу по выборке A: распределение не нормально')\n",
    "else:\n",
    "    print('Не получилось отвергнуть нулевую гипотезу по выборке A:, всё нормально') \n",
    "    \n",
    "alpha = 0.05\n",
    "results2 = stats.shapiro(sampleB)\n",
    "p_value2 = results1[1]\n",
    "print('p-значение тест Шапиро-Уилка по выборке B: ', p_value2)\n",
    "\n",
    "if p_value2 < alpha:\n",
    "    print('Отвергаем нулевую гипотезу по выборке B: распределение не нормально')\n",
    "else:\n",
    "    print('Не получилось отвергнуть нулевую гипотезу по выборке B:, всё нормально') \n",
    "\n",
    "# печатаем p-value - вероятность, получить имеющиеся различия в выборке при условии, что нулевая гипотеза об их отсутствии в генеральной совокупности верна\n",
    "print(\"p-value конверсии: {0:.3f}\".format(stats.mannwhitneyu(sampleA, sampleB, alternative='two-sided')[1]))\n",
    "# относительное различие конверсии\n",
    "print(\"относительное различие конверсий: {0:.3f}\".format(sampleB.mean() / sampleA.mean() - 1))\n",
    "\n",
    "# p-value и относительное различие по среднему чеку\n",
    "print('p-value средние чеки:{0:.3f}'.format(stats.mannwhitneyu(df_orders[df_orders['group']=='A']['revenue'], df_orders[df_orders['group']=='B']['revenue'], alternative='two-sided')[1]))\n",
    "print('относительное различие средних чеков:{0:.3f}'.format(df_orders[df_orders['group']=='B']['revenue'].mean()/df_orders[df_orders['group']=='A']['revenue'].mean()-1)) "
   ]
  },
  {
   "cell_type": "code",
   "execution_count": 26,
   "metadata": {},
   "outputs": [
    {
     "data": {
      "text/plain": [
       "0    1\n",
       "1    1\n",
       "2    1\n",
       "3    1\n",
       "4    1\n",
       "Name: orders, dtype: int64"
      ]
     },
     "execution_count": 26,
     "metadata": {},
     "output_type": "execute_result"
    }
   ],
   "source": [
    "sampleA.head()"
   ]
  },
  {
   "cell_type": "markdown",
   "metadata": {},
   "source": [
    "#### Обоснование выбора статистического метода"
   ]
  },
  {
   "cell_type": "markdown",
   "metadata": {},
   "source": [
    "- Так как распределение выборок ненормальное, использование параметрических методов оценки значимости некорректно.\n",
    "- Целесообразно выбрать непараметрический тест Манна-Уитни для определения сдвига и различий в данных выборок\n",
    "- Уровень статистистической значимости alfa выбран 0.05, а не 0.01, т.к. это позволяет снизить ошибку второго рода, когда неверно принимается нулевая гипотеза. Ошибки второго рода опаснее, т.к. можно пропустить критичные изменения и последствия от бездействия будут серьезнее, чем расход ресурсов на реализацию ложной альтернативной гипотезы притом, что вероятность такой случайной ошибки составляет всего 5%."
   ]
  },
  {
   "cell_type": "markdown",
   "metadata": {},
   "source": [
    "#### Комментарий"
   ]
  },
  {
   "cell_type": "markdown",
   "metadata": {},
   "source": [
    "\n",
    "**Конверсия**\n",
    "- p-value < 0,05 - нулевую гипотезу можно отвергнуть, т.е. вероятнее всего различия в генеральной совокупности действительно есть\n",
    "- конверсия группы B по сырым данным больше группы A на 13,8%\n",
    "\n",
    "**Средние чеки**\n",
    "- p-value > 0,05 - нулевую гипотезу не отвергаем, полученные различия могут быть случайны и отсутствовать в генеральной совокупности\n",
    "- средний чек группы B по сырым данным больше группы A на 25,9%"
   ]
  },
  {
   "cell_type": "markdown",
   "metadata": {},
   "source": [
    "### Статистическая значимость на \"очищенных\" данных по среднему чеку"
   ]
  },
  {
   "cell_type": "code",
   "execution_count": 27,
   "metadata": {},
   "outputs": [
    {
     "name": "stdout",
     "output_type": "stream",
     "text": [
      "1099    148427295\n",
      "18      199603092\n",
      "928     204675465\n",
      "23      237748145\n",
      "37      249864742\n",
      "dtype: int64\n",
      "(74,)\n"
     ]
    }
   ],
   "source": [
    "#вычленим пользователей с аномальным кол-вом заказов\n",
    "usersWithManyOrders = pd.concat(\n",
    "    [\n",
    "        ordersByUsersA[ordersByUsersA['orders'] > orders_percentile_95]['userId'],\n",
    "        ordersByUsersB[ordersByUsersB['orders'] > orders_percentile_95]['userId'],\n",
    "    ],\n",
    "    axis=0,\n",
    ")\n",
    "#вычленим аномально дорогие заказы\n",
    "usersWithExpensiveOrders = df_orders[df_orders['revenue'] > revenue_percentile_95]['visitorid']\n",
    "\n",
    "abnormalUsers = (\n",
    "    pd.concat([usersWithManyOrders, usersWithExpensiveOrders], axis=0)\n",
    "    .drop_duplicates()\n",
    "    .sort_values()\n",
    ")\n",
    "print(abnormalUsers.head(5))\n",
    "print(abnormalUsers.shape) "
   ]
  },
  {
   "cell_type": "code",
   "execution_count": 28,
   "metadata": {},
   "outputs": [
    {
     "name": "stdout",
     "output_type": "stream",
     "text": [
      "p-value конверсии:0.013\n",
      "относительное различие конверсий:0.173\n"
     ]
    }
   ],
   "source": [
    "#посчитаем статистическую значимость различий в конверсии между группами теста по очищенным данным\n",
    "sampleAFiltered = pd.concat(\n",
    "    [\n",
    "        ordersByUsersA[\n",
    "            np.logical_not(ordersByUsersA['userId'].isin(abnormalUsers))\n",
    "        ]['orders'],\n",
    "        pd.Series(\n",
    "            0,\n",
    "            index=np.arange(\n",
    "                data['visitorsPerDateA'].sum() - len(ordersByUsersA['orders'])\n",
    "            ),\n",
    "            name='orders',\n",
    "        ),\n",
    "    ],\n",
    "    axis=0,\n",
    ")\n",
    "\n",
    "sampleBFiltered = pd.concat(\n",
    "    [\n",
    "        ordersByUsersB[\n",
    "            np.logical_not(ordersByUsersB['userId'].isin(abnormalUsers))\n",
    "        ]['orders'],\n",
    "        pd.Series(\n",
    "            0,\n",
    "            index=np.arange(\n",
    "                data['visitorsPerDateB'].sum() - len(ordersByUsersB['orders'])\n",
    "            ),\n",
    "            name='orders',\n",
    "        ),\n",
    "    ],\n",
    "    axis=0,\n",
    ") \n",
    "\n",
    "print('p-value конверсии:{0:.3f}'.format(stats.mannwhitneyu(sampleAFiltered, sampleBFiltered, alternative='two-sided')[1]))\n",
    "print('относительное различие конверсий:{0:.3f}'.format(sampleBFiltered.mean()/sampleAFiltered.mean()-1))"
   ]
  },
  {
   "cell_type": "markdown",
   "metadata": {},
   "source": [
    "#### Комментарий\n",
    "- p-value практически без изменений, нулевую гипотезу можно отвергнуть, т.е. вероятнее всего различия в генеральной совокупности действительно есть\n",
    "- отностилеьная конверсия группы B к группе A с 13,8% до 17,3%"
   ]
  },
  {
   "cell_type": "code",
   "execution_count": 29,
   "metadata": {},
   "outputs": [
    {
     "name": "stdout",
     "output_type": "stream",
     "text": [
      "p-value среднего чека:0.738\n",
      "относительное различие среднего чека:-0.020\n"
     ]
    }
   ],
   "source": [
    "print('p-value среднего чека:''{0:.3f}'.format(stats.mannwhitneyu(\n",
    "            df_orders[\n",
    "                np.logical_and(\n",
    "                    df_orders['group'] == 'A',\n",
    "                    np.logical_not(df_orders['visitorid'].isin(abnormalUsers)),\n",
    "                )\n",
    "            ]['revenue'],\n",
    "            df_orders[\n",
    "                np.logical_and(\n",
    "                    df_orders['group'] == 'B',\n",
    "                    np.logical_not(df_orders['visitorid'].isin(abnormalUsers)),\n",
    "                )\n",
    "            ]['revenue'], alternative='two-sided'\n",
    "        )[1]\n",
    "    )\n",
    ")\n",
    "\n",
    "print('относительное различие среднего чека:'\n",
    "    \"{0:.3f}\".format(\n",
    "        df_orders[\n",
    "            np.logical_and(\n",
    "                df_orders['group'] == 'B',\n",
    "                np.logical_not(df_orders['visitorid'].isin(abnormalUsers)),\n",
    "            )\n",
    "        ]['revenue'].mean()\n",
    "        / df_orders[\n",
    "            np.logical_and(\n",
    "                df_orders['group'] == 'A',\n",
    "                np.logical_not(df_orders['visitorid'].isin(abnormalUsers)),\n",
    "            )\n",
    "        ]['revenue'].mean()\n",
    "        - 1\n",
    "    )\n",
    ") "
   ]
  },
  {
   "cell_type": "markdown",
   "metadata": {},
   "source": [
    "#### Комментарий\n",
    "- p-value стала немного выше, нулевую гипотезу по прежнему не отвергаем, полученные различия могут быть случайны и отсутствовать в генеральной совокупности\n",
    "- средний чек группы B по сырым данным значительно изменился и стал на 2% меньше группы A (по сырым данным был на 25% больше)"
   ]
  },
  {
   "cell_type": "markdown",
   "metadata": {},
   "source": [
    "## Выводы и заключение\n",
    "1. В данных есть аномалии - заказ от 19.08. на 1,4 млн. руб. Необходимо определить это сбой или крупный клиент.\n",
    "\n",
    "2. Данная аномалия искажает картину по кумулятивной конверсии и среднему чеку выводя группу теста B вперед.\n",
    "\n",
    "3. 95% клиентов имеют не более 2х заказов с суммами заказов не более 28 тыс. руб. Заказы выше данных ограничений были отнесены к необычным и отсеивались при анализе очищенных данных.\n",
    "\n",
    "4. В ходе оценки статистической значимости в конверсии и на сырых, и на очищенных данных нулевая гипотеза была отвергнута, т.е. различия вероятнее всего существуют (alpha = 0.05), относительное различие составило 13,8% на сырых данных и 17,3% очищенных. **Таким образом, по конверсии статистически значимое различие есть.**\n",
    "\n",
    "5. В ходе оценки статистической значимости в среднем чеке и на сырых, и на очищенных данных нулевая гипотеза была принята, т.е. различия могут быть случайны и отсутствовать в генеральной совокупности (alpha = 0.05), относительное различие составило 26% на сырых данных и -2% на очищенных. **Таким образом, по среднему чеку статистически значимого различия не установлено.**\n",
    "\n",
    "6. График различия конверсии между группами сообщает, что результаты группы B лучше группы A: имеют тенденцию к росту, либо зафиксировались около среднего значения в районе +15%\n",
    "\n",
    "7. График различия среднего чека колеблется - есть серьезные аномалии. Сделать из этого графика определённые выводы нельзя.\n",
    "\n",
    "\n",
    "**Заключение**\n",
    "\n",
    "1. Целесообразно остановить *данный* тест, признать группу B победившей с точки зрения конверсии, что подтвердилось оценкой статистической значимости, \n",
    "2. Но по среднему чеку статистически значимые различия не подтвердились для него необходимо тестирование других гипотез."
   ]
  }
 ],
 "metadata": {
  "ExecuteTimeLog": [
   {
    "duration": 1371,
    "start_time": "2021-09-11T10:00:53.339Z"
   },
   {
    "duration": 96,
    "start_time": "2021-09-11T10:00:54.712Z"
   },
   {
    "duration": 25,
    "start_time": "2021-09-11T10:00:54.812Z"
   },
   {
    "duration": 43,
    "start_time": "2021-09-11T10:00:54.839Z"
   },
   {
    "duration": 179,
    "start_time": "2021-09-11T10:00:54.884Z"
   },
   {
    "duration": 39,
    "start_time": "2021-09-11T10:00:55.065Z"
   },
   {
    "duration": 629,
    "start_time": "2021-09-11T10:00:55.107Z"
   },
   {
    "duration": 616,
    "start_time": "2021-09-11T10:00:55.740Z"
   },
   {
    "duration": 34,
    "start_time": "2021-09-11T10:00:56.359Z"
   },
   {
    "duration": 502,
    "start_time": "2021-09-11T10:00:56.396Z"
   },
   {
    "duration": 17,
    "start_time": "2021-09-11T10:00:56.901Z"
   },
   {
    "duration": 534,
    "start_time": "2021-09-11T10:00:56.920Z"
   },
   {
    "duration": 40,
    "start_time": "2021-09-11T10:00:57.457Z"
   },
   {
    "duration": 518,
    "start_time": "2021-09-11T10:00:57.500Z"
   },
   {
    "duration": 638,
    "start_time": "2021-09-11T10:00:58.021Z"
   },
   {
    "duration": 509,
    "start_time": "2021-09-11T10:00:58.662Z"
   },
   {
    "duration": 583,
    "start_time": "2021-09-11T10:00:59.173Z"
   },
   {
    "duration": 210,
    "start_time": "2021-09-11T10:00:59.760Z"
   },
   {
    "duration": 544,
    "start_time": "2021-09-11T10:00:59.972Z"
   },
   {
    "duration": 8,
    "start_time": "2021-09-11T10:01:00.518Z"
   },
   {
    "duration": 592,
    "start_time": "2021-09-11T10:01:00.528Z"
   },
   {
    "duration": 7,
    "start_time": "2021-09-11T10:01:01.123Z"
   },
   {
    "duration": 301,
    "start_time": "2021-09-11T10:01:01.137Z"
   },
   {
    "duration": 286,
    "start_time": "2021-09-11T10:01:01.441Z"
   },
   {
    "duration": 271,
    "start_time": "2021-09-11T10:01:01.730Z"
   },
   {
    "duration": 6,
    "start_time": "2021-09-11T10:01:02.004Z"
   },
   {
    "duration": 37,
    "start_time": "2021-09-11T10:01:02.013Z"
   },
   {
    "duration": 66,
    "start_time": "2021-09-11T10:01:02.052Z"
   },
   {
    "duration": 54,
    "start_time": "2021-09-11T10:01:02.120Z"
   },
   {
    "duration": 410,
    "start_time": "2021-09-11T10:49:06.887Z"
   },
   {
    "duration": 261,
    "start_time": "2021-09-11T10:49:12.120Z"
   },
   {
    "duration": 6,
    "start_time": "2021-09-11T10:51:55.567Z"
   },
   {
    "duration": 1098,
    "start_time": "2021-09-18T13:37:43.626Z"
   },
   {
    "duration": 115,
    "start_time": "2021-09-18T13:37:44.727Z"
   },
   {
    "duration": 16,
    "start_time": "2021-09-18T13:37:44.846Z"
   },
   {
    "duration": 13,
    "start_time": "2021-09-18T13:37:44.863Z"
   },
   {
    "duration": 90,
    "start_time": "2021-09-18T13:37:44.878Z"
   },
   {
    "duration": 28,
    "start_time": "2021-09-18T13:37:44.970Z"
   },
   {
    "duration": 387,
    "start_time": "2021-09-18T13:37:45.001Z"
   },
   {
    "duration": 295,
    "start_time": "2021-09-18T13:37:45.391Z"
   },
   {
    "duration": 14,
    "start_time": "2021-09-18T13:37:45.688Z"
   },
   {
    "duration": 290,
    "start_time": "2021-09-18T13:37:45.704Z"
   },
   {
    "duration": 10,
    "start_time": "2021-09-18T13:37:45.996Z"
   },
   {
    "duration": 279,
    "start_time": "2021-09-18T13:37:46.008Z"
   },
   {
    "duration": 22,
    "start_time": "2021-09-18T13:37:46.289Z"
   },
   {
    "duration": 288,
    "start_time": "2021-09-18T13:37:46.312Z"
   },
   {
    "duration": 487,
    "start_time": "2021-09-18T13:37:46.601Z"
   },
   {
    "duration": 285,
    "start_time": "2021-09-18T13:37:47.090Z"
   },
   {
    "duration": 367,
    "start_time": "2021-09-18T13:37:47.377Z"
   },
   {
    "duration": 111,
    "start_time": "2021-09-18T13:37:47.746Z"
   },
   {
    "duration": 357,
    "start_time": "2021-09-18T13:37:47.859Z"
   },
   {
    "duration": 5,
    "start_time": "2021-09-18T13:37:48.219Z"
   },
   {
    "duration": 399,
    "start_time": "2021-09-18T13:37:48.226Z"
   },
   {
    "duration": 5,
    "start_time": "2021-09-18T13:37:48.628Z"
   },
   {
    "duration": 165,
    "start_time": "2021-09-18T13:37:48.645Z"
   },
   {
    "duration": 158,
    "start_time": "2021-09-18T13:37:48.812Z"
   },
   {
    "duration": 124,
    "start_time": "2021-09-18T13:37:48.972Z"
   },
   {
    "duration": 5,
    "start_time": "2021-09-18T13:37:49.097Z"
   },
   {
    "duration": 23,
    "start_time": "2021-09-18T13:37:49.103Z"
   },
   {
    "duration": 17,
    "start_time": "2021-09-18T13:37:49.128Z"
   },
   {
    "duration": 16,
    "start_time": "2021-09-18T13:37:49.147Z"
   },
   {
    "duration": 330,
    "start_time": "2021-09-18T16:36:06.508Z"
   }
  ],
  "kernelspec": {
   "display_name": "Python 3",
   "language": "python",
   "name": "python3"
  },
  "language_info": {
   "codemirror_mode": {
    "name": "ipython",
    "version": 3
   },
   "file_extension": ".py",
   "mimetype": "text/x-python",
   "name": "python",
   "nbconvert_exporter": "python",
   "pygments_lexer": "ipython3",
   "version": "3.7.4"
  },
  "toc": {
   "base_numbering": 1,
   "nav_menu": {},
   "number_sections": true,
   "sideBar": true,
   "skip_h1_title": true,
   "title_cell": "Table of Contents",
   "title_sidebar": "Contents",
   "toc_cell": false,
   "toc_position": {},
   "toc_section_display": true,
   "toc_window_display": false
  }
 },
 "nbformat": 4,
 "nbformat_minor": 2
}
